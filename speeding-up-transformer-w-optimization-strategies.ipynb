{
 "cells": [
  {
   "cell_type": "markdown",
   "id": "adopted-quality",
   "metadata": {
    "papermill": {
     "duration": 0.0356,
     "end_time": "2021-07-01T07:51:19.259650",
     "exception": false,
     "start_time": "2021-07-01T07:51:19.224050",
     "status": "completed"
    },
    "tags": []
   },
   "source": [
    "<font color='#2980B9'><center><h2>Speeding up Transformer with Optimization Strategies</h2></center></font>\n",
    "<br>\n",
    "\n",
    "<font color='#3498DB'><h3>Introduction</h3></font>\n",
    "\n",
    "For training the state-of-the-art or SOTA models, GPU is a big necessity. And even if we can procure one from **Google Colab** or **Kaggle**, there still comes the problem of memory constraints.   \n",
    "\n",
    "We are more or less accustomed to seeing the **OOM (Out of Memory)** or **GPU Runtime Limit Reached** errors whenever we throw a large batch, large model, longer epochs, etc. to train. \n",
    "\n",
    "*This notebook will foray into how we can solve these issues using various optimization strategies with in-depth analysis and code.* \n",
    "<br>\n",
    "\n",
    "<font color='#3498DB'><h3>Problem</h3></font>\n",
    "\n",
    "The problem is far more **apparent** when we talk about **transformers**. Transformers are extremely memory intensive. Hence, there is quite a high probability that we will run out of memory or above the runtime limit while training larger models or for longer epochs.\n",
    "\n",
    "Like in this competition the **loss** is **oscillating/unstable**. For finding the best performing models the trick is to **evaluate** more **frequently** within each epoch than after every epoch. This is an intensive process and if the training is done in **folds** might result in GPU Runtime Limit Reached.\n",
    "<br>\n",
    "\n",
    "<font color='#3498DB'><h3>Solution</h3></font>\n",
    "\n",
    "There are some promising **well-known** out of the box **strategies** to solve these problems and each strategy comes with its own benefits. \n",
    " - Dyanmic Padding and Uniform Length Batching  \n",
    " - Gradient Accumulation  \n",
    " - Freeze Embedding  \n",
    " - Numeric Precision Reduction \n",
    " - Gradient Checkpointing\n",
    " \n",
    "*Note 1: All these optimizations are focussed on single-GPU only. These optimizations will work on multi-GPU as well but multi-GPU setting has more advanced techniques like DataParallel, DataParallelModel, ZeRO etc. which work much better for accelarating Transformers.*\n",
    "\n",
    "*Note 2: Gradient Checkpointing increases computation time but it helps to fit larger batch size in single pass. Thus, I've included this.*\n",
    "\n",
    "<br>\n",
    "\n",
    "<font color='#3498DB'><h3>Contents</h3></font>\n",
    "- [**Dynamic Padding and Uniform Length Batching (Smart Batching)**](#section1)\n",
    "  - [Introduction](#section10)\n",
    "      - [Dyanmic Padding](#section11)\n",
    "      - [Uniform Length Batching](#section12)\n",
    "  - [Read Dataset](#section13)\n",
    "  - [Load Tokenizer](#section14)\n",
    "  - [Tokenize without Padding](#section15)\n",
    "  - [Sort by Length](#section16)\n",
    "  - [Random Batch Selection](#section17)\n",
    "  - [Add Padding](#section18)\n",
    "    - [Comparison I](#section18a)\n",
    "  - [Unified Function - **make_smart_batches**](#section19)\n",
    "  - [Smart Batching with DataLoader, Collater, Sampler](#section110)\n",
    "    - [Components](#section110a)\n",
    "    - [Comparison II](#section110b)\n",
    "  - [Conclusion](#section111)\n",
    "  - [References & Resources](#section112)\n",
    "- [**Freeze Embedding**](#section2)\n",
    "  - [Introduction](#section20)\n",
    "  - [Idea](#section21)\n",
    "  - [Splits Analysis](#section22)\n",
    "  - [Implementation](#section23)\n",
    "  - [Conclusion](#section24)\n",
    "  - [References & Resources](#section25)\n",
    "- [**Numeric Precision Reduction**](#section3)\n",
    "  - [Introduction](#section30)\n",
    "  - [Floating Point Representation](#section31)\n",
    "  - [How to Use?](#section32)\n",
    "  - [Special Case](#section33)\n",
    "  - [References & Resources](#section34)\n",
    "- [**Gradient Accumulation**](#section4)\n",
    "  - [Introduction](#section40)\n",
    "  - [Implementation](#section41)\n",
    "  - [References & Resources](#section42)\n",
    "- [**Gradient Checkpointing**](#section5)\n",
    "  - [Introduction](#section50)\n",
    "  - [Idea](#section51)\n",
    "  - [References & Resources](#section52)\n",
    "- [**Ending Notes**](#section6)\n",
    "\n",
    "<font color='#3498DB'><h3>What's New?</h3></font>\n",
    "1. [SWA, Apex AMP & Interpreting Transformers in Torch](https://www.kaggle.com/rhtsingh/swa-apex-amp-interpreting-transformers-in-torch) notebook is an implementation of the Stochastic Weight Averaging technique with NVIDIA Apex on transformers using PyTorch. The notebook also implements how to interactively interpret Transformers using LIT (Language Interpretability Tool) a platform for NLP model understanding.   \n",
    "It has in-depth explanations and code implementations for,\n",
    " - SWA \n",
    " - Apex AMP\n",
    " - Weighted Layer Pooling\n",
    " - MADGRAD Optimizer\n",
    " - Grouped LLRD\n",
    " - Language Interpretibility Tool\n",
    "    - Attention Visualization\n",
    "    - Saliency Maps\n",
    "    - Integrated Gradients\n",
    "    - LIME \n",
    "    - Embedding Space (UMAP & PCA)\n",
    "    - Counterfactual generation\n",
    "    - And many more ...\n",
    "\n",
    "2. [Utilizing Transformer Representations Efficiently](https://www.kaggle.com/rhtsingh/utilizing-transformer-representations-efficiently) notebook will show many different ways these outputs and hidden representations can be utilized to do much more than just adding an output layer. It has code implementations and detailed explanations for all the below techniques,\n",
    " - Pooler Output  \n",
    " - Last Hidden State Output  \n",
    "    - CLS Embeddings  \n",
    "    - Mean Pooling  \n",
    "    - Max Pooling  \n",
    "    - Mean + Max Pooling  \n",
    "    - Conv1D Pooling  \n",
    " - Hidden Layers Output  \n",
    "    - Layerwise CLS Embeddings  \n",
    "    - Concatenate Pooling  \n",
    "    - Weighted Layer Pooling  \n",
    "    - LSTM / GRU Pooling  \n",
    "    - Attention Pooling  \n",
    "    - WKPooling  \n",
    "\n",
    "3. [On Stability of Few-Sample Transformer Fine-Tuning](https://www.kaggle.com/rhtsingh/on-stability-of-few-sample-transformer-fine-tuning) notebook goes over various remedies to increase few-sample fine-tuning stability and they show a significant performance improvement over simple finetuning methods. The methods explained in the notebook are - \n",
    " - Debiasing Omission In BertADAM\n",
    " - Re-Initializing Transformer Layers\n",
    " - Utilizing Intermediate Layers\n",
    " - Layer-wise Learning Rate Decay (LLRD) \n",
    " - Mixout Regularization\n",
    " - Pre-trained Weight Decay\n",
    " - Stochastic Weight Averaging. \n",
    " \n",
    "<font color='#3498DB'><h3>Fixes</h3></font>\n",
    "\n",
    " - <font color='#3498DB'>6/6/2021 - Fixed Dynamic Padding + Uniform Length Bacthing with DataLoader</font>\n",
    "   - Issue: Once the SmartBatchingSampler is initalized it returns the same sequence of randomly shuffled batches due to which randomness is reduced.\n",
    "   "
   ]
  },
  {
   "cell_type": "markdown",
   "id": "impossible-angel",
   "metadata": {
    "papermill": {
     "duration": 0.034691,
     "end_time": "2021-07-01T07:51:19.328837",
     "exception": false,
     "start_time": "2021-07-01T07:51:19.294146",
     "status": "completed"
    },
    "tags": []
   },
   "source": [
    "<font color='#3498DB'><a id=\"section1\"><h2>Dynamic Padding and Uniform Length Batching</h2></a></font>\n",
    "\n",
    "<font color='#3498DB'><a id=\"section10\"><h3>Introduction</h3></a></font>\n",
    "Training neural networks on a batch of sequences requires them to have the exact same length to build the batch matrix representation. Because real life NLP datasets are always made of texts of variable lengths, we often need to make some sequences shorter by truncating them, and some others longer by adding at the end a repeated fake token called “pad” token. \n",
    "\n",
    "Because the pad token doesn’t represent a real word, when most computations are done, before computing the loss, we erase the pad token signal by multiplying it by 0 through the “attention mask” matrix for each sample, which identifies the [PAD] tokens and tells Transformer to ignore them.\n",
    "\n",
    "![Fixed Padding](https://drive.google.com/uc?export=view&id=1UaVW3gxTSAD0E9CrCX48kn6QF_L_slP9)\n",
    "\n",
    "For e.g., In this competition, in order to feed multiple samples into RoBERTa at once, I am padding out all of the sentences to a \"fixed length\" of 250. \n",
    "This is the standard approach that I’ve used in all of my examples, and it’s certainly the simplest to implement, code-wise.\n",
    "\n",
    "<font color='#3498DB'><a id=\"section11\"><h3>Dynamic Padding</h3></a></font>\n",
    "Here we limit the number of added pad tokens to reach the length of the longest sequence of each mini batch instead of a fixed value set for the whole train set Because the number of added tokens changes across mini batches, we call it \"dynamic\" padding.\n",
    "\n",
    "![Dyanmic Padding](https://drive.google.com/uc?export=view&id=1UfJJ2sj1w6prvwQPwyqbQCgJbJ9qIC9V)\n",
    "\n",
    "\n",
    "<font color='#3498DB'><a id=\"section12\"><h3>Uniform Length Batching</h3></a></font>\n",
    "\n",
    "We push the logic futher by generating batches made of similar length sequences so we avoid extreme cases where most sequences in the mini batch are short and we are required to add lots of pad tokens to each of them because 1 sequence of the same mini batch is very long.\n",
    "\n",
    "![Uniform Length Batching](https://drive.google.com/uc?export=view&id=1UjQaOAkN-zPh10fSoXmZ-68jMdFLq2y_)\n",
    "\n",
    "*Note: In the above illustration the selected batches are in sequence, but we’ll actually be selecting them more randomly, to allow for more randomness to the order of the training data.*\n",
    "\n",
    "**That's it, we are done with theory and from here onwards, we will understand by implementing in code.**"
   ]
  },
  {
   "cell_type": "markdown",
   "id": "fabulous-electricity",
   "metadata": {
    "papermill": {
     "duration": 0.034741,
     "end_time": "2021-07-01T07:51:19.398291",
     "exception": false,
     "start_time": "2021-07-01T07:51:19.363550",
     "status": "completed"
    },
    "tags": []
   },
   "source": [
    "<font color='#3498DB'><a id=\"section13\"><h3>Read Dataset</h3></a></font>\n",
    "\n",
    "Here we will read our competition dataset."
   ]
  },
  {
   "cell_type": "code",
   "execution_count": 1,
   "id": "closing-bachelor",
   "metadata": {
    "execution": {
     "iopub.execute_input": "2021-07-01T07:51:19.474184Z",
     "iopub.status.busy": "2021-07-01T07:51:19.472376Z",
     "iopub.status.idle": "2021-07-01T07:51:21.442562Z",
     "shell.execute_reply": "2021-07-01T07:51:21.441529Z",
     "shell.execute_reply.started": "2021-06-01T19:21:20.343673Z"
    },
    "papermill": {
     "duration": 2.009682,
     "end_time": "2021-07-01T07:51:21.442755",
     "exception": false,
     "start_time": "2021-07-01T07:51:19.433073",
     "status": "completed"
    },
    "tags": []
   },
   "outputs": [],
   "source": [
    "import numpy as np\n",
    "import pandas as pd\n",
    "import matplotlib.pyplot as plt\n",
    "%matplotlib inline\n",
    "from transformers import AutoTokenizer\n",
    "from IPython.display import clear_output\n",
    "\n",
    "train = pd.read_csv('../input/commonlitreadabilityprize/train.csv', low_memory=False)\n",
    "test = pd.read_csv('../input/commonlitreadabilityprize/sample_submission.csv', low_memory=False)"
   ]
  },
  {
   "cell_type": "markdown",
   "id": "offensive-understanding",
   "metadata": {
    "papermill": {
     "duration": 0.033966,
     "end_time": "2021-07-01T07:51:21.511644",
     "exception": false,
     "start_time": "2021-07-01T07:51:21.477678",
     "status": "completed"
    },
    "tags": []
   },
   "source": [
    "<font color='#3498DB'><a id=\"section14\"><h3>Load Tokenizer</h3></a></font>\n",
    "\n",
    "We'll be using RoBERTa-base tokenizer."
   ]
  },
  {
   "cell_type": "code",
   "execution_count": 2,
   "id": "stuck-addition",
   "metadata": {
    "execution": {
     "iopub.execute_input": "2021-07-01T07:51:21.586585Z",
     "iopub.status.busy": "2021-07-01T07:51:21.585843Z",
     "iopub.status.idle": "2021-07-01T07:51:26.343547Z",
     "shell.execute_reply": "2021-07-01T07:51:26.342997Z",
     "shell.execute_reply.started": "2021-06-01T19:21:20.422648Z"
    },
    "papermill": {
     "duration": 4.797275,
     "end_time": "2021-07-01T07:51:26.343715",
     "exception": false,
     "start_time": "2021-07-01T07:51:21.546440",
     "status": "completed"
    },
    "tags": []
   },
   "outputs": [],
   "source": [
    "tokenizer = AutoTokenizer.from_pretrained('roberta-base')\n",
    "clear_output()"
   ]
  },
  {
   "cell_type": "markdown",
   "id": "appreciated-source",
   "metadata": {
    "papermill": {
     "duration": 0.033653,
     "end_time": "2021-07-01T07:51:26.412488",
     "exception": false,
     "start_time": "2021-07-01T07:51:26.378835",
     "status": "completed"
    },
    "tags": []
   },
   "source": [
    "<font color='#3498DB'><a id=\"section15\"><h3>Tokenize Without Padding</h3></a></font>\n",
    "\n",
    "<font color='#3498DB'><a id=\"section15a\"><h4>Peak GPU Memory Use</h4></a></font>\n",
    "Even when applying this technique, we may still want to truncate our inputs to a certain maximum length. All it takes is one batch that's too long to fit on the GPU, and our training will fail! Hence, it makes sense to truncate to something lower than 512, even with smart batching. \n",
    "\n",
    "*Note: We don't need to be concerned about this during training in this competition since the highest sequence length is less than 350.*\n",
    "\n",
    "<font color='#3498DB'><a id=\"section15b\"><h4>Tokenize, but don't pad</h4></a></font>\n",
    "\n",
    "We’re going to start by tokenizing all of the samples and mapping the tokens to their IDs. We’re also going to truncate the sequences to our chosen max_len, and we’re going to add the special tokens. But we are **not padding** yet!"
   ]
  },
  {
   "cell_type": "code",
   "execution_count": 3,
   "id": "eight-basics",
   "metadata": {
    "_kg_hide-input": true,
    "execution": {
     "iopub.execute_input": "2021-07-01T07:51:26.487099Z",
     "iopub.status.busy": "2021-07-01T07:51:26.486445Z",
     "iopub.status.idle": "2021-07-01T07:51:26.489104Z",
     "shell.execute_reply": "2021-07-01T07:51:26.489682Z",
     "shell.execute_reply.started": "2021-06-01T19:21:21.334448Z"
    },
    "papermill": {
     "duration": 0.043387,
     "end_time": "2021-07-01T07:51:26.489845",
     "exception": false,
     "start_time": "2021-07-01T07:51:26.446458",
     "status": "completed"
    },
    "tags": []
   },
   "outputs": [],
   "source": [
    "def good_update_interval(total_iters, num_desired_updates):\n",
    "    # find intervals for printing updates\n",
    "    exact_interval = total_iters / num_desired_updates\n",
    "    order_of_mag = len(str(total_iters)) - 1\n",
    "    round_mag = order_of_mag - 1\n",
    "    update_interval = int(round(exact_interval, -round_mag))\n",
    "    if update_interval == 0:\n",
    "        update_interval = 1\n",
    "    return update_interval"
   ]
  },
  {
   "cell_type": "code",
   "execution_count": 4,
   "id": "sporting-crest",
   "metadata": {
    "execution": {
     "iopub.execute_input": "2021-07-01T07:51:26.563846Z",
     "iopub.status.busy": "2021-07-01T07:51:26.563181Z",
     "iopub.status.idle": "2021-07-01T07:51:28.944760Z",
     "shell.execute_reply": "2021-07-01T07:51:28.945253Z",
     "shell.execute_reply.started": "2021-06-01T19:21:21.3411Z"
    },
    "papermill": {
     "duration": 2.421006,
     "end_time": "2021-07-01T07:51:28.945429",
     "exception": false,
     "start_time": "2021-07-01T07:51:26.524423",
     "status": "completed"
    },
    "tags": []
   },
   "outputs": [
    {
     "name": "stdout",
     "output_type": "stream",
     "text": [
      "Tokenizing 2,834 training samples...\n",
      "  Tokenized 0 samples.\n",
      "  Tokenized 600 samples.\n",
      "  Tokenized 1,200 samples.\n",
      "  Tokenized 1,800 samples.\n",
      "  Tokenized 2,400 samples.\n",
      "DONE.\n",
      "     2,834 samples\n"
     ]
    }
   ],
   "source": [
    "input_ids = []\n",
    "\n",
    "train_text = train.excerpt.values.tolist()\n",
    "train_targets = train.target.values.tolist()\n",
    "max_len = 350\n",
    "\n",
    "print('Tokenizing {:,} training samples...'.format(len(train_text)))\n",
    "\n",
    "update_interval = good_update_interval(total_iters=len(train_text), num_desired_updates=5)\n",
    "\n",
    "for text in train_text:\n",
    "    if ((len(input_ids) % update_interval) == 0):\n",
    "        print('  Tokenized {:,} samples.'.format(len(input_ids)))\n",
    "\n",
    "    input_id = tokenizer.encode(\n",
    "        text=text,           \n",
    "        add_special_tokens=True, \n",
    "        max_length=max_len,  \n",
    "        truncation=True,     \n",
    "        padding=False\n",
    "    )       \n",
    "                                 \n",
    "    input_ids.append(input_id)\n",
    "    \n",
    "print('DONE.')\n",
    "print('{:>10,} samples'.format(len(input_ids)))"
   ]
  },
  {
   "cell_type": "markdown",
   "id": "german-connecticut",
   "metadata": {
    "papermill": {
     "duration": 0.037609,
     "end_time": "2021-07-01T07:51:29.019151",
     "exception": false,
     "start_time": "2021-07-01T07:51:28.981542",
     "status": "completed"
    },
    "tags": []
   },
   "source": [
    "<font color='#3498DB'><a id=\"section16\"><h3>Sort by length</h3></a></font>\n",
    "\n",
    "Let’s look at the lengths of the samples in their original, unsorted order.\n",
    "The below plot simply confirms that the sample lengths do vary significantly, and that they are unsorted."
   ]
  },
  {
   "cell_type": "code",
   "execution_count": 5,
   "id": "environmental-representation",
   "metadata": {
    "_kg_hide-input": true,
    "execution": {
     "iopub.execute_input": "2021-07-01T07:51:29.098181Z",
     "iopub.status.busy": "2021-07-01T07:51:29.097542Z",
     "iopub.status.idle": "2021-07-01T07:51:30.414202Z",
     "shell.execute_reply": "2021-07-01T07:51:30.413488Z",
     "shell.execute_reply.started": "2021-06-01T19:21:23.967511Z"
    },
    "papermill": {
     "duration": 1.35928,
     "end_time": "2021-07-01T07:51:30.414365",
     "exception": false,
     "start_time": "2021-07-01T07:51:29.055085",
     "status": "completed"
    },
    "tags": []
   },
   "outputs": [
    {
     "data": {
      "image/png": "[encoded data removed]",
      "text/plain": [
       "<Figure size 864x432 with 1 Axes>"
      ]
     },
     "metadata": {},
     "output_type": "display_data"
    }
   ],
   "source": [
    "unsorted_lengths = [len(x) for x in input_ids]\n",
    "import matplotlib.pyplot as plt\n",
    "import seaborn as sns\n",
    "\n",
    "sns.set(style='darkgrid')\n",
    "\n",
    "sns.set(font_scale=1.5)\n",
    "plt.rcParams[\"figure.figsize\"] = (12,6)\n",
    "\n",
    "plt.scatter(range(0, len(unsorted_lengths)), unsorted_lengths, marker=\"|\")\n",
    "\n",
    "plt.xlabel('Sample Number')\n",
    "plt.ylabel('Sequence Length')\n",
    "plt.title('Samples BEFORE Sorting')\n",
    "\n",
    "plt.show()"
   ]
  },
  {
   "cell_type": "markdown",
   "id": "dental-audit",
   "metadata": {
    "papermill": {
     "duration": 0.039075,
     "end_time": "2021-07-01T07:51:30.491822",
     "exception": false,
     "start_time": "2021-07-01T07:51:30.452747",
     "status": "completed"
    },
    "tags": []
   },
   "source": [
    "Now we’ll sort the examples by length so that we can create batches with equal (or at least similar) lengths and generate the same plot again."
   ]
  },
  {
   "cell_type": "code",
   "execution_count": 6,
   "id": "intelligent-collector",
   "metadata": {
    "execution": {
     "iopub.execute_input": "2021-07-01T07:51:30.579766Z",
     "iopub.status.busy": "2021-07-01T07:51:30.578895Z",
     "iopub.status.idle": "2021-07-01T07:51:30.583384Z",
     "shell.execute_reply": "2021-07-01T07:51:30.582776Z",
     "shell.execute_reply.started": "2021-06-01T19:21:24.25436Z"
    },
    "papermill": {
     "duration": 0.053172,
     "end_time": "2021-07-01T07:51:30.583542",
     "exception": false,
     "start_time": "2021-07-01T07:51:30.530370",
     "status": "completed"
    },
    "tags": []
   },
   "outputs": [
    {
     "name": "stdout",
     "output_type": "stream",
     "text": [
      "Shortest sample: 157\n",
      "Longest sample: 322\n"
     ]
    }
   ],
   "source": [
    "sorted_input_ids = sorted(zip(input_ids, train_targets), key=lambda x: len(x[0]))\n",
    "print('Shortest sample:', len(sorted_input_ids[0][0]))\n",
    "print('Longest sample:', len(sorted_input_ids[-1][0]))\n",
    "sorted_lengths = [len(s[0]) for s in sorted_input_ids]"
   ]
  },
  {
   "cell_type": "code",
   "execution_count": 7,
   "id": "figured-bahamas",
   "metadata": {
    "_kg_hide-input": true,
    "execution": {
     "iopub.execute_input": "2021-07-01T07:51:30.687767Z",
     "iopub.status.busy": "2021-07-01T07:51:30.686664Z",
     "iopub.status.idle": "2021-07-01T07:51:30.912723Z",
     "shell.execute_reply": "2021-07-01T07:51:30.913276Z",
     "shell.execute_reply.started": "2021-06-01T19:21:24.263859Z"
    },
    "papermill": {
     "duration": 0.291319,
     "end_time": "2021-07-01T07:51:30.913485",
     "exception": false,
     "start_time": "2021-07-01T07:51:30.622166",
     "status": "completed"
    },
    "tags": []
   },
   "outputs": [
    {
     "data": {
      "image/png": "[encoded data removed]",
      "text/plain": [
       "<Figure size 864x432 with 1 Axes>"
      ]
     },
     "metadata": {},
     "output_type": "display_data"
    }
   ],
   "source": [
    "import matplotlib.pyplot as plt\n",
    "import seaborn as sns\n",
    "\n",
    "# Use plot styling from seaborn.\n",
    "sns.set(style='darkgrid')\n",
    "\n",
    "# Increase the plot size and font size.\n",
    "sns.set(font_scale=1.5)\n",
    "plt.rcParams[\"figure.figsize\"] = (12,6)\n",
    "\n",
    "plt.plot(range(0, len(sorted_lengths)), sorted_lengths)\n",
    "\n",
    "plt.xlabel('Sample Number')\n",
    "plt.ylabel('Sequence Length')\n",
    "plt.title('Samples after Sorting')\n",
    "\n",
    "plt.show()"
   ]
  },
  {
   "cell_type": "markdown",
   "id": "current-annual",
   "metadata": {
    "papermill": {
     "duration": 0.039605,
     "end_time": "2021-07-01T07:51:30.994846",
     "exception": false,
     "start_time": "2021-07-01T07:51:30.955241",
     "status": "completed"
    },
    "tags": []
   },
   "source": [
    "<font color='#3498DB'><a id=\"section17\"><h3>Random Batch Selection</h3></a></font>\n",
    "\n",
    "Now we’re ready to select our batches.\n",
    "Rather than dividing the batches up in order, we will still add a degree of **randomness** to our selection.\n",
    "\n",
    "Here’s the process:\n",
    "\n",
    " - Pick a random starting point in the (sorted!) list of samples.\n",
    " - Grab a contiguous batch of samples starting from that point.\n",
    " - Delete those samples from the list, and repeat until all of the samples have been grabbed.\n",
    " \n",
    "This will result in some **fragmentation** of the list, which means it won’t be quite as efficient as if we just sliced up the batches in sorted order."
   ]
  },
  {
   "cell_type": "code",
   "execution_count": 8,
   "id": "median-guard",
   "metadata": {
    "execution": {
     "iopub.execute_input": "2021-07-01T07:51:31.084969Z",
     "iopub.status.busy": "2021-07-01T07:51:31.084170Z",
     "iopub.status.idle": "2021-07-01T07:51:31.087311Z",
     "shell.execute_reply": "2021-07-01T07:51:31.087807Z",
     "shell.execute_reply.started": "2021-06-01T19:21:24.528304Z"
    },
    "papermill": {
     "duration": 0.053456,
     "end_time": "2021-07-01T07:51:31.087993",
     "exception": false,
     "start_time": "2021-07-01T07:51:31.034537",
     "status": "completed"
    },
    "tags": []
   },
   "outputs": [
    {
     "name": "stdout",
     "output_type": "stream",
     "text": [
      "Creating training batches of size 24\n",
      "  Selected 0 batches.\n",
      "  Selected 50 batches.\n",
      "  Selected 100 batches.\n",
      "\n",
      "  DONE - 119 batches.\n"
     ]
    }
   ],
   "source": [
    "batch_size = 24\n",
    "import random\n",
    "\n",
    "batch_ordered_sentences = []\n",
    "batch_ordered_labels = []\n",
    "\n",
    "print('Creating training batches of size {:}'.format(batch_size))\n",
    "\n",
    "while len(sorted_input_ids) > 0:  \n",
    "    if ((len(batch_ordered_sentences) % 50) == 0):\n",
    "        print('  Selected {:,} batches.'.format(len(batch_ordered_sentences)))\n",
    "\n",
    "    to_take = min(batch_size, len(sorted_input_ids))\n",
    "    select = random.randint(0, len(sorted_input_ids) - to_take)\n",
    "    batch = sorted_input_ids[select:(select + to_take)]\n",
    "    batch_ordered_sentences.append([s[0] for s in batch])\n",
    "    batch_ordered_labels.append([s[1] for s in batch])\n",
    "    del sorted_input_ids[select:select + to_take]\n",
    "\n",
    "print('\\n  DONE - {:,} batches.'.format(len(batch_ordered_sentences)))"
   ]
  },
  {
   "cell_type": "markdown",
   "id": "overhead-cache",
   "metadata": {
    "papermill": {
     "duration": 0.039225,
     "end_time": "2021-07-01T07:51:31.166485",
     "exception": false,
     "start_time": "2021-07-01T07:51:31.127260",
     "status": "completed"
    },
    "tags": []
   },
   "source": [
    "<font color='#3498DB'><a id=\"section18\"><h3>Add Padding</h3></a></font>\n",
    "\n",
    "We’ve created our batches, but many of them will contain sequences of different lengths. In order to leverage the GPUs parallel processing of batches, all of the sequences within a batch need to be the same length.\n",
    "\n",
    "This means we need to do some **padding!**\n",
    "\n",
    "We’ll also create our attention masks here, and cast everything to PyTorch tensors in preparation for our fine-tuning step."
   ]
  },
  {
   "cell_type": "code",
   "execution_count": 9,
   "id": "occupied-benjamin",
   "metadata": {
    "execution": {
     "iopub.execute_input": "2021-07-01T07:51:31.261354Z",
     "iopub.status.busy": "2021-07-01T07:51:31.260570Z",
     "iopub.status.idle": "2021-07-01T07:51:31.426410Z",
     "shell.execute_reply": "2021-07-01T07:51:31.426946Z",
     "shell.execute_reply.started": "2021-06-01T19:21:24.551026Z"
    },
    "papermill": {
     "duration": 0.220252,
     "end_time": "2021-07-01T07:51:31.427124",
     "exception": false,
     "start_time": "2021-07-01T07:51:31.206872",
     "status": "completed"
    },
    "tags": []
   },
   "outputs": [],
   "source": [
    "import torch\n",
    "\n",
    "inputs = []\n",
    "attn_masks = []\n",
    "targets = []\n",
    "\n",
    "for (batch_inputs, batch_labels) in zip(batch_ordered_sentences, batch_ordered_labels):\n",
    "    batch_padded_inputs = []\n",
    "    batch_attn_masks = []\n",
    "    max_size = max([len(sen) for sen in batch_inputs])\n",
    "    for sen in batch_inputs:\n",
    "        num_pads = max_size - len(sen)\n",
    "        padded_input = sen + [tokenizer.pad_token_id]*num_pads\n",
    "        attn_mask = [1] * len(sen) + [0] * num_pads\n",
    "        batch_padded_inputs.append(padded_input)\n",
    "        batch_attn_masks.append(attn_mask)\n",
    "    inputs.append(torch.tensor(batch_padded_inputs))\n",
    "    attn_masks.append(torch.tensor(batch_attn_masks))\n",
    "    targets.append(torch.tensor(batch_labels))"
   ]
  },
  {
   "cell_type": "markdown",
   "id": "improving-wallpaper",
   "metadata": {
    "papermill": {
     "duration": 0.041735,
     "end_time": "2021-07-01T07:51:31.510273",
     "exception": false,
     "start_time": "2021-07-01T07:51:31.468538",
     "status": "completed"
    },
    "tags": []
   },
   "source": [
    "<font color='#3498DB'><a id=\"section18a\"><h4>Comparison</h4></a></font>\n",
    "Now that our data is ready, we can calculate the total number of tokens in the training data after using smart batching."
   ]
  },
  {
   "cell_type": "code",
   "execution_count": 10,
   "id": "subsequent-animal",
   "metadata": {
    "execution": {
     "iopub.execute_input": "2021-07-01T07:51:31.597293Z",
     "iopub.status.busy": "2021-07-01T07:51:31.596572Z",
     "iopub.status.idle": "2021-07-01T07:51:31.625869Z",
     "shell.execute_reply": "2021-07-01T07:51:31.625364Z",
     "shell.execute_reply.started": "2021-06-01T19:21:24.646293Z"
    },
    "papermill": {
     "duration": 0.074903,
     "end_time": "2021-07-01T07:51:31.626028",
     "exception": false,
     "start_time": "2021-07-01T07:51:31.551125",
     "status": "completed"
    },
    "tags": []
   },
   "outputs": [
    {
     "name": "stdout",
     "output_type": "stream",
     "text": [
      "Total tokens:\n",
      "   Fixed Padding: 991,900\n",
      "  Smart Batching: 626,236  (36.87% less)\n"
     ]
    }
   ],
   "source": [
    "padded_lengths = []\n",
    "for batch in inputs:\n",
    "    for s in batch:\n",
    "        padded_lengths.append(len(s))\n",
    "\n",
    "smart_token_count = np.sum(padded_lengths)\n",
    "fixed_token_count = len(train_text) * max_len\n",
    "\n",
    "prcnt_reduced = (fixed_token_count - smart_token_count) / float(fixed_token_count) \n",
    "\n",
    "print('Total tokens:')\n",
    "print('   Fixed Padding: {:,}'.format(fixed_token_count))\n",
    "print('  Smart Batching: {:,}  ({:.2%} less)'.format(smart_token_count, prcnt_reduced))"
   ]
  },
  {
   "cell_type": "markdown",
   "id": "marked-production",
   "metadata": {
    "papermill": {
     "duration": 0.040057,
     "end_time": "2021-07-01T07:51:31.706850",
     "exception": false,
     "start_time": "2021-07-01T07:51:31.666793",
     "status": "completed"
    },
    "tags": []
   },
   "source": [
    "<font color='#3498DB'><a id=\"section19\"><h3>All in One - make_smart_batches</h3></a></font>\n",
    "\n",
    "This function combines all of the steps from the “Smart Batching” section into a single (re-usable) function. You can use this in your own Notebook for applying smart batching to both your training and test sets.\n",
    "\n",
    "Click *show hidden code.*"
   ]
  },
  {
   "cell_type": "code",
   "execution_count": 11,
   "id": "increased-landscape",
   "metadata": {
    "_kg_hide-input": true,
    "execution": {
     "iopub.execute_input": "2021-07-01T07:51:31.809604Z",
     "iopub.status.busy": "2021-07-01T07:51:31.796844Z",
     "iopub.status.idle": "2021-07-01T07:51:34.321943Z",
     "shell.execute_reply": "2021-07-01T07:51:34.321268Z",
     "shell.execute_reply.started": "2021-06-01T19:21:24.664709Z"
    },
    "papermill": {
     "duration": 2.574818,
     "end_time": "2021-07-01T07:51:34.322096",
     "exception": false,
     "start_time": "2021-07-01T07:51:31.747278",
     "status": "completed"
    },
    "tags": []
   },
   "outputs": [],
   "source": [
    "def make_smart_batches(text_samples, labels, batch_size):\n",
    "    '''\n",
    "    This function combines all of the required steps to prepare batches.\n",
    "    '''\n",
    "\n",
    "    print('Creating Smart Batches from {:,} examples with batch size {:,}...\\n'.format(len(text_samples), batch_size))\n",
    "\n",
    "    # =========================\n",
    "    #   Tokenize & Truncate\n",
    "    # =========================\n",
    "\n",
    "    full_input_ids = []\n",
    "\n",
    "    # Tokenize all training examples\n",
    "    print('Tokenizing {:,} samples...'.format(len(labels)))\n",
    "\n",
    "    # Choose an interval on which to print progress updates.\n",
    "    update_interval = good_update_interval(total_iters=len(labels), num_desired_updates=10)\n",
    "\n",
    "    # For each training example...\n",
    "    for text in text_samples:\n",
    "        \n",
    "        # Report progress.\n",
    "        if ((len(full_input_ids) % update_interval) == 0):\n",
    "            print('  Tokenized {:,} samples.'.format(len(full_input_ids)))\n",
    "\n",
    "        # Tokenize the sample.\n",
    "        input_ids = tokenizer.encode(text=text,              # Text to encode.\n",
    "                                    add_special_tokens=True, # Do add specials.\n",
    "                                    max_length=max_len,      # Do Truncate!\n",
    "                                    truncation=True,         # Do Truncate!\n",
    "                                    padding=False)           # DO NOT pad.\n",
    "                                    \n",
    "        # Add the tokenized result to our list.\n",
    "        full_input_ids.append(input_ids)\n",
    "        \n",
    "    print('DONE.')\n",
    "    print('{:>10,} samples\\n'.format(len(full_input_ids)))\n",
    "\n",
    "    # =========================\n",
    "    #      Select Batches\n",
    "    # =========================    \n",
    "\n",
    "    # Sort the two lists together by the length of the input sequence.\n",
    "    samples = sorted(zip(full_input_ids, labels), key=lambda x: len(x[0]))\n",
    "\n",
    "    print('{:>10,} samples after sorting\\n'.format(len(samples)))\n",
    "\n",
    "    import random\n",
    "\n",
    "    # List of batches that we'll construct.\n",
    "    batch_ordered_sentences = []\n",
    "    batch_ordered_labels = []\n",
    "\n",
    "    print('Creating batches of size {:}...'.format(batch_size))\n",
    "\n",
    "    # Choose an interval on which to print progress updates.\n",
    "    update_interval = good_update_interval(total_iters=len(samples), num_desired_updates=10)\n",
    "    \n",
    "    # Loop over all of the input samples...    \n",
    "    while len(samples) > 0:\n",
    "        \n",
    "        # Report progress.\n",
    "        if ((len(batch_ordered_sentences) % update_interval) == 0 \\\n",
    "            and not len(batch_ordered_sentences) == 0):\n",
    "            print('  Selected {:,} batches.'.format(len(batch_ordered_sentences)))\n",
    "\n",
    "        # `to_take` is our actual batch size. It will be `batch_size` until \n",
    "        # we get to the last batch, which may be smaller. \n",
    "        to_take = min(batch_size, len(samples))\n",
    "\n",
    "        # Pick a random index in the list of remaining samples to start\n",
    "        # our batch at.\n",
    "        select = random.randint(0, len(samples) - to_take)\n",
    "\n",
    "        # Select a contiguous batch of samples starting at `select`.\n",
    "        #print(\"Selecting batch from {:} to {:}\".format(select, select+to_take))\n",
    "        batch = samples[select:(select + to_take)]\n",
    "\n",
    "        #print(\"Batch length:\", len(batch))\n",
    "\n",
    "        # Each sample is a tuple--split them apart to create a separate list of \n",
    "        # sequences and a list of labels for this batch.\n",
    "        batch_ordered_sentences.append([s[0] for s in batch])\n",
    "        batch_ordered_labels.append([s[1] for s in batch])\n",
    "\n",
    "        # Remove these samples from the list.\n",
    "        del samples[select:select + to_take]\n",
    "\n",
    "    print('\\n  DONE - Selected {:,} batches.\\n'.format(len(batch_ordered_sentences)))\n",
    "\n",
    "    # =========================\n",
    "    #        Add Padding\n",
    "    # =========================    \n",
    "\n",
    "    print('Padding out sequences within each batch...')\n",
    "\n",
    "    py_inputs = []\n",
    "    py_attn_masks = []\n",
    "    py_labels = []\n",
    "\n",
    "    # For each batch...\n",
    "    for (batch_inputs, batch_labels) in zip(batch_ordered_sentences, batch_ordered_labels):\n",
    "\n",
    "        # New version of the batch, this time with padded sequences and now with\n",
    "        # attention masks defined.\n",
    "        batch_padded_inputs = []\n",
    "        batch_attn_masks = []\n",
    "        \n",
    "        # First, find the longest sample in the batch. \n",
    "        # Note that the sequences do currently include the special tokens!\n",
    "        max_size = max([len(sen) for sen in batch_inputs])\n",
    "\n",
    "        # For each input in this batch...\n",
    "        for sen in batch_inputs:\n",
    "            \n",
    "            # How many pad tokens do we need to add?\n",
    "            num_pads = max_size - len(sen)\n",
    "\n",
    "            # Add `num_pads` padding tokens to the end of the sequence.\n",
    "            padded_input = sen + [tokenizer.pad_token_id]*num_pads\n",
    "\n",
    "            # Define the attention mask--it's just a `1` for every real token\n",
    "            # and a `0` for every padding token.\n",
    "            attn_mask = [1] * len(sen) + [0] * num_pads\n",
    "\n",
    "            # Add the padded results to the batch.\n",
    "            batch_padded_inputs.append(padded_input)\n",
    "            batch_attn_masks.append(attn_mask)\n",
    "\n",
    "        # Our batch has been padded, so we need to save this updated batch.\n",
    "        # We also need the inputs to be PyTorch tensors, so we'll do that here.\n",
    "        # Todo - Michael's code specified \"dtype=torch.long\"\n",
    "        py_inputs.append(torch.tensor(batch_padded_inputs))\n",
    "        py_attn_masks.append(torch.tensor(batch_attn_masks))\n",
    "        py_labels.append(torch.tensor(batch_labels))\n",
    "    \n",
    "    print('  DONE.')\n",
    "\n",
    "    # Return the smart-batched dataset!\n",
    "    return (py_inputs, py_attn_masks, py_labels)\n",
    "\n",
    "(py_inputs, py_attn_masks, py_labels) = make_smart_batches(train_text, train_targets, batch_size)\n",
    "\n",
    "clear_output()"
   ]
  },
  {
   "cell_type": "markdown",
   "id": "textile-precipitation",
   "metadata": {
    "papermill": {
     "duration": 0.039756,
     "end_time": "2021-07-01T07:51:34.401969",
     "exception": false,
     "start_time": "2021-07-01T07:51:34.362213",
     "status": "completed"
    },
    "tags": []
   },
   "source": [
    "<font color='#3498DB'><a id=\"section110\"><h3>Smart Batching with DataLoader, Collator, Sampler</h3></a></font>\n",
    "\n",
    "This section is an attempt to implement the above methodology of “smart batching” in a more formal way with the PyTorch **DataLoader** class.\n",
    "<br>\n",
    "\n",
    "<font color='#3498DB'><a id=\"section110a\"><h4>Components</h4></a></font>\n",
    "We will have 4 major components that will work together,\n",
    "  - Dataset - Stores the samples and their corresponding labels. \n",
    "  - DataLoader - Wrap an iterable around the Dataset to enable easy access to the samples.\n",
    "  - Sampler -  Specify the sequence of indices that will be used in data loading.\n",
    "  - Collator -  Collate lists of samples into batches.\n",
    "   \n",
    "*Note: To make the code compact the dataloader is inside \"SmartBatchingDataset\" and one can easily take it outside.*"
   ]
  },
  {
   "cell_type": "code",
   "execution_count": 12,
   "id": "sapphire-salem",
   "metadata": {
    "execution": {
     "iopub.execute_input": "2021-07-01T07:51:34.487789Z",
     "iopub.status.busy": "2021-07-01T07:51:34.486988Z",
     "iopub.status.idle": "2021-07-01T07:51:34.497829Z",
     "shell.execute_reply": "2021-07-01T07:51:34.498447Z",
     "shell.execute_reply.started": "2021-06-01T19:21:27.168036Z"
    },
    "papermill": {
     "duration": 0.056479,
     "end_time": "2021-07-01T07:51:34.498620",
     "exception": false,
     "start_time": "2021-07-01T07:51:34.442141",
     "status": "completed"
    },
    "tags": []
   },
   "outputs": [],
   "source": [
    "import random\n",
    "import numpy as np\n",
    "import multiprocessing\n",
    "import more_itertools\n",
    "\n",
    "import torch\n",
    "import torch.nn as nn\n",
    "from torch.utils.data import Sampler, Dataset, DataLoader"
   ]
  },
  {
   "cell_type": "markdown",
   "id": "wrapped-rings",
   "metadata": {
    "papermill": {
     "duration": 0.039432,
     "end_time": "2021-07-01T07:51:34.578141",
     "exception": false,
     "start_time": "2021-07-01T07:51:34.538709",
     "status": "completed"
    },
    "tags": []
   },
   "source": [
    "**SmartBatchingDataset** will store the samples in by tokenzing excerpts and converting into sequences."
   ]
  },
  {
   "cell_type": "code",
   "execution_count": 13,
   "id": "crude-steel",
   "metadata": {
    "execution": {
     "iopub.execute_input": "2021-07-01T07:51:34.661699Z",
     "iopub.status.busy": "2021-07-01T07:51:34.660754Z",
     "iopub.status.idle": "2021-07-01T07:51:34.670711Z",
     "shell.execute_reply": "2021-07-01T07:51:34.671232Z",
     "shell.execute_reply.started": "2021-06-01T19:21:27.17467Z"
    },
    "papermill": {
     "duration": 0.053288,
     "end_time": "2021-07-01T07:51:34.671401",
     "exception": false,
     "start_time": "2021-07-01T07:51:34.618113",
     "status": "completed"
    },
    "tags": []
   },
   "outputs": [],
   "source": [
    "class SmartBatchingDataset(Dataset):\n",
    "    def __init__(self, df, tokenizer):\n",
    "        super(SmartBatchingDataset, self).__init__()\n",
    "        self._data = (\n",
    "            f\"{tokenizer.bos_token} \" + df.excerpt + f\" {tokenizer.eos_token}\" \n",
    "        ).apply(tokenizer.tokenize).apply(tokenizer.convert_tokens_to_ids).to_list()\n",
    "        self._targets = None\n",
    "        if 'target' in df.columns:\n",
    "            self._targets = df.target.tolist()\n",
    "        self.sampler = None\n",
    "\n",
    "    def __len__(self):\n",
    "        return len(self._data)\n",
    "\n",
    "    def __getitem__(self, item):\n",
    "        if self._targets is not None:\n",
    "            return self._data[item], self._targets[item]\n",
    "        else:\n",
    "            return self._data[item]\n",
    "\n",
    "    def get_dataloader(self, batch_size, max_len, pad_id):\n",
    "        self.sampler = SmartBatchingSampler(\n",
    "            data_source=self._data,\n",
    "            batch_size=batch_size\n",
    "        )\n",
    "        collate_fn = SmartBatchingCollate(\n",
    "            targets=self._targets,\n",
    "            max_length=max_len,\n",
    "            pad_token_id=pad_id\n",
    "        )\n",
    "        dataloader = DataLoader(\n",
    "            dataset=self,\n",
    "            batch_size=batch_size,\n",
    "            sampler=self.sampler,\n",
    "            collate_fn=collate_fn,\n",
    "            num_workers=(multiprocessing.cpu_count()-1),\n",
    "            pin_memory=True\n",
    "        )\n",
    "        return dataloader"
   ]
  },
  {
   "cell_type": "markdown",
   "id": "focused-denial",
   "metadata": {
    "papermill": {
     "duration": 0.03951,
     "end_time": "2021-07-01T07:51:34.750533",
     "exception": false,
     "start_time": "2021-07-01T07:51:34.711023",
     "status": "completed"
    },
    "tags": []
   },
   "source": [
    "**SmartBatchingSampler** will sort the sequences by length, make batches of size \"batch_size\", shuffle the batch and return indices."
   ]
  },
  {
   "cell_type": "code",
   "execution_count": 14,
   "id": "substantial-banks",
   "metadata": {
    "execution": {
     "iopub.execute_input": "2021-07-01T07:51:34.840849Z",
     "iopub.status.busy": "2021-07-01T07:51:34.840108Z",
     "iopub.status.idle": "2021-07-01T07:51:34.842858Z",
     "shell.execute_reply": "2021-07-01T07:51:34.842354Z",
     "shell.execute_reply.started": "2021-06-01T19:21:27.196524Z"
    },
    "papermill": {
     "duration": 0.052329,
     "end_time": "2021-07-01T07:51:34.843012",
     "exception": false,
     "start_time": "2021-07-01T07:51:34.790683",
     "status": "completed"
    },
    "tags": []
   },
   "outputs": [],
   "source": [
    "class SmartBatchingSampler(Sampler):\n",
    "    def __init__(self, data_source, batch_size):\n",
    "        super(SmartBatchingSampler, self).__init__(data_source)\n",
    "        self.len = len(data_source)\n",
    "        sample_lengths = [len(seq) for seq in data_source]\n",
    "        argsort_inds = np.argsort(sample_lengths)\n",
    "        self.batches = list(more_itertools.chunked(argsort_inds, n=batch_size))\n",
    "        self._backsort_inds = None\n",
    "    \n",
    "    def __iter__(self):\n",
    "        if self.batches:\n",
    "            last_batch = self.batches.pop(-1)\n",
    "            np.random.shuffle(self.batches)\n",
    "            self.batches.append(last_batch)\n",
    "        self._inds = list(more_itertools.flatten(self.batches))\n",
    "        yield from self._inds\n",
    "\n",
    "    def __len__(self):\n",
    "        return self.len\n",
    "    \n",
    "    @property\n",
    "    def backsort_inds(self):\n",
    "        if self._backsort_inds is None:\n",
    "            self._backsort_inds = np.argsort(self._inds)\n",
    "        return self._backsort_inds"
   ]
  },
  {
   "cell_type": "markdown",
   "id": "intelligent-destination",
   "metadata": {
    "papermill": {
     "duration": 0.039525,
     "end_time": "2021-07-01T07:51:34.922561",
     "exception": false,
     "start_time": "2021-07-01T07:51:34.883036",
     "status": "completed"
    },
    "tags": []
   },
   "source": [
    "**SmartBatchingCollate** will add padding upto highest sequence length, make attention masks, targets for each sample in batch. "
   ]
  },
  {
   "cell_type": "code",
   "execution_count": 15,
   "id": "vanilla-mystery",
   "metadata": {
    "execution": {
     "iopub.execute_input": "2021-07-01T07:51:35.017988Z",
     "iopub.status.busy": "2021-07-01T07:51:35.017036Z",
     "iopub.status.idle": "2021-07-01T07:51:35.020069Z",
     "shell.execute_reply": "2021-07-01T07:51:35.019533Z",
     "shell.execute_reply.started": "2021-06-01T19:21:27.211525Z"
    },
    "papermill": {
     "duration": 0.054699,
     "end_time": "2021-07-01T07:51:35.020219",
     "exception": false,
     "start_time": "2021-07-01T07:51:34.965520",
     "status": "completed"
    },
    "tags": []
   },
   "outputs": [],
   "source": [
    "class SmartBatchingCollate:\n",
    "    def __init__(self, targets, max_length, pad_token_id):\n",
    "        self._targets = targets\n",
    "        self._max_length = max_length\n",
    "        self._pad_token_id = pad_token_id\n",
    "        \n",
    "    def __call__(self, batch):\n",
    "        if self._targets is not None:\n",
    "            sequences, targets = list(zip(*batch))\n",
    "        else:\n",
    "            sequences = list(batch)\n",
    "        \n",
    "        input_ids, attention_mask = self.pad_sequence(\n",
    "            sequences,\n",
    "            max_sequence_length=self._max_length,\n",
    "            pad_token_id=self._pad_token_id\n",
    "        )\n",
    "        \n",
    "        if self._targets is not None:\n",
    "            output = input_ids, attention_mask, torch.tensor(targets)\n",
    "        else:\n",
    "            output = input_ids, attention_mask\n",
    "        return output\n",
    "    \n",
    "    def pad_sequence(self, sequence_batch, max_sequence_length, pad_token_id):\n",
    "        max_batch_len = max(len(sequence) for sequence in sequence_batch)\n",
    "        max_len = min(max_batch_len, max_sequence_length)\n",
    "        padded_sequences, attention_masks = [[] for i in range(2)]\n",
    "        attend, no_attend = 1, 0\n",
    "        for sequence in sequence_batch:\n",
    "            # As discussed above, truncate if exceeds max_len\n",
    "            new_sequence = list(sequence[:max_len])\n",
    "            \n",
    "            attention_mask = [attend] * len(new_sequence)\n",
    "            pad_length = max_len - len(new_sequence)\n",
    "            \n",
    "            new_sequence.extend([pad_token_id] * pad_length)\n",
    "            attention_mask.extend([no_attend] * pad_length)\n",
    "            \n",
    "            padded_sequences.append(new_sequence)\n",
    "            attention_masks.append(attention_mask)\n",
    "        \n",
    "        padded_sequences = torch.tensor(padded_sequences)\n",
    "        attention_masks = torch.tensor(attention_masks)\n",
    "        return padded_sequences, attention_masks"
   ]
  },
  {
   "cell_type": "markdown",
   "id": "developing-eclipse",
   "metadata": {
    "execution": {
     "iopub.execute_input": "2021-05-31T21:28:52.537861Z",
     "iopub.status.busy": "2021-05-31T21:28:52.537512Z",
     "iopub.status.idle": "2021-05-31T21:28:52.543765Z",
     "shell.execute_reply": "2021-05-31T21:28:52.542059Z",
     "shell.execute_reply.started": "2021-05-31T21:28:52.537832Z"
    },
    "papermill": {
     "duration": 0.042002,
     "end_time": "2021-07-01T07:51:35.102838",
     "exception": false,
     "start_time": "2021-07-01T07:51:35.060836",
     "status": "completed"
    },
    "tags": []
   },
   "source": [
    "Here we create **Dataset** and **DataLoader**, iterate over our dataloader, check the total number of tokens and, do comparison study.\n"
   ]
  },
  {
   "cell_type": "code",
   "execution_count": 16,
   "id": "international-change",
   "metadata": {
    "execution": {
     "iopub.execute_input": "2021-07-01T07:51:35.189930Z",
     "iopub.status.busy": "2021-07-01T07:51:35.189242Z",
     "iopub.status.idle": "2021-07-01T07:51:38.937084Z",
     "shell.execute_reply": "2021-07-01T07:51:38.936477Z",
     "shell.execute_reply.started": "2021-06-01T19:21:27.231554Z"
    },
    "papermill": {
     "duration": 3.794587,
     "end_time": "2021-07-01T07:51:38.937260",
     "exception": false,
     "start_time": "2021-07-01T07:51:35.142673",
     "status": "completed"
    },
    "tags": []
   },
   "outputs": [
    {
     "name": "stdout",
     "output_type": "stream",
     "text": [
      "Total tokens:\n",
      "   Fixed Padding: 991,900\n",
      "  Smart Batching: 621,694  (37.32% less)\n"
     ]
    }
   ],
   "source": [
    "dataset = SmartBatchingDataset(train, tokenizer)\n",
    "dataloader = dataset.get_dataloader(batch_size=24, max_len=max_len, pad_id=tokenizer.pad_token_id)\n",
    "\n",
    "padded_lengths = []\n",
    "for batch_idx, (input_ids, attention_mask, targets) in enumerate(dataloader):\n",
    "    for s in input_ids:\n",
    "        padded_lengths.append(len(s))\n",
    "\n",
    "smart_token_count = np.sum(padded_lengths)\n",
    "fixed_token_count = len(train_text) * max_len\n",
    "\n",
    "prcnt_reduced = (fixed_token_count - smart_token_count) / float(fixed_token_count) \n",
    "\n",
    "print('Total tokens:')\n",
    "print('   Fixed Padding: {:,}'.format(fixed_token_count))\n",
    "print('  Smart Batching: {:,}  ({:.2%} less)'.format(smart_token_count, prcnt_reduced))"
   ]
  },
  {
   "cell_type": "markdown",
   "id": "obvious-scoop",
   "metadata": {
    "papermill": {
     "duration": 0.040635,
     "end_time": "2021-07-01T07:51:39.019449",
     "exception": false,
     "start_time": "2021-07-01T07:51:38.978814",
     "status": "completed"
    },
    "tags": []
   },
   "source": [
    "<font color='#3498DB'><a id=\"section110b\"><h4>Comparison II</h4></a></font>\n",
    "\n",
    "In comparison to above technique of random batch selection we don't have any framentation in case of DataLoader but, randomness is reduced.\n",
    "\n",
    " - **Fixed Padding (MaxLen-350 & BS-24):**  991,900 tokens   \n",
    " - **Smart Batching with Random Batch:** 623,780  (37.11% less)\n",
    " - **Smart Batching with DataLoader:**   621,694  (37.32% less)  \n",
    "\n",
    "<font color='#3498DB'><a id=\"section111\"><h3>Conclusion</h3></a></font>\n",
    "It has been shown that this technique constantly provides significant time reduction without reducing (in some cases even improves) accuracy. This technique is a low hanging fruit that should be widely used by Transformer users.\n",
    "\n",
    "<font color='#3498DB'><a id=\"section112\"><h3>References and Resources</h3></a></font>\n",
    " \n",
    " - [**Smart Batching Tutorial - Speed Up BERT Training**](http://mccormickml.com/2020/07/29/smart-batching-tutorial/#42-tokenize-without-padding) by Chris McCormick. This is the main source of almost everything you're seeing above except for DataLoader part. Suggest to check his YouTube channel and other Blog articles as well.\n",
    " - [Divide Hugging Face Transformers training time by 2 or more](https://towardsdatascience.com/divide-hugging-face-transformers-training-time-by-2-or-more-21bf7129db9q-21bf7129db9e) by Michaël Benesty. The inspration of Chris McCormick Smart Batching tutorial.\n",
    "   - [Colab Notebook](https://github.com/ELS-RD/transformers-notebook/blob/master/Divide_Hugging_Face_Transformers_training_time_by_2_or_more.ipynb) \n",
    "   - [GitHub Gist](https://gist.github.com/pommedeterresautee/1a334b665710bec9bb65965f662c94c8)\n",
    " - [Accelerating recurrent neural network training using sequence bucketing and multi-GPU data parallelization](https://arxiv.org/abs/1708.05604)\n",
    " - [Jigsaw Multilingual Toxic Comment Classification - 4th Place Solution](https://www.kaggle.com/c/jigsaw-multilingual-toxic-comment-classification/discussion/160980)\n",
    " - [Speed up your RNN with Sequence Bucketing](https://www.kaggle.com/bminixhofer/speed-up-your-rnn-with-sequence-bucketing)\n",
    " - [Better Batches with PyTorchText BucketIterator](https://gmihaila.medium.com/better-batches-with-pytorchtext-bucketiterator-12804a545e2a#:~:text=%F0%9F%8D%87%20Better%20Batches%20with%20PyTorchText%20BucketIterator,-How%20to%20use&text=This%20allows%20us%20to%20provide,gpt2%2C%20xlnet%2C%20etc.)\n",
    " - [Tensorflow-esque bucket by sequence length](https://discuss.pytorch.org/t/tensorflow-esque-bucket-by-sequence-length/41284)"
   ]
  },
  {
   "cell_type": "markdown",
   "id": "agricultural-metallic",
   "metadata": {
    "papermill": {
     "duration": 0.039839,
     "end_time": "2021-07-01T07:51:39.100953",
     "exception": false,
     "start_time": "2021-07-01T07:51:39.061114",
     "status": "completed"
    },
    "tags": []
   },
   "source": [
    "<font color='#3498DB'><a id=\"section2\"><h2>Freeze Embedding</h2></a></font>\n",
    "\n",
    "<font color='#3498DB'><a id=\"section20\"><h3>Introduction</h3></a></font>\n",
    "Freezing the embedding matrix during the fine-tuning of a pre-trained language model, yes its that simple. Freezing Embedding Layer of transformers can save the GPU memory so that one can use bigger batchsize when training, while speeding up the training process.\n",
    "\n",
    "<font color='#3498DB'><a id=\"section21\"><h3>Idea</h3></a></font>\n",
    " - The intuition behind this is that the embedding layer contains an independent representation of each token and the vectors for tokens with similar meanings should be learned to be close in the embeddings space during pre-training to be used in a pretty similar way by the further layers. But when you have not a good amount of labeled data or a small corpus that is common for real-world use cases, most probably the data on which you will do the inference will contain some tokens that were not presented in the train set. Probably some of these new tokens will have the synonym pairs in your labeled data, but gradient updates can destroy this type of connection learned by the language model.\n",
    " \n",
    " - The other is since we are freezing the embedding matrix which itself contains huge number of parameters, gradient updates will not take place and hence will result in lesser computation times and one can utilize larger batch size.\n",
    " \n",
    "<font color='#3498DB'><a id=\"section22\"><h3>Splits Analysis</h3></a></font>\n",
    "First of all, we will split the data using the KFold strategy that I have been using in my other notebooks and do some analysis for better understanding the first idea."
   ]
  },
  {
   "cell_type": "code",
   "execution_count": 17,
   "id": "horizontal-silver",
   "metadata": {
    "execution": {
     "iopub.execute_input": "2021-07-01T07:51:39.194431Z",
     "iopub.status.busy": "2021-07-01T07:51:39.193599Z",
     "iopub.status.idle": "2021-07-01T07:51:47.753545Z",
     "shell.execute_reply": "2021-07-01T07:51:47.754113Z",
     "shell.execute_reply.started": "2021-06-01T19:21:31.022156Z"
    },
    "papermill": {
     "duration": 8.611256,
     "end_time": "2021-07-01T07:51:47.754293",
     "exception": false,
     "start_time": "2021-07-01T07:51:39.143037",
     "status": "completed"
    },
    "tags": []
   },
   "outputs": [],
   "source": [
    "!pip install -q matplotlib_venn\n",
    "\n",
    "from itertools import chain\n",
    "import numpy as np\n",
    "import pandas as pd\n",
    "from sklearn import model_selection\n",
    "import matplotlib.pyplot as plt\n",
    "from matplotlib_venn import venn2\n",
    "%config InlineBackend.figure_format = 'retina'\n",
    "%matplotlib inline"
   ]
  },
  {
   "cell_type": "code",
   "execution_count": 18,
   "id": "metropolitan-costa",
   "metadata": {
    "execution": {
     "iopub.execute_input": "2021-07-01T07:51:47.841099Z",
     "iopub.status.busy": "2021-07-01T07:51:47.840457Z",
     "iopub.status.idle": "2021-07-01T07:51:47.891305Z",
     "shell.execute_reply": "2021-07-01T07:51:47.890698Z",
     "shell.execute_reply.started": "2021-06-01T19:21:36.851944Z"
    },
    "papermill": {
     "duration": 0.096758,
     "end_time": "2021-07-01T07:51:47.891453",
     "exception": false,
     "start_time": "2021-07-01T07:51:47.794695",
     "status": "completed"
    },
    "tags": []
   },
   "outputs": [],
   "source": [
    "train = pd.read_csv('../input/commonlitreadabilityprize/train.csv', low_memory=False)\n",
    "test = pd.read_csv('../input/commonlitreadabilityprize/test.csv', low_memory=False)"
   ]
  },
  {
   "cell_type": "markdown",
   "id": "remarkable-scout",
   "metadata": {
    "papermill": {
     "duration": 0.041938,
     "end_time": "2021-07-01T07:51:47.973770",
     "exception": false,
     "start_time": "2021-07-01T07:51:47.931832",
     "status": "completed"
    },
    "tags": []
   },
   "source": [
    "We convert our excerpts to corresponding input ids using our roberta tokenizer,"
   ]
  },
  {
   "cell_type": "code",
   "execution_count": 19,
   "id": "amended-chuck",
   "metadata": {
    "execution": {
     "iopub.execute_input": "2021-07-01T07:51:48.068871Z",
     "iopub.status.busy": "2021-07-01T07:51:48.067853Z",
     "iopub.status.idle": "2021-07-01T07:51:51.455706Z",
     "shell.execute_reply": "2021-07-01T07:51:51.455063Z",
     "shell.execute_reply.started": "2021-06-01T19:21:36.913536Z"
    },
    "papermill": {
     "duration": 3.441122,
     "end_time": "2021-07-01T07:51:51.455845",
     "exception": false,
     "start_time": "2021-07-01T07:51:48.014723",
     "status": "completed"
    },
    "tags": []
   },
   "outputs": [],
   "source": [
    "input_ids = (\n",
    "    f\"{tokenizer.bos_token} \" + train.excerpt + f\" {tokenizer.eos_token}\"\n",
    ").apply(tokenizer.tokenize).apply(tokenizer.convert_tokens_to_ids).to_list()\n",
    "\n",
    "train['input_ids'] = input_ids"
   ]
  },
  {
   "cell_type": "markdown",
   "id": "august-stocks",
   "metadata": {
    "papermill": {
     "duration": 0.039939,
     "end_time": "2021-07-01T07:51:51.535982",
     "exception": false,
     "start_time": "2021-07-01T07:51:51.496043",
     "status": "completed"
    },
    "tags": []
   },
   "source": [
    "And we create 5-Kfold split using random state - 2021"
   ]
  },
  {
   "cell_type": "code",
   "execution_count": 20,
   "id": "secret-small",
   "metadata": {
    "execution": {
     "iopub.execute_input": "2021-07-01T07:51:51.624719Z",
     "iopub.status.busy": "2021-07-01T07:51:51.624057Z",
     "iopub.status.idle": "2021-07-01T07:51:51.630153Z",
     "shell.execute_reply": "2021-07-01T07:51:51.630662Z",
     "shell.execute_reply.started": "2021-06-01T19:21:40.182745Z"
    },
    "papermill": {
     "duration": 0.054907,
     "end_time": "2021-07-01T07:51:51.630828",
     "exception": false,
     "start_time": "2021-07-01T07:51:51.575921",
     "status": "completed"
    },
    "tags": []
   },
   "outputs": [],
   "source": [
    "def create_folds(data, num_splits):\n",
    "    data[\"kfold\"] = -1\n",
    "    kf = model_selection.KFold(n_splits=num_splits, shuffle=True, random_state=2021)\n",
    "    for fold, (train_index, valid_index) in enumerate(kf.split(X=data)):\n",
    "        data.loc[valid_index, 'kfold'] = fold\n",
    "    return data\n",
    "train = create_folds(train, num_splits=5)"
   ]
  },
  {
   "cell_type": "markdown",
   "id": "attempted-prairie",
   "metadata": {
    "papermill": {
     "duration": 0.041893,
     "end_time": "2021-07-01T07:51:51.712649",
     "exception": false,
     "start_time": "2021-07-01T07:51:51.670756",
     "status": "completed"
    },
    "tags": []
   },
   "source": [
    "We are going to check the tokens overlap of train and validation set tokens for each of our folds. \n",
    "\n",
    "Click *show hidden code* to view code."
   ]
  },
  {
   "cell_type": "code",
   "execution_count": 21,
   "id": "duplicate-legislation",
   "metadata": {
    "_kg_hide-input": true,
    "execution": {
     "iopub.execute_input": "2021-07-01T07:51:51.795959Z",
     "iopub.status.busy": "2021-07-01T07:51:51.795333Z",
     "iopub.status.idle": "2021-07-01T07:51:51.942731Z",
     "shell.execute_reply": "2021-07-01T07:51:51.943295Z",
     "shell.execute_reply.started": "2021-06-01T19:21:40.19523Z"
    },
    "papermill": {
     "duration": 0.190485,
     "end_time": "2021-07-01T07:51:51.943470",
     "exception": false,
     "start_time": "2021-07-01T07:51:51.752985",
     "status": "completed"
    },
    "tags": []
   },
   "outputs": [],
   "source": [
    "def create_features_targets(train, fold):\n",
    "    # function to separate train and validation data for a fold\n",
    "    features_train = train[train.kfold!=fold]['input_ids'].tolist()\n",
    "    features_val = train[train.kfold==fold]['input_ids'].tolist()\n",
    "    targets_train = train[train.kfold!=fold]['target'].tolist()\n",
    "    targets_val = train[train.kfold==fold]['target'].tolist()\n",
    "    return features_train, targets_train, features_val, targets_val\n",
    "\n",
    "# create train and validation features for each fold\n",
    "features_train1, targets_train1, features_val1, targets_val1 = create_features_targets(train, 0)\n",
    "features_train2, targets_train2, features_val2, targets_val2 = create_features_targets(train, 1)\n",
    "features_train3, targets_train3, features_val3, targets_val3 = create_features_targets(train, 2)\n",
    "features_train4, targets_train4, features_val4, targets_val4 = create_features_targets(train, 3)\n",
    "features_train5, targets_train5, features_val5, targets_val5 = create_features_targets(train, 4)\n",
    "\n",
    "# create set of unique input ids for each train and validation data\n",
    "features_train1_set, features_val1_set = set(chain.from_iterable(features_train1)), set(chain.from_iterable(features_val1))\n",
    "features_train2_set, features_val2_set = set(chain.from_iterable(features_train2)), set(chain.from_iterable(features_val2))\n",
    "features_train3_set, features_val3_set = set(chain.from_iterable(features_train3)), set(chain.from_iterable(features_val3))\n",
    "features_train4_set, features_val4_set = set(chain.from_iterable(features_train4)), set(chain.from_iterable(features_val4))\n",
    "features_train5_set, features_val5_set = set(chain.from_iterable(features_train5)), set(chain.from_iterable(features_val5))"
   ]
  },
  {
   "cell_type": "code",
   "execution_count": 22,
   "id": "satisfied-charter",
   "metadata": {
    "_kg_hide-input": true,
    "execution": {
     "iopub.execute_input": "2021-07-01T07:51:52.029853Z",
     "iopub.status.busy": "2021-07-01T07:51:52.029151Z",
     "iopub.status.idle": "2021-07-01T07:51:52.557696Z",
     "shell.execute_reply": "2021-07-01T07:51:52.557054Z",
     "shell.execute_reply.started": "2021-06-01T19:21:40.372978Z"
    },
    "papermill": {
     "duration": 0.572362,
     "end_time": "2021-07-01T07:51:52.557831",
     "exception": false,
     "start_time": "2021-07-01T07:51:51.985469",
     "status": "completed"
    },
    "tags": []
   },
   "outputs": [
    {
     "data": {
      "image/png": "[encoded data removed]",
      "text/plain": [
       "<Figure size 864x576 with 5 Axes>"
      ]
     },
     "metadata": {
      "image/png": {
       "height": 503,
       "width": 683
      }
     },
     "output_type": "display_data"
    }
   ],
   "source": [
    "plt.figure(figsize=(12, 8))\n",
    "\n",
    "plt.suptitle(\"Intersection of train tokens set and validation tokens set for each fold\")\n",
    "\n",
    "plt.subplot(231)\n",
    "venn2(\n",
    "    [features_train1_set, features_val1_set],\n",
    "    set_labels=(\"Train\", \"Validation\"),\n",
    "    set_colors=(\"blue\", \"plum\")\n",
    ")\n",
    "plt.title('Fold 0')\n",
    "\n",
    "plt.subplot(232)\n",
    "venn2(\n",
    "    [features_train2_set, features_val2_set],\n",
    "    set_labels=(\"Train\", \"Validation\"),\n",
    "    set_colors=(\"blue\", \"plum\")\n",
    ")\n",
    "plt.title('Fold 1')\n",
    "\n",
    "plt.subplot(233)\n",
    "venn2(\n",
    "    [features_train3_set, features_val3_set], \n",
    "    set_labels=(\"Train\", \"Validation\"),\n",
    "    set_colors=(\"blue\", \"plum\")\n",
    ")\n",
    "plt.title('Fold 2')\n",
    "\n",
    "plt.subplot(234)\n",
    "venn2(\n",
    "    [features_train4_set, features_val4_set], \n",
    "    set_labels=(\"Train\", \"Validation\"), \n",
    "    set_colors=(\"blue\", \"plum\")\n",
    ")\n",
    "plt.title('Fold 3')\n",
    "\n",
    "plt.subplot(235)\n",
    "venn2(\n",
    "    [features_train5_set, features_val5_set], \n",
    "    set_labels=(\"Train\", \"Validation\"), \n",
    "    set_colors=(\"blue\", \"plum\")\n",
    ")\n",
    "plt.title('Fold 4')\n",
    "\n",
    "plt.show()"
   ]
  },
  {
   "cell_type": "markdown",
   "id": "federal-priority",
   "metadata": {
    "papermill": {
     "duration": 0.042941,
     "end_time": "2021-07-01T07:51:52.644484",
     "exception": false,
     "start_time": "2021-07-01T07:51:52.601543",
     "status": "completed"
    },
    "tags": []
   },
   "source": [
    "We can see that for each fold number of unseen tokens is greater than 1700 for each split. This means that there are lots of unseen tokens in the validation set than the train set and in cases like these Freeze Embedding truly shines."
   ]
  },
  {
   "cell_type": "markdown",
   "id": "valuable-nation",
   "metadata": {
    "papermill": {
     "duration": 0.057582,
     "end_time": "2021-07-01T07:51:52.745007",
     "exception": false,
     "start_time": "2021-07-01T07:51:52.687425",
     "status": "completed"
    },
    "tags": []
   },
   "source": [
    "<font color='#3498DB'><a id=\"section23\"><h3>Implementation</h3></a></font>\n",
    "\n",
    "Here we are going to look at how we can implement Freeze Embedding. The implementation is pretty straightforward and only requires us to freeze base model embeddings."
   ]
  },
  {
   "cell_type": "code",
   "execution_count": 23,
   "id": "legal-audience",
   "metadata": {
    "execution": {
     "iopub.execute_input": "2021-07-01T07:51:52.853230Z",
     "iopub.status.busy": "2021-07-01T07:51:52.852383Z",
     "iopub.status.idle": "2021-07-01T07:52:11.341956Z",
     "shell.execute_reply": "2021-07-01T07:52:11.342485Z",
     "shell.execute_reply.started": "2021-06-01T19:21:40.854467Z"
    },
    "papermill": {
     "duration": 18.540778,
     "end_time": "2021-07-01T07:52:11.342649",
     "exception": false,
     "start_time": "2021-07-01T07:51:52.801871",
     "status": "completed"
    },
    "tags": []
   },
   "outputs": [],
   "source": [
    "import transformers\n",
    "from transformers import AutoConfig, AutoModelForSequenceClassification\n",
    "\n",
    "freeze_embedding = True\n",
    "_pretrained_model = 'roberta-base'\n",
    "\n",
    "config = AutoConfig.from_pretrained(_pretrained_model)\n",
    "model = AutoModelForSequenceClassification.from_pretrained(\n",
    "    _pretrained_model, config=config\n",
    ")\n",
    "model.base_model.embeddings.requires_grad_(not freeze_embedding)\n",
    "\n",
    "clear_output()"
   ]
  },
  {
   "cell_type": "markdown",
   "id": "hydraulic-section",
   "metadata": {
    "papermill": {
     "duration": 0.043799,
     "end_time": "2021-07-01T07:52:11.429721",
     "exception": false,
     "start_time": "2021-07-01T07:52:11.385922",
     "status": "completed"
    },
    "tags": []
   },
   "source": [
    "<font color='#3498DB'><a id=\"section24\"><h3>Conclusion</h3></a></font>\n",
    "\n",
    "It’s a good idea to freeze the embedding matrix when you fine-tune some pre-trained language models, especially with a large vocabulary. It won't give you superior improvements but you can try it for some Kaggle competition. \n",
    "\n",
    "This setup looks the same as with no freezing and you can save your time for training and include larger batch sizes which is pretty important.\n",
    "\n",
    "<font color='#3498DB'><a id=\"section25\"><h3>Resources and References</h3></a></font>\n",
    "\n",
    " - [Jigsaw Multilingual Toxic Comment Classification 10th Place Solution](https://www.kaggle.com/c/jigsaw-multilingual-toxic-comment-classification/discussion/161100)\n",
    " - [Semi-Frozen Embeddings for NLP Transfer Learning](https://medium.com/commetric/semi-frozen-embeddings-for-nlp-transfer-learning-49fcfeec3f1b)\n",
    " - [To Tune or Not to Tune?\n",
    "Adapting Pretrained Representations to Diverse Tasks](https://arxiv.org/pdf/1903.05987.pdf)\n",
    " - [What Would Elsa Do? Freezing Layers During Transformer Fine-Tuning](https://arxiv.org/pdf/1911.03090.pdf)\n",
    " "
   ]
  },
  {
   "cell_type": "markdown",
   "id": "early-nevada",
   "metadata": {
    "papermill": {
     "duration": 0.042806,
     "end_time": "2021-07-01T07:52:11.516825",
     "exception": false,
     "start_time": "2021-07-01T07:52:11.474019",
     "status": "completed"
    },
    "tags": []
   },
   "source": [
    "<font color='#3498DB'><a id=\"section3\"><h2>Numeric Precision Reduction</h2></a></font>\n",
    "\n",
    "<font color='#3498DB'><a id=\"section30\"><h3>Introduction</h3></a></font>\n",
    "Numeric Precision Reduction means yielding speedups through the use of floating point reduction and quantization. This is perhaps the most-general method for yielding prediction-time speedups. \n",
    " \n",
    " In past years poor support for float16 operations on GPU hardware meant that reducing the precision of weights and activations was often counter-productive, but the introduction of the NVIDIA Volta and Turing architectures with Tensor Cores means modern GPUs are now well equipped for efficient float16 arithmetic.\n",
    "\n",
    "<font color='#3498DB'><a id=\"section31\"><h3>Floating Point Representation</h3></a></font>\n",
    " Floating point types store numeric information of three types – the sign, exponent, and fraction.  Traditional float32 representations have 8 bits and 23 bits respectively to represent the exponent and fraction.  Traditional float16 representations (the format used for NVIDIA hardware) roughly halve both the exponent and fraction components of the representation. TPUs use a variant called bfloat16. \n",
    " \n",
    "Most of a transformer network can be naively converted to float16 weights and activations with no accuracy penalty.\n",
    " \n",
    "![fp16](https://www.pragmatic.ml/content/images/2020/04/image-2.png)\n",
    "\n",
    "  Small portions of the network – in particular, portions of the softmax operation – must remain in float32.  This is because the sum of a large number of small values (our logits) can be a source of accumulated error. Because both float16 and float32 values are used, this method is often referred to as \"mixed-precision\" training. \n",
    "  \n",
    "Less precise numeric representations enable speedups from two sources.\n",
    " - Native half-precision instructions\n",
    " - Larger batch sizes thanks to more compact representations \n",
    " \n",
    "<font color='#3498DB'><a id=\"section32\"><h3>How to Use?</h3></a></font>\n",
    "Mixed precision primarily benefits Tensor Core-enabled architectures (Volta, Turing, Ampere). AMP shows significant (2-3X) speedup on those architectures. On earlier architectures (Kepler, Maxwell, Pascal), one may observe a modest speedup. One can run `!nvidia-smi` to display the GPU’s architecture.\n",
    "\n",
    " - [NVIDIA-apex](https://github.com/NVIDIA/apex) - NVIDIA has published a rather extensive suite of benchmarks relating to floating point precision reduction – in practice this method yields speedups up to 3x.\n",
    " - [Torch - torch.cuda.amp](https://pytorch.org/docs/stable/amp.html) - In PyTorch 1.6 release, developers at NVIDIA and Facebook moved mixed precision functionality into PyTorch core as the AMP package, torch.cuda.amp. torch.cuda.amp is more flexible and intuitive compared to apex.amp.\n",
    " \n",
    "<font color='#3498DB'><a id=\"section33\"><h3>Special Case</h3></a></font>\n",
    "On a dataset with small batches, one should be careful with mixed precision, because it can lead to unexpected slower training if there is not enough computation to perform.\n",
    "\n",
    "For e.g. I tried using Native AMP in this competition dataset and my results didn't improve. The reason is probably that it adds overhead and doesn’t help that much as most batches are only made of short sequences. Mixed precision helps the most with big matrix operations.\n",
    "\n",
    "<font color='#3498DB'><a id=\"section34\"><h3>Resources and References</h3></a></font>\n",
    "\n",
    " - [CommonLit Readability Prize - RoBERTa Torch|FIT](https://www.kaggle.com/rhtsingh/commonlit-readability-prize-roberta-torch-fit) - FineTuning Notebook of mine implements this for both training and validation.\n",
    " - [Tips N Tricks # 8: Using automatic mixed precision training with PyTorch 1.6\n",
    "](https://www.youtube.com/watch?v=X7iOkhGePXg) - Abhishek's YouTube Tutorial.\n",
    " - [NVIDIA Deep Learning Examples for Tensor Cores](https://github.com/NVIDIA/DeepLearningExamples) - Tons of state-of-the-Art Deep Learning examples.\n",
    " - [Torch AMP Examples](https://pytorch.org/docs/stable/notes/amp_examples.html)\n",
    " - [Torch AMP Recipes](https://pytorch.org/tutorials/recipes/recipes/amp_recipe.html)"
   ]
  },
  {
   "cell_type": "markdown",
   "id": "blocked-jacket",
   "metadata": {
    "papermill": {
     "duration": 0.043352,
     "end_time": "2021-07-01T07:52:11.603647",
     "exception": false,
     "start_time": "2021-07-01T07:52:11.560295",
     "status": "completed"
    },
    "tags": []
   },
   "source": [
    "<font color='#3498DB'><a id=\"section4\"><h2>Gradient Accumulation</h2></a></font>\n",
    "![5-steps](https://miro.medium.com/max/700/1*ySxl2GQu0g07R7gWF4rizg.gif)\n",
    "<center>The 5-steps of a gradient descent optimization algorithm</center>\n",
    "<br>\n",
    "The PyTorch code equivalent of these 5 steps can also be written in 5 lines:\n",
    "\n",
    "```python \n",
    "predictions = model(inputs)               # Forward pass  \n",
    "loss = loss_function(predictions, labels) # Compute loss function  \n",
    "loss.backward()                           # Backward pass  \n",
    "optimizer.step()                          # Optimizer step  \n",
    "predictions = model(inputs)               # Forward pass with new parameters  \n",
    "```\n",
    "\n",
    "During the loss.backward() operation, gradients are computed for each parameter (in green on our animation) and stored in a tensor associated to each parameter: parameter.grad (the middle graph on our animation).\n",
    "\n",
    "<font color='#3498DB'><a id=\"section40\"><h3>Introduction</h3></a></font>\n",
    "Gradient Accumulation just means that, before calling optimizer.step() to perform a step of gradient descent, we will sum the gradients of several backward operations in the parameter.grad tensors. \n",
    "\n",
    "This is straightforward to do in PyTorch as the gradient tensors are not reset unless we call `model.zero_grad()` or `optimizer.zero_grad()`.\n",
    "\n",
    "We’ll also need to divide by the number of accumulation steps if our loss is averaged over the training samples.\n",
    "\n",
    "<font color='#3498DB'><a id=\"section41\"><h3>Implementation</h3></a></font>\n",
    "Coding the gradient accumulation part is also ridiculously easy on PyTorch. All you need to do is to store the loss at each batch and then update the model parameters only after a set number of batches that you choose.\n",
    "\n",
    "We hold onto `optimizer.step()` which updates the parameters for `accumulation_steps` number of batches. Also, `model.zero_grad()` is called at the same time to reset the accumulated gradients.\n",
    "\n",
    "Here is a simple gist for training a model using gradient accumulation.\n",
    "\n",
    "```python \n",
    "optimizer.zero_grad()                               # Reset gradients tensors\n",
    "for i, (inputs, labels) in enumerate(training_set):\n",
    "    predictions = model(inputs)                     # Forward pass\n",
    "    loss = loss_function(predictions, labels)       # Compute loss function\n",
    "    loss = loss / accumulation_steps                # Normalize our loss (if averaged)\n",
    "    loss.backward()                                 # Backward pass\n",
    "    if (i+1) % accumulation_steps == 0:             # Wait for several backward steps\n",
    "        optimizer.step()                            # Now we can do an optimizer step\n",
    "        optimizer.zero_grad()                           # Reset gradients tensors\n",
    "        if (i+1) % evaluation_steps == 0:           # Evaluate the model when we...\n",
    "            evaluate_model()                        # ...have no gradients accumulated\n",
    "```\n",
    "\n",
    "<font color='#3498DB'><a id=\"section42\"><h3>Resources and References</h3></a></font>\n",
    " \n",
    " - [CommonLit Readability Prize - RoBERTa Torch|ITPT](https://www.kaggle.com/rhtsingh/commonlit-readability-prize-roberta-torch-itpt) - Pretraining Kernel of mine specific to this comptition implements Accumulated Gradients.\n",
    " - [HugginFace Examples](https://github.com/huggingface/transformers/tree/master/examples) - The official repository of HuggingFace Examples which implements Gradient Accumulation in all PyTorch scripts.\n",
    " - [Gradient Accumulation: Overcoming Memory Constraints in Deep Learning](https://towardsdatascience.com/gradient-accumulation-overcoming-memory-constraints-in-deep-learning-36d411252d01)\n",
    " - [Gradient Accumulation in TensorFlow](https://gchlebus.github.io/2018/06/05/gradient-averaging.html)"
   ]
  },
  {
   "cell_type": "markdown",
   "id": "thorough-ethnic",
   "metadata": {
    "papermill": {
     "duration": 0.042752,
     "end_time": "2021-07-01T07:52:11.689693",
     "exception": false,
     "start_time": "2021-07-01T07:52:11.646941",
     "status": "completed"
    },
    "tags": []
   },
   "source": [
    "<font color='#3498DB'><a id=\"section5\"><h2>Gradient Checkpointing</h2></a></font>\n",
    "\n",
    "<font color='#3498DB'><a id=\"section50\"><h3>Introduction</h3></a></font>\n",
    "Gradient Checkpointing is a method used for reducing the memory footprint when training deep neural networks, at the cost of having a small increase in computation time.It allows trading compute for memory and hence allows training bigger/wider models and use large minibatch sizes.\n",
    "\n",
    "<font color='#3498DB'><a id=\"section51\"><h3>Idea</h3></a></font>\n",
    "The idea is to back-propagate the gradients in small chunks along the model, trading the memory needed to store a full back propagation graph with the additional compute of a partial forward pass associated to each chunk. \n",
    "\n",
    "This is a rather slow method as we add additional compute to reduce the memory requirements but helps in selecting larger batch size and it can be interesting in some settings.\n",
    "\n",
    "![checkpoint](https://miro.medium.com/proxy/0*udMSiPD0kZHum-sZ.)\n",
    " <center>“Memory-poor” strategy that needs O(1) memory (but requires O(n²) computation steps)</center>\n",
    " \n",
    "<font color='#3498DB'><a id=\"section52\"><h3>References and Resources</h3></a></font>\n",
    " - Official Paper - [Training Deep Nets with Sublinear Memory Cost](https://arxiv.org/abs/1604.06174v2)\n",
    " - PyTorch Doc - [torch.utils.checkpoint.checkpoint](https://pytorch.org/docs/master/checkpoint.html)\n",
    " - PyTorch Memory optimizations via gradient checkpointing - [pytorch_memonger](https://github.com/prigoyal/pytorch_memonger)\n",
    "   - Notebook - [Trading compute for memory in PyTorch models using Checkpointing](https://github.com/prigoyal/pytorch_memonger/blob/master/tutorial/Checkpointing_for_PyTorch_models.ipynb)\n",
    " - TensorFlow - [OpenAI Gradient Checkpointing](https://medium.com/tensorflow/fitting-larger-networks-into-memory-583e3c758ff9)\n",
    " - [PyTorch Checkpoint](https://github.com/csrhddlam/pytorch-checkpoint#:~:text=Gradient%20checkpointing%20is%20a%20technique%20to%20reduce%20GPU%20memory%20cost.)\n",
    " - [Training Neural Nets on Larger Batches](https://medium.com/huggingface/training-larger-batches-practical-tips-on-1-gpu-multi-gpu-distributed-setups-ec88c3e51255)"
   ]
  },
  {
   "cell_type": "markdown",
   "id": "detailed-ribbon",
   "metadata": {
    "papermill": {
     "duration": 0.042582,
     "end_time": "2021-07-01T07:52:11.775395",
     "exception": false,
     "start_time": "2021-07-01T07:52:11.732813",
     "status": "completed"
    },
    "tags": []
   },
   "source": [
    "<font color='#3498DB'><a id=\"section6\"><h2>Ending Notes</h2></a></font>\n",
    "\n",
    "- There are many more optimization strategies (in multi-GPU setups specifically) but I've found these are the most impactful ones. \n",
    "\n",
    "- As a futher research, one can explore [ZeRO: Memory Optimizations Toward Training Trillion Parameter Models](https://arxiv.org/abs/1910.02054) and subsequent papers which contains a plethora of ingenious new ideas on how one could make their hardware do much more than what it was thought possible before. The techniques described in this paper is implemented in libraries [DeepSpeed](https://github.com/microsoft/deepspeed) and [FairScale](https://github.com/facebookresearch/fairscale/) which was later on intergrated in HuggingFace v4.2.0.\n",
    "\n",
    "- HugginFace recently introduced [Accelerate](https://huggingface.co/blog/accelerate-library) which provides out of the box simplicity and support for distributed training and mixed precision.\n",
    "\n",
    "- More comprehensive repository for learning and implementing Transformers for various tasks can be found [here](https://notebooks.quantumstat.com/), [here](https://huggingface.co/transformers/master/community.html#community-notebooks) and [here](https://huggingface.co/transformers/notebooks.html)  "
   ]
  },
  {
   "cell_type": "markdown",
   "id": "complicated-technician",
   "metadata": {
    "papermill": {
     "duration": 0.043339,
     "end_time": "2021-07-01T07:52:11.862530",
     "exception": false,
     "start_time": "2021-07-01T07:52:11.819191",
     "status": "completed"
    },
    "tags": []
   },
   "source": [
    "*Note: I haven't tried all of these methods or have benchmarked for this competition yet. This notebook serves more like a guide than a solution and I'll update the results for my experiments here soon.*\n",
    "\n",
    "<font color='#3498DB'><a id=\"section2\"><h2>Thanks & Please Do Upvote!</h2></a></font>"
   ]
  }
 ],
 "metadata": {
  "kernelspec": {
   "display_name": "Python 3",
   "language": "python",
   "name": "python3"
  },
  "language_info": {
   "codemirror_mode": {
    "name": "ipython",
    "version": 3
   },
   "file_extension": ".py",
   "mimetype": "text/x-python",
   "name": "python",
   "nbconvert_exporter": "python",
   "pygments_lexer": "ipython3",
   "version": "3.7.10"
  },
  "papermill": {
   "default_parameters": {},
   "duration": 62.932069,
   "end_time": "2021-07-01T07:52:13.962748",
   "environment_variables": {},
   "exception": null,
   "input_path": "__notebook__.ipynb",
   "output_path": "__notebook__.ipynb",
   "parameters": {},
   "start_time": "2021-07-01T07:51:11.030679",
   "version": "2.3.3"
  },
  "widgets": {
   "application/vnd.jupyter.widget-state+json": {
    "state": {
     "01b67b1c66da4f0192501031cb43ffb3": {
      "model_module": "@jupyter-widgets/controls",
      "model_module_version": "1.5.0",
      "model_name": "HBoxModel",
      "state": {
       "_dom_classes": [],
       "_model_module": "@jupyter-widgets/controls",
       "_model_module_version": "1.5.0",
       "_model_name": "HBoxModel",
       "_view_count": null,
       "_view_module": "@jupyter-widgets/controls",
       "_view_module_version": "1.5.0",
       "_view_name": "HBoxView",
       "box_style": "",
       "children": [
        "IPY_MODEL_e5bd6bb3a087471a922f9aa0d1430e3b",
        "IPY_MODEL_7f7b57e4dd1b46ecaccf6d62e5766cc2",
        "IPY_MODEL_f61e0000bbd849798edec9e4cca2b03c"
       ],
       "layout": "IPY_MODEL_69a07de3a43e450d8c9c46a27a6192be"
      }
     },
     "039a41e1d16849b5a562dd9c31de8d7e": {
      "model_module": "@jupyter-widgets/base",
      "model_module_version": "1.2.0",
      "model_name": "LayoutModel",
      "state": {
       "_model_module": "@jupyter-widgets/base",
       "_model_module_version": "1.2.0",
       "_model_name": "LayoutModel",
       "_view_count": null,
       "_view_module": "@jupyter-widgets/base",
       "_view_module_version": "1.2.0",
       "_view_name": "LayoutView",
       "align_content": null,
       "align_items": null,
       "align_self": null,
       "border": null,
       "bottom": null,
       "display": null,
       "flex": null,
       "flex_flow": null,
       "grid_area": null,
       "grid_auto_columns": null,
       "grid_auto_flow": null,
       "grid_auto_rows": null,
       "grid_column": null,
       "grid_gap": null,
       "grid_row": null,
       "grid_template_areas": null,
       "grid_template_columns": null,
       "grid_template_rows": null,
       "height": null,
       "justify_content": null,
       "justify_items": null,
       "left": null,
       "margin": null,
       "max_height": null,
       "max_width": null,
       "min_height": null,
       "min_width": null,
       "object_fit": null,
       "object_position": null,
       "order": null,
       "overflow": null,
       "overflow_x": null,
       "overflow_y": null,
       "padding": null,
       "right": null,
       "top": null,
       "visibility": null,
       "width": null
      }
     },
     "05958f7a8f6446f192939310234b0c52": {
      "model_module": "@jupyter-widgets/controls",
      "model_module_version": "1.5.0",
      "model_name": "ProgressStyleModel",
      "state": {
       "_model_module": "@jupyter-widgets/controls",
       "_model_module_version": "1.5.0",
       "_model_name": "ProgressStyleModel",
       "_view_count": null,
       "_view_module": "@jupyter-widgets/base",
       "_view_module_version": "1.2.0",
       "_view_name": "StyleView",
       "bar_color": null,
       "description_width": ""
      }
     },
     "060383007fab4bfa971577e4d61f735c": {
      "model_module": "@jupyter-widgets/base",
      "model_module_version": "1.2.0",
      "model_name": "LayoutModel",
      "state": {
       "_model_module": "@jupyter-widgets/base",
       "_model_module_version": "1.2.0",
       "_model_name": "LayoutModel",
       "_view_count": null,
       "_view_module": "@jupyter-widgets/base",
       "_view_module_version": "1.2.0",
       "_view_name": "LayoutView",
       "align_content": null,
       "align_items": null,
       "align_self": null,
       "border": null,
       "bottom": null,
       "display": null,
       "flex": null,
       "flex_flow": null,
       "grid_area": null,
       "grid_auto_columns": null,
       "grid_auto_flow": null,
       "grid_auto_rows": null,
       "grid_column": null,
       "grid_gap": null,
       "grid_row": null,
       "grid_template_areas": null,
       "grid_template_columns": null,
       "grid_template_rows": null,
       "height": null,
       "justify_content": null,
       "justify_items": null,
       "left": null,
       "margin": null,
       "max_height": null,
       "max_width": null,
       "min_height": null,
       "min_width": null,
       "object_fit": null,
       "object_position": null,
       "order": null,
       "overflow": null,
       "overflow_x": null,
       "overflow_y": null,
       "padding": null,
       "right": null,
       "top": null,
       "visibility": null,
       "width": null
      }
     },
     "0a4e54f08ea84450b74ae594ea4dcfef": {
      "model_module": "@jupyter-widgets/base",
      "model_module_version": "1.2.0",
      "model_name": "LayoutModel",
      "state": {
       "_model_module": "@jupyter-widgets/base",
       "_model_module_version": "1.2.0",
       "_model_name": "LayoutModel",
       "_view_count": null,
       "_view_module": "@jupyter-widgets/base",
       "_view_module_version": "1.2.0",
       "_view_name": "LayoutView",
       "align_content": null,
       "align_items": null,
       "align_self": null,
       "border": null,
       "bottom": null,
       "display": null,
       "flex": null,
       "flex_flow": null,
       "grid_area": null,
       "grid_auto_columns": null,
       "grid_auto_flow": null,
       "grid_auto_rows": null,
       "grid_column": null,
       "grid_gap": null,
       "grid_row": null,
       "grid_template_areas": null,
       "grid_template_columns": null,
       "grid_template_rows": null,
       "height": null,
       "justify_content": null,
       "justify_items": null,
       "left": null,
       "margin": null,
       "max_height": null,
       "max_width": null,
       "min_height": null,
       "min_width": null,
       "object_fit": null,
       "object_position": null,
       "order": null,
       "overflow": null,
       "overflow_x": null,
       "overflow_y": null,
       "padding": null,
       "right": null,
       "top": null,
       "visibility": null,
       "width": null
      }
     },
     "12b99bec165e4c6e80d01aa578a29edb": {
      "model_module": "@jupyter-widgets/controls",
      "model_module_version": "1.5.0",
      "model_name": "ProgressStyleModel",
      "state": {
       "_model_module": "@jupyter-widgets/controls",
       "_model_module_version": "1.5.0",
       "_model_name": "ProgressStyleModel",
       "_view_count": null,
       "_view_module": "@jupyter-widgets/base",
       "_view_module_version": "1.2.0",
       "_view_name": "StyleView",
       "bar_color": null,
       "description_width": ""
      }
     },
     "1a80475fb37d481cb25ac4e720235d90": {
      "model_module": "@jupyter-widgets/base",
      "model_module_version": "1.2.0",
      "model_name": "LayoutModel",
      "state": {
       "_model_module": "@jupyter-widgets/base",
       "_model_module_version": "1.2.0",
       "_model_name": "LayoutModel",
       "_view_count": null,
       "_view_module": "@jupyter-widgets/base",
       "_view_module_version": "1.2.0",
       "_view_name": "LayoutView",
       "align_content": null,
       "align_items": null,
       "align_self": null,
       "border": null,
       "bottom": null,
       "display": null,
       "flex": null,
       "flex_flow": null,
       "grid_area": null,
       "grid_auto_columns": null,
       "grid_auto_flow": null,
       "grid_auto_rows": null,
       "grid_column": null,
       "grid_gap": null,
       "grid_row": null,
       "grid_template_areas": null,
       "grid_template_columns": null,
       "grid_template_rows": null,
       "height": null,
       "justify_content": null,
       "justify_items": null,
       "left": null,
       "margin": null,
       "max_height": null,
       "max_width": null,
       "min_height": null,
       "min_width": null,
       "object_fit": null,
       "object_position": null,
       "order": null,
       "overflow": null,
       "overflow_x": null,
       "overflow_y": null,
       "padding": null,
       "right": null,
       "top": null,
       "visibility": null,
       "width": null
      }
     },
     "25403f3754df460db1adf512c1b20560": {
      "model_module": "@jupyter-widgets/controls",
      "model_module_version": "1.5.0",
      "model_name": "HTMLModel",
      "state": {
       "_dom_classes": [],
       "_model_module": "@jupyter-widgets/controls",
       "_model_module_version": "1.5.0",
       "_model_name": "HTMLModel",
       "_view_count": null,
       "_view_module": "@jupyter-widgets/controls",
       "_view_module_version": "1.5.0",
       "_view_name": "HTMLView",
       "description": "",
       "description_tooltip": null,
       "layout": "IPY_MODEL_e9f090beb39e4912a3de7b8f1f7e1815",
       "placeholder": "​",
       "style": "IPY_MODEL_6e6c3c9449ba42618f1552e5e18f6da7",
       "value": " 456k/456k [00:00&lt;00:00, 1.10MB/s]"
      }
     },
     "2c7983d6ca9e4876a51cad7b9a417e5d": {
      "model_module": "@jupyter-widgets/controls",
      "model_module_version": "1.5.0",
      "model_name": "HBoxModel",
      "state": {
       "_dom_classes": [],
       "_model_module": "@jupyter-widgets/controls",
       "_model_module_version": "1.5.0",
       "_model_name": "HBoxModel",
       "_view_count": null,
       "_view_module": "@jupyter-widgets/controls",
       "_view_module_version": "1.5.0",
       "_view_name": "HBoxView",
       "box_style": "",
       "children": [
        "IPY_MODEL_c1ce98165ef342f7b02ef7bbe435f363",
        "IPY_MODEL_7140993d386a4ca2b59d01900d41b9c8",
        "IPY_MODEL_5904f918fc9b43749b6d4fe18612f26d"
       ],
       "layout": "IPY_MODEL_aec30226afdd4875be4529c41f35d545"
      }
     },
     "30f40ca4f2ee4c9bb48cdfa82908bfe3": {
      "model_module": "@jupyter-widgets/base",
      "model_module_version": "1.2.0",
      "model_name": "LayoutModel",
      "state": {
       "_model_module": "@jupyter-widgets/base",
       "_model_module_version": "1.2.0",
       "_model_name": "LayoutModel",
       "_view_count": null,
       "_view_module": "@jupyter-widgets/base",
       "_view_module_version": "1.2.0",
       "_view_name": "LayoutView",
       "align_content": null,
       "align_items": null,
       "align_self": null,
       "border": null,
       "bottom": null,
       "display": null,
       "flex": null,
       "flex_flow": null,
       "grid_area": null,
       "grid_auto_columns": null,
       "grid_auto_flow": null,
       "grid_auto_rows": null,
       "grid_column": null,
       "grid_gap": null,
       "grid_row": null,
       "grid_template_areas": null,
       "grid_template_columns": null,
       "grid_template_rows": null,
       "height": null,
       "justify_content": null,
       "justify_items": null,
       "left": null,
       "margin": null,
       "max_height": null,
       "max_width": null,
       "min_height": null,
       "min_width": null,
       "object_fit": null,
       "object_position": null,
       "order": null,
       "overflow": null,
       "overflow_x": null,
       "overflow_y": null,
       "padding": null,
       "right": null,
       "top": null,
       "visibility": null,
       "width": null
      }
     },
     "332a69cb17f04457ad5270dc1a62a39e": {
      "model_module": "@jupyter-widgets/controls",
      "model_module_version": "1.5.0",
      "model_name": "DescriptionStyleModel",
      "state": {
       "_model_module": "@jupyter-widgets/controls",
       "_model_module_version": "1.5.0",
       "_model_name": "DescriptionStyleModel",
       "_view_count": null,
       "_view_module": "@jupyter-widgets/base",
       "_view_module_version": "1.2.0",
       "_view_name": "StyleView",
       "description_width": ""
      }
     },
     "35d29100b0034f86843c1218d10875aa": {
      "model_module": "@jupyter-widgets/controls",
      "model_module_version": "1.5.0",
      "model_name": "DescriptionStyleModel",
      "state": {
       "_model_module": "@jupyter-widgets/controls",
       "_model_module_version": "1.5.0",
       "_model_name": "DescriptionStyleModel",
       "_view_count": null,
       "_view_module": "@jupyter-widgets/base",
       "_view_module_version": "1.2.0",
       "_view_name": "StyleView",
       "description_width": ""
      }
     },
     "36b9e63944664f0f92b2b4659fafd230": {
      "model_module": "@jupyter-widgets/controls",
      "model_module_version": "1.5.0",
      "model_name": "DescriptionStyleModel",
      "state": {
       "_model_module": "@jupyter-widgets/controls",
       "_model_module_version": "1.5.0",
       "_model_name": "DescriptionStyleModel",
       "_view_count": null,
       "_view_module": "@jupyter-widgets/base",
       "_view_module_version": "1.2.0",
       "_view_name": "StyleView",
       "description_width": ""
      }
     },
     "3baabd22bf8c49909e0bea31fd1669a4": {
      "model_module": "@jupyter-widgets/base",
      "model_module_version": "1.2.0",
      "model_name": "LayoutModel",
      "state": {
       "_model_module": "@jupyter-widgets/base",
       "_model_module_version": "1.2.0",
       "_model_name": "LayoutModel",
       "_view_count": null,
       "_view_module": "@jupyter-widgets/base",
       "_view_module_version": "1.2.0",
       "_view_name": "LayoutView",
       "align_content": null,
       "align_items": null,
       "align_self": null,
       "border": null,
       "bottom": null,
       "display": null,
       "flex": null,
       "flex_flow": null,
       "grid_area": null,
       "grid_auto_columns": null,
       "grid_auto_flow": null,
       "grid_auto_rows": null,
       "grid_column": null,
       "grid_gap": null,
       "grid_row": null,
       "grid_template_areas": null,
       "grid_template_columns": null,
       "grid_template_rows": null,
       "height": null,
       "justify_content": null,
       "justify_items": null,
       "left": null,
       "margin": null,
       "max_height": null,
       "max_width": null,
       "min_height": null,
       "min_width": null,
       "object_fit": null,
       "object_position": null,
       "order": null,
       "overflow": null,
       "overflow_x": null,
       "overflow_y": null,
       "padding": null,
       "right": null,
       "top": null,
       "visibility": null,
       "width": null
      }
     },
     "5904f918fc9b43749b6d4fe18612f26d": {
      "model_module": "@jupyter-widgets/controls",
      "model_module_version": "1.5.0",
      "model_name": "HTMLModel",
      "state": {
       "_dom_classes": [],
       "_model_module": "@jupyter-widgets/controls",
       "_model_module_version": "1.5.0",
       "_model_name": "HTMLModel",
       "_view_count": null,
       "_view_module": "@jupyter-widgets/controls",
       "_view_module_version": "1.5.0",
       "_view_name": "HTMLView",
       "description": "",
       "description_tooltip": null,
       "layout": "IPY_MODEL_8e6b50fabbc34b11ae9873603e76d9d9",
       "placeholder": "​",
       "style": "IPY_MODEL_c1a5493af6304bb29fefe3b5d1c3c34b",
       "value": " 481/481 [00:00&lt;00:00, 14.7kB/s]"
      }
     },
     "649f4d6f6c354f0b8f678d44c89300ec": {
      "model_module": "@jupyter-widgets/controls",
      "model_module_version": "1.5.0",
      "model_name": "ProgressStyleModel",
      "state": {
       "_model_module": "@jupyter-widgets/controls",
       "_model_module_version": "1.5.0",
       "_model_name": "ProgressStyleModel",
       "_view_count": null,
       "_view_module": "@jupyter-widgets/base",
       "_view_module_version": "1.2.0",
       "_view_name": "StyleView",
       "bar_color": null,
       "description_width": ""
      }
     },
     "69a07de3a43e450d8c9c46a27a6192be": {
      "model_module": "@jupyter-widgets/base",
      "model_module_version": "1.2.0",
      "model_name": "LayoutModel",
      "state": {
       "_model_module": "@jupyter-widgets/base",
       "_model_module_version": "1.2.0",
       "_model_name": "LayoutModel",
       "_view_count": null,
       "_view_module": "@jupyter-widgets/base",
       "_view_module_version": "1.2.0",
       "_view_name": "LayoutView",
       "align_content": null,
       "align_items": null,
       "align_self": null,
       "border": null,
       "bottom": null,
       "display": null,
       "flex": null,
       "flex_flow": null,
       "grid_area": null,
       "grid_auto_columns": null,
       "grid_auto_flow": null,
       "grid_auto_rows": null,
       "grid_column": null,
       "grid_gap": null,
       "grid_row": null,
       "grid_template_areas": null,
       "grid_template_columns": null,
       "grid_template_rows": null,
       "height": null,
       "justify_content": null,
       "justify_items": null,
       "left": null,
       "margin": null,
       "max_height": null,
       "max_width": null,
       "min_height": null,
       "min_width": null,
       "object_fit": null,
       "object_position": null,
       "order": null,
       "overflow": null,
       "overflow_x": null,
       "overflow_y": null,
       "padding": null,
       "right": null,
       "top": null,
       "visibility": null,
       "width": null
      }
     },
     "6e6c3c9449ba42618f1552e5e18f6da7": {
      "model_module": "@jupyter-widgets/controls",
      "model_module_version": "1.5.0",
      "model_name": "DescriptionStyleModel",
      "state": {
       "_model_module": "@jupyter-widgets/controls",
       "_model_module_version": "1.5.0",
       "_model_name": "DescriptionStyleModel",
       "_view_count": null,
       "_view_module": "@jupyter-widgets/base",
       "_view_module_version": "1.2.0",
       "_view_name": "StyleView",
       "description_width": ""
      }
     },
     "7140993d386a4ca2b59d01900d41b9c8": {
      "model_module": "@jupyter-widgets/controls",
      "model_module_version": "1.5.0",
      "model_name": "FloatProgressModel",
      "state": {
       "_dom_classes": [],
       "_model_module": "@jupyter-widgets/controls",
       "_model_module_version": "1.5.0",
       "_model_name": "FloatProgressModel",
       "_view_count": null,
       "_view_module": "@jupyter-widgets/controls",
       "_view_module_version": "1.5.0",
       "_view_name": "ProgressView",
       "bar_style": "success",
       "description": "",
       "description_tooltip": null,
       "layout": "IPY_MODEL_d54663f8638441d3b91a4d7872e1a3d0",
       "max": 481.0,
       "min": 0.0,
       "orientation": "horizontal",
       "style": "IPY_MODEL_e40c35fa5d034f569d10b47c41c0e04e",
       "value": 481.0
      }
     },
     "73df9f0714e243dc827b796a24e6c56a": {
      "model_module": "@jupyter-widgets/controls",
      "model_module_version": "1.5.0",
      "model_name": "FloatProgressModel",
      "state": {
       "_dom_classes": [],
       "_model_module": "@jupyter-widgets/controls",
       "_model_module_version": "1.5.0",
       "_model_name": "FloatProgressModel",
       "_view_count": null,
       "_view_module": "@jupyter-widgets/controls",
       "_view_module_version": "1.5.0",
       "_view_name": "ProgressView",
       "bar_style": "success",
       "description": "",
       "description_tooltip": null,
       "layout": "IPY_MODEL_c7caa601ff74401bbdec93bc4859df8e",
       "max": 456318.0,
       "min": 0.0,
       "orientation": "horizontal",
       "style": "IPY_MODEL_12b99bec165e4c6e80d01aa578a29edb",
       "value": 456318.0
      }
     },
     "75f3f7ac69534a8092a472ab6ba19d58": {
      "model_module": "@jupyter-widgets/base",
      "model_module_version": "1.2.0",
      "model_name": "LayoutModel",
      "state": {
       "_model_module": "@jupyter-widgets/base",
       "_model_module_version": "1.2.0",
       "_model_name": "LayoutModel",
       "_view_count": null,
       "_view_module": "@jupyter-widgets/base",
       "_view_module_version": "1.2.0",
       "_view_name": "LayoutView",
       "align_content": null,
       "align_items": null,
       "align_self": null,
       "border": null,
       "bottom": null,
       "display": null,
       "flex": null,
       "flex_flow": null,
       "grid_area": null,
       "grid_auto_columns": null,
       "grid_auto_flow": null,
       "grid_auto_rows": null,
       "grid_column": null,
       "grid_gap": null,
       "grid_row": null,
       "grid_template_areas": null,
       "grid_template_columns": null,
       "grid_template_rows": null,
       "height": null,
       "justify_content": null,
       "justify_items": null,
       "left": null,
       "margin": null,
       "max_height": null,
       "max_width": null,
       "min_height": null,
       "min_width": null,
       "object_fit": null,
       "object_position": null,
       "order": null,
       "overflow": null,
       "overflow_x": null,
       "overflow_y": null,
       "padding": null,
       "right": null,
       "top": null,
       "visibility": null,
       "width": null
      }
     },
     "76b2d5cb8ddf4dfabf02e88ebf9d0ab9": {
      "model_module": "@jupyter-widgets/controls",
      "model_module_version": "1.5.0",
      "model_name": "HTMLModel",
      "state": {
       "_dom_classes": [],
       "_model_module": "@jupyter-widgets/controls",
       "_model_module_version": "1.5.0",
       "_model_name": "HTMLModel",
       "_view_count": null,
       "_view_module": "@jupyter-widgets/controls",
       "_view_module_version": "1.5.0",
       "_view_name": "HTMLView",
       "description": "",
       "description_tooltip": null,
       "layout": "IPY_MODEL_30f40ca4f2ee4c9bb48cdfa82908bfe3",
       "placeholder": "​",
       "style": "IPY_MODEL_35d29100b0034f86843c1218d10875aa",
       "value": " 899k/899k [00:00&lt;00:00, 1.26MB/s]"
      }
     },
     "7f7b57e4dd1b46ecaccf6d62e5766cc2": {
      "model_module": "@jupyter-widgets/controls",
      "model_module_version": "1.5.0",
      "model_name": "FloatProgressModel",
      "state": {
       "_dom_classes": [],
       "_model_module": "@jupyter-widgets/controls",
       "_model_module_version": "1.5.0",
       "_model_name": "FloatProgressModel",
       "_view_count": null,
       "_view_module": "@jupyter-widgets/controls",
       "_view_module_version": "1.5.0",
       "_view_name": "ProgressView",
       "bar_style": "success",
       "description": "",
       "description_tooltip": null,
       "layout": "IPY_MODEL_0a4e54f08ea84450b74ae594ea4dcfef",
       "max": 501200538.0,
       "min": 0.0,
       "orientation": "horizontal",
       "style": "IPY_MODEL_649f4d6f6c354f0b8f678d44c89300ec",
       "value": 501200538.0
      }
     },
     "860ff7cadf12401d8ed63cf171189fa2": {
      "model_module": "@jupyter-widgets/controls",
      "model_module_version": "1.5.0",
      "model_name": "ProgressStyleModel",
      "state": {
       "_model_module": "@jupyter-widgets/controls",
       "_model_module_version": "1.5.0",
       "_model_name": "ProgressStyleModel",
       "_view_count": null,
       "_view_module": "@jupyter-widgets/base",
       "_view_module_version": "1.2.0",
       "_view_name": "StyleView",
       "bar_color": null,
       "description_width": ""
      }
     },
     "8e6b50fabbc34b11ae9873603e76d9d9": {
      "model_module": "@jupyter-widgets/base",
      "model_module_version": "1.2.0",
      "model_name": "LayoutModel",
      "state": {
       "_model_module": "@jupyter-widgets/base",
       "_model_module_version": "1.2.0",
       "_model_name": "LayoutModel",
       "_view_count": null,
       "_view_module": "@jupyter-widgets/base",
       "_view_module_version": "1.2.0",
       "_view_name": "LayoutView",
       "align_content": null,
       "align_items": null,
       "align_self": null,
       "border": null,
       "bottom": null,
       "display": null,
       "flex": null,
       "flex_flow": null,
       "grid_area": null,
       "grid_auto_columns": null,
       "grid_auto_flow": null,
       "grid_auto_rows": null,
       "grid_column": null,
       "grid_gap": null,
       "grid_row": null,
       "grid_template_areas": null,
       "grid_template_columns": null,
       "grid_template_rows": null,
       "height": null,
       "justify_content": null,
       "justify_items": null,
       "left": null,
       "margin": null,
       "max_height": null,
       "max_width": null,
       "min_height": null,
       "min_width": null,
       "object_fit": null,
       "object_position": null,
       "order": null,
       "overflow": null,
       "overflow_x": null,
       "overflow_y": null,
       "padding": null,
       "right": null,
       "top": null,
       "visibility": null,
       "width": null
      }
     },
     "8f197aab10084110bd62c83ab30913cd": {
      "model_module": "@jupyter-widgets/controls",
      "model_module_version": "1.5.0",
      "model_name": "HTMLModel",
      "state": {
       "_dom_classes": [],
       "_model_module": "@jupyter-widgets/controls",
       "_model_module_version": "1.5.0",
       "_model_name": "HTMLModel",
       "_view_count": null,
       "_view_module": "@jupyter-widgets/controls",
       "_view_module_version": "1.5.0",
       "_view_name": "HTMLView",
       "description": "",
       "description_tooltip": null,
       "layout": "IPY_MODEL_060383007fab4bfa971577e4d61f735c",
       "placeholder": "​",
       "style": "IPY_MODEL_c24dc12286e945b8bc0041e129482f74",
       "value": " 1.36M/1.36M [00:00&lt;00:00, 3.50MB/s]"
      }
     },
     "9099d20ba0ee4a2c9e06398495a2183e": {
      "model_module": "@jupyter-widgets/controls",
      "model_module_version": "1.5.0",
      "model_name": "HBoxModel",
      "state": {
       "_dom_classes": [],
       "_model_module": "@jupyter-widgets/controls",
       "_model_module_version": "1.5.0",
       "_model_name": "HBoxModel",
       "_view_count": null,
       "_view_module": "@jupyter-widgets/controls",
       "_view_module_version": "1.5.0",
       "_view_name": "HBoxView",
       "box_style": "",
       "children": [
        "IPY_MODEL_f772788dc64b40c486e71ff97eb2981d",
        "IPY_MODEL_de9ef3d4627d4644bde6519b2a6dcc2f",
        "IPY_MODEL_76b2d5cb8ddf4dfabf02e88ebf9d0ab9"
       ],
       "layout": "IPY_MODEL_75f3f7ac69534a8092a472ab6ba19d58"
      }
     },
     "962c79ef7a2244b0bc2daf32572f5403": {
      "model_module": "@jupyter-widgets/controls",
      "model_module_version": "1.5.0",
      "model_name": "DescriptionStyleModel",
      "state": {
       "_model_module": "@jupyter-widgets/controls",
       "_model_module_version": "1.5.0",
       "_model_name": "DescriptionStyleModel",
       "_view_count": null,
       "_view_module": "@jupyter-widgets/base",
       "_view_module_version": "1.2.0",
       "_view_name": "StyleView",
       "description_width": ""
      }
     },
     "a3a8cae8f18f4eccbf014435b0b3a3d9": {
      "model_module": "@jupyter-widgets/controls",
      "model_module_version": "1.5.0",
      "model_name": "HTMLModel",
      "state": {
       "_dom_classes": [],
       "_model_module": "@jupyter-widgets/controls",
       "_model_module_version": "1.5.0",
       "_model_name": "HTMLModel",
       "_view_count": null,
       "_view_module": "@jupyter-widgets/controls",
       "_view_module_version": "1.5.0",
       "_view_name": "HTMLView",
       "description": "",
       "description_tooltip": null,
       "layout": "IPY_MODEL_d531e82e0e1040b293b883ec182f34a8",
       "placeholder": "​",
       "style": "IPY_MODEL_bc2df598a6164e738a3bc1731479ff8e",
       "value": "Downloading: 100%"
      }
     },
     "aec30226afdd4875be4529c41f35d545": {
      "model_module": "@jupyter-widgets/base",
      "model_module_version": "1.2.0",
      "model_name": "LayoutModel",
      "state": {
       "_model_module": "@jupyter-widgets/base",
       "_model_module_version": "1.2.0",
       "_model_name": "LayoutModel",
       "_view_count": null,
       "_view_module": "@jupyter-widgets/base",
       "_view_module_version": "1.2.0",
       "_view_name": "LayoutView",
       "align_content": null,
       "align_items": null,
       "align_self": null,
       "border": null,
       "bottom": null,
       "display": null,
       "flex": null,
       "flex_flow": null,
       "grid_area": null,
       "grid_auto_columns": null,
       "grid_auto_flow": null,
       "grid_auto_rows": null,
       "grid_column": null,
       "grid_gap": null,
       "grid_row": null,
       "grid_template_areas": null,
       "grid_template_columns": null,
       "grid_template_rows": null,
       "height": null,
       "justify_content": null,
       "justify_items": null,
       "left": null,
       "margin": null,
       "max_height": null,
       "max_width": null,
       "min_height": null,
       "min_width": null,
       "object_fit": null,
       "object_position": null,
       "order": null,
       "overflow": null,
       "overflow_x": null,
       "overflow_y": null,
       "padding": null,
       "right": null,
       "top": null,
       "visibility": null,
       "width": null
      }
     },
     "b4d078c77a9f482e87d90463b9be2da4": {
      "model_module": "@jupyter-widgets/base",
      "model_module_version": "1.2.0",
      "model_name": "LayoutModel",
      "state": {
       "_model_module": "@jupyter-widgets/base",
       "_model_module_version": "1.2.0",
       "_model_name": "LayoutModel",
       "_view_count": null,
       "_view_module": "@jupyter-widgets/base",
       "_view_module_version": "1.2.0",
       "_view_name": "LayoutView",
       "align_content": null,
       "align_items": null,
       "align_self": null,
       "border": null,
       "bottom": null,
       "display": null,
       "flex": null,
       "flex_flow": null,
       "grid_area": null,
       "grid_auto_columns": null,
       "grid_auto_flow": null,
       "grid_auto_rows": null,
       "grid_column": null,
       "grid_gap": null,
       "grid_row": null,
       "grid_template_areas": null,
       "grid_template_columns": null,
       "grid_template_rows": null,
       "height": null,
       "justify_content": null,
       "justify_items": null,
       "left": null,
       "margin": null,
       "max_height": null,
       "max_width": null,
       "min_height": null,
       "min_width": null,
       "object_fit": null,
       "object_position": null,
       "order": null,
       "overflow": null,
       "overflow_x": null,
       "overflow_y": null,
       "padding": null,
       "right": null,
       "top": null,
       "visibility": null,
       "width": null
      }
     },
     "b5135de25d934899a5b7b29bf08a7378": {
      "model_module": "@jupyter-widgets/base",
      "model_module_version": "1.2.0",
      "model_name": "LayoutModel",
      "state": {
       "_model_module": "@jupyter-widgets/base",
       "_model_module_version": "1.2.0",
       "_model_name": "LayoutModel",
       "_view_count": null,
       "_view_module": "@jupyter-widgets/base",
       "_view_module_version": "1.2.0",
       "_view_name": "LayoutView",
       "align_content": null,
       "align_items": null,
       "align_self": null,
       "border": null,
       "bottom": null,
       "display": null,
       "flex": null,
       "flex_flow": null,
       "grid_area": null,
       "grid_auto_columns": null,
       "grid_auto_flow": null,
       "grid_auto_rows": null,
       "grid_column": null,
       "grid_gap": null,
       "grid_row": null,
       "grid_template_areas": null,
       "grid_template_columns": null,
       "grid_template_rows": null,
       "height": null,
       "justify_content": null,
       "justify_items": null,
       "left": null,
       "margin": null,
       "max_height": null,
       "max_width": null,
       "min_height": null,
       "min_width": null,
       "object_fit": null,
       "object_position": null,
       "order": null,
       "overflow": null,
       "overflow_x": null,
       "overflow_y": null,
       "padding": null,
       "right": null,
       "top": null,
       "visibility": null,
       "width": null
      }
     },
     "b62f3b99474b4ca5a760066ab3fa0230": {
      "model_module": "@jupyter-widgets/base",
      "model_module_version": "1.2.0",
      "model_name": "LayoutModel",
      "state": {
       "_model_module": "@jupyter-widgets/base",
       "_model_module_version": "1.2.0",
       "_model_name": "LayoutModel",
       "_view_count": null,
       "_view_module": "@jupyter-widgets/base",
       "_view_module_version": "1.2.0",
       "_view_name": "LayoutView",
       "align_content": null,
       "align_items": null,
       "align_self": null,
       "border": null,
       "bottom": null,
       "display": null,
       "flex": null,
       "flex_flow": null,
       "grid_area": null,
       "grid_auto_columns": null,
       "grid_auto_flow": null,
       "grid_auto_rows": null,
       "grid_column": null,
       "grid_gap": null,
       "grid_row": null,
       "grid_template_areas": null,
       "grid_template_columns": null,
       "grid_template_rows": null,
       "height": null,
       "justify_content": null,
       "justify_items": null,
       "left": null,
       "margin": null,
       "max_height": null,
       "max_width": null,
       "min_height": null,
       "min_width": null,
       "object_fit": null,
       "object_position": null,
       "order": null,
       "overflow": null,
       "overflow_x": null,
       "overflow_y": null,
       "padding": null,
       "right": null,
       "top": null,
       "visibility": null,
       "width": null
      }
     },
     "b88d0abbe4d447608c4d2e773d3a955a": {
      "model_module": "@jupyter-widgets/controls",
      "model_module_version": "1.5.0",
      "model_name": "DescriptionStyleModel",
      "state": {
       "_model_module": "@jupyter-widgets/controls",
       "_model_module_version": "1.5.0",
       "_model_name": "DescriptionStyleModel",
       "_view_count": null,
       "_view_module": "@jupyter-widgets/base",
       "_view_module_version": "1.2.0",
       "_view_name": "StyleView",
       "description_width": ""
      }
     },
     "bbb7ca7533114affa912100a11a2bafb": {
      "model_module": "@jupyter-widgets/base",
      "model_module_version": "1.2.0",
      "model_name": "LayoutModel",
      "state": {
       "_model_module": "@jupyter-widgets/base",
       "_model_module_version": "1.2.0",
       "_model_name": "LayoutModel",
       "_view_count": null,
       "_view_module": "@jupyter-widgets/base",
       "_view_module_version": "1.2.0",
       "_view_name": "LayoutView",
       "align_content": null,
       "align_items": null,
       "align_self": null,
       "border": null,
       "bottom": null,
       "display": null,
       "flex": null,
       "flex_flow": null,
       "grid_area": null,
       "grid_auto_columns": null,
       "grid_auto_flow": null,
       "grid_auto_rows": null,
       "grid_column": null,
       "grid_gap": null,
       "grid_row": null,
       "grid_template_areas": null,
       "grid_template_columns": null,
       "grid_template_rows": null,
       "height": null,
       "justify_content": null,
       "justify_items": null,
       "left": null,
       "margin": null,
       "max_height": null,
       "max_width": null,
       "min_height": null,
       "min_width": null,
       "object_fit": null,
       "object_position": null,
       "order": null,
       "overflow": null,
       "overflow_x": null,
       "overflow_y": null,
       "padding": null,
       "right": null,
       "top": null,
       "visibility": null,
       "width": null
      }
     },
     "bc2df598a6164e738a3bc1731479ff8e": {
      "model_module": "@jupyter-widgets/controls",
      "model_module_version": "1.5.0",
      "model_name": "DescriptionStyleModel",
      "state": {
       "_model_module": "@jupyter-widgets/controls",
       "_model_module_version": "1.5.0",
       "_model_name": "DescriptionStyleModel",
       "_view_count": null,
       "_view_module": "@jupyter-widgets/base",
       "_view_module_version": "1.2.0",
       "_view_name": "StyleView",
       "description_width": ""
      }
     },
     "bd8923944d4c4e70847bcab4c50cd8bf": {
      "model_module": "@jupyter-widgets/controls",
      "model_module_version": "1.5.0",
      "model_name": "HBoxModel",
      "state": {
       "_dom_classes": [],
       "_model_module": "@jupyter-widgets/controls",
       "_model_module_version": "1.5.0",
       "_model_name": "HBoxModel",
       "_view_count": null,
       "_view_module": "@jupyter-widgets/controls",
       "_view_module_version": "1.5.0",
       "_view_name": "HBoxView",
       "box_style": "",
       "children": [
        "IPY_MODEL_a3a8cae8f18f4eccbf014435b0b3a3d9",
        "IPY_MODEL_73df9f0714e243dc827b796a24e6c56a",
        "IPY_MODEL_25403f3754df460db1adf512c1b20560"
       ],
       "layout": "IPY_MODEL_039a41e1d16849b5a562dd9c31de8d7e"
      }
     },
     "bf332a716ac94f569111e19e4154efc8": {
      "model_module": "@jupyter-widgets/controls",
      "model_module_version": "1.5.0",
      "model_name": "HBoxModel",
      "state": {
       "_dom_classes": [],
       "_model_module": "@jupyter-widgets/controls",
       "_model_module_version": "1.5.0",
       "_model_name": "HBoxModel",
       "_view_count": null,
       "_view_module": "@jupyter-widgets/controls",
       "_view_module_version": "1.5.0",
       "_view_name": "HBoxView",
       "box_style": "",
       "children": [
        "IPY_MODEL_d977bc8ec50a48a1b16a01ee86014d19",
        "IPY_MODEL_d9ba7dbe8dc84c5cb971e5fe828e1a9c",
        "IPY_MODEL_8f197aab10084110bd62c83ab30913cd"
       ],
       "layout": "IPY_MODEL_3baabd22bf8c49909e0bea31fd1669a4"
      }
     },
     "c1a5493af6304bb29fefe3b5d1c3c34b": {
      "model_module": "@jupyter-widgets/controls",
      "model_module_version": "1.5.0",
      "model_name": "DescriptionStyleModel",
      "state": {
       "_model_module": "@jupyter-widgets/controls",
       "_model_module_version": "1.5.0",
       "_model_name": "DescriptionStyleModel",
       "_view_count": null,
       "_view_module": "@jupyter-widgets/base",
       "_view_module_version": "1.2.0",
       "_view_name": "StyleView",
       "description_width": ""
      }
     },
     "c1ce98165ef342f7b02ef7bbe435f363": {
      "model_module": "@jupyter-widgets/controls",
      "model_module_version": "1.5.0",
      "model_name": "HTMLModel",
      "state": {
       "_dom_classes": [],
       "_model_module": "@jupyter-widgets/controls",
       "_model_module_version": "1.5.0",
       "_model_name": "HTMLModel",
       "_view_count": null,
       "_view_module": "@jupyter-widgets/controls",
       "_view_module_version": "1.5.0",
       "_view_name": "HTMLView",
       "description": "",
       "description_tooltip": null,
       "layout": "IPY_MODEL_b62f3b99474b4ca5a760066ab3fa0230",
       "placeholder": "​",
       "style": "IPY_MODEL_332a69cb17f04457ad5270dc1a62a39e",
       "value": "Downloading: 100%"
      }
     },
     "c24dc12286e945b8bc0041e129482f74": {
      "model_module": "@jupyter-widgets/controls",
      "model_module_version": "1.5.0",
      "model_name": "DescriptionStyleModel",
      "state": {
       "_model_module": "@jupyter-widgets/controls",
       "_model_module_version": "1.5.0",
       "_model_name": "DescriptionStyleModel",
       "_view_count": null,
       "_view_module": "@jupyter-widgets/base",
       "_view_module_version": "1.2.0",
       "_view_name": "StyleView",
       "description_width": ""
      }
     },
     "c7caa601ff74401bbdec93bc4859df8e": {
      "model_module": "@jupyter-widgets/base",
      "model_module_version": "1.2.0",
      "model_name": "LayoutModel",
      "state": {
       "_model_module": "@jupyter-widgets/base",
       "_model_module_version": "1.2.0",
       "_model_name": "LayoutModel",
       "_view_count": null,
       "_view_module": "@jupyter-widgets/base",
       "_view_module_version": "1.2.0",
       "_view_name": "LayoutView",
       "align_content": null,
       "align_items": null,
       "align_self": null,
       "border": null,
       "bottom": null,
       "display": null,
       "flex": null,
       "flex_flow": null,
       "grid_area": null,
       "grid_auto_columns": null,
       "grid_auto_flow": null,
       "grid_auto_rows": null,
       "grid_column": null,
       "grid_gap": null,
       "grid_row": null,
       "grid_template_areas": null,
       "grid_template_columns": null,
       "grid_template_rows": null,
       "height": null,
       "justify_content": null,
       "justify_items": null,
       "left": null,
       "margin": null,
       "max_height": null,
       "max_width": null,
       "min_height": null,
       "min_width": null,
       "object_fit": null,
       "object_position": null,
       "order": null,
       "overflow": null,
       "overflow_x": null,
       "overflow_y": null,
       "padding": null,
       "right": null,
       "top": null,
       "visibility": null,
       "width": null
      }
     },
     "d531e82e0e1040b293b883ec182f34a8": {
      "model_module": "@jupyter-widgets/base",
      "model_module_version": "1.2.0",
      "model_name": "LayoutModel",
      "state": {
       "_model_module": "@jupyter-widgets/base",
       "_model_module_version": "1.2.0",
       "_model_name": "LayoutModel",
       "_view_count": null,
       "_view_module": "@jupyter-widgets/base",
       "_view_module_version": "1.2.0",
       "_view_name": "LayoutView",
       "align_content": null,
       "align_items": null,
       "align_self": null,
       "border": null,
       "bottom": null,
       "display": null,
       "flex": null,
       "flex_flow": null,
       "grid_area": null,
       "grid_auto_columns": null,
       "grid_auto_flow": null,
       "grid_auto_rows": null,
       "grid_column": null,
       "grid_gap": null,
       "grid_row": null,
       "grid_template_areas": null,
       "grid_template_columns": null,
       "grid_template_rows": null,
       "height": null,
       "justify_content": null,
       "justify_items": null,
       "left": null,
       "margin": null,
       "max_height": null,
       "max_width": null,
       "min_height": null,
       "min_width": null,
       "object_fit": null,
       "object_position": null,
       "order": null,
       "overflow": null,
       "overflow_x": null,
       "overflow_y": null,
       "padding": null,
       "right": null,
       "top": null,
       "visibility": null,
       "width": null
      }
     },
     "d54663f8638441d3b91a4d7872e1a3d0": {
      "model_module": "@jupyter-widgets/base",
      "model_module_version": "1.2.0",
      "model_name": "LayoutModel",
      "state": {
       "_model_module": "@jupyter-widgets/base",
       "_model_module_version": "1.2.0",
       "_model_name": "LayoutModel",
       "_view_count": null,
       "_view_module": "@jupyter-widgets/base",
       "_view_module_version": "1.2.0",
       "_view_name": "LayoutView",
       "align_content": null,
       "align_items": null,
       "align_self": null,
       "border": null,
       "bottom": null,
       "display": null,
       "flex": null,
       "flex_flow": null,
       "grid_area": null,
       "grid_auto_columns": null,
       "grid_auto_flow": null,
       "grid_auto_rows": null,
       "grid_column": null,
       "grid_gap": null,
       "grid_row": null,
       "grid_template_areas": null,
       "grid_template_columns": null,
       "grid_template_rows": null,
       "height": null,
       "justify_content": null,
       "justify_items": null,
       "left": null,
       "margin": null,
       "max_height": null,
       "max_width": null,
       "min_height": null,
       "min_width": null,
       "object_fit": null,
       "object_position": null,
       "order": null,
       "overflow": null,
       "overflow_x": null,
       "overflow_y": null,
       "padding": null,
       "right": null,
       "top": null,
       "visibility": null,
       "width": null
      }
     },
     "d57c768c4b8545bd88b305804681c6bc": {
      "model_module": "@jupyter-widgets/base",
      "model_module_version": "1.2.0",
      "model_name": "LayoutModel",
      "state": {
       "_model_module": "@jupyter-widgets/base",
       "_model_module_version": "1.2.0",
       "_model_name": "LayoutModel",
       "_view_count": null,
       "_view_module": "@jupyter-widgets/base",
       "_view_module_version": "1.2.0",
       "_view_name": "LayoutView",
       "align_content": null,
       "align_items": null,
       "align_self": null,
       "border": null,
       "bottom": null,
       "display": null,
       "flex": null,
       "flex_flow": null,
       "grid_area": null,
       "grid_auto_columns": null,
       "grid_auto_flow": null,
       "grid_auto_rows": null,
       "grid_column": null,
       "grid_gap": null,
       "grid_row": null,
       "grid_template_areas": null,
       "grid_template_columns": null,
       "grid_template_rows": null,
       "height": null,
       "justify_content": null,
       "justify_items": null,
       "left": null,
       "margin": null,
       "max_height": null,
       "max_width": null,
       "min_height": null,
       "min_width": null,
       "object_fit": null,
       "object_position": null,
       "order": null,
       "overflow": null,
       "overflow_x": null,
       "overflow_y": null,
       "padding": null,
       "right": null,
       "top": null,
       "visibility": null,
       "width": null
      }
     },
     "d977bc8ec50a48a1b16a01ee86014d19": {
      "model_module": "@jupyter-widgets/controls",
      "model_module_version": "1.5.0",
      "model_name": "HTMLModel",
      "state": {
       "_dom_classes": [],
       "_model_module": "@jupyter-widgets/controls",
       "_model_module_version": "1.5.0",
       "_model_name": "HTMLModel",
       "_view_count": null,
       "_view_module": "@jupyter-widgets/controls",
       "_view_module_version": "1.5.0",
       "_view_name": "HTMLView",
       "description": "",
       "description_tooltip": null,
       "layout": "IPY_MODEL_b5135de25d934899a5b7b29bf08a7378",
       "placeholder": "​",
       "style": "IPY_MODEL_962c79ef7a2244b0bc2daf32572f5403",
       "value": "Downloading: 100%"
      }
     },
     "d9ba7dbe8dc84c5cb971e5fe828e1a9c": {
      "model_module": "@jupyter-widgets/controls",
      "model_module_version": "1.5.0",
      "model_name": "FloatProgressModel",
      "state": {
       "_dom_classes": [],
       "_model_module": "@jupyter-widgets/controls",
       "_model_module_version": "1.5.0",
       "_model_name": "FloatProgressModel",
       "_view_count": null,
       "_view_module": "@jupyter-widgets/controls",
       "_view_module_version": "1.5.0",
       "_view_name": "ProgressView",
       "bar_style": "success",
       "description": "",
       "description_tooltip": null,
       "layout": "IPY_MODEL_d57c768c4b8545bd88b305804681c6bc",
       "max": 1355863.0,
       "min": 0.0,
       "orientation": "horizontal",
       "style": "IPY_MODEL_05958f7a8f6446f192939310234b0c52",
       "value": 1355863.0
      }
     },
     "de9ef3d4627d4644bde6519b2a6dcc2f": {
      "model_module": "@jupyter-widgets/controls",
      "model_module_version": "1.5.0",
      "model_name": "FloatProgressModel",
      "state": {
       "_dom_classes": [],
       "_model_module": "@jupyter-widgets/controls",
       "_model_module_version": "1.5.0",
       "_model_name": "FloatProgressModel",
       "_view_count": null,
       "_view_module": "@jupyter-widgets/controls",
       "_view_module_version": "1.5.0",
       "_view_name": "ProgressView",
       "bar_style": "success",
       "description": "",
       "description_tooltip": null,
       "layout": "IPY_MODEL_bbb7ca7533114affa912100a11a2bafb",
       "max": 898823.0,
       "min": 0.0,
       "orientation": "horizontal",
       "style": "IPY_MODEL_860ff7cadf12401d8ed63cf171189fa2",
       "value": 898823.0
      }
     },
     "e40c35fa5d034f569d10b47c41c0e04e": {
      "model_module": "@jupyter-widgets/controls",
      "model_module_version": "1.5.0",
      "model_name": "ProgressStyleModel",
      "state": {
       "_model_module": "@jupyter-widgets/controls",
       "_model_module_version": "1.5.0",
       "_model_name": "ProgressStyleModel",
       "_view_count": null,
       "_view_module": "@jupyter-widgets/base",
       "_view_module_version": "1.2.0",
       "_view_name": "StyleView",
       "bar_color": null,
       "description_width": ""
      }
     },
     "e5bd6bb3a087471a922f9aa0d1430e3b": {
      "model_module": "@jupyter-widgets/controls",
      "model_module_version": "1.5.0",
      "model_name": "HTMLModel",
      "state": {
       "_dom_classes": [],
       "_model_module": "@jupyter-widgets/controls",
       "_model_module_version": "1.5.0",
       "_model_name": "HTMLModel",
       "_view_count": null,
       "_view_module": "@jupyter-widgets/controls",
       "_view_module_version": "1.5.0",
       "_view_name": "HTMLView",
       "description": "",
       "description_tooltip": null,
       "layout": "IPY_MODEL_1a80475fb37d481cb25ac4e720235d90",
       "placeholder": "​",
       "style": "IPY_MODEL_b88d0abbe4d447608c4d2e773d3a955a",
       "value": "Downloading: 100%"
      }
     },
     "e9f090beb39e4912a3de7b8f1f7e1815": {
      "model_module": "@jupyter-widgets/base",
      "model_module_version": "1.2.0",
      "model_name": "LayoutModel",
      "state": {
       "_model_module": "@jupyter-widgets/base",
       "_model_module_version": "1.2.0",
       "_model_name": "LayoutModel",
       "_view_count": null,
       "_view_module": "@jupyter-widgets/base",
       "_view_module_version": "1.2.0",
       "_view_name": "LayoutView",
       "align_content": null,
       "align_items": null,
       "align_self": null,
       "border": null,
       "bottom": null,
       "display": null,
       "flex": null,
       "flex_flow": null,
       "grid_area": null,
       "grid_auto_columns": null,
       "grid_auto_flow": null,
       "grid_auto_rows": null,
       "grid_column": null,
       "grid_gap": null,
       "grid_row": null,
       "grid_template_areas": null,
       "grid_template_columns": null,
       "grid_template_rows": null,
       "height": null,
       "justify_content": null,
       "justify_items": null,
       "left": null,
       "margin": null,
       "max_height": null,
       "max_width": null,
       "min_height": null,
       "min_width": null,
       "object_fit": null,
       "object_position": null,
       "order": null,
       "overflow": null,
       "overflow_x": null,
       "overflow_y": null,
       "padding": null,
       "right": null,
       "top": null,
       "visibility": null,
       "width": null
      }
     },
     "ed206c717662440ab85f9bd69a2117b9": {
      "model_module": "@jupyter-widgets/controls",
      "model_module_version": "1.5.0",
      "model_name": "DescriptionStyleModel",
      "state": {
       "_model_module": "@jupyter-widgets/controls",
       "_model_module_version": "1.5.0",
       "_model_name": "DescriptionStyleModel",
       "_view_count": null,
       "_view_module": "@jupyter-widgets/base",
       "_view_module_version": "1.2.0",
       "_view_name": "StyleView",
       "description_width": ""
      }
     },
     "ef83b4a90ecc4993bd8cf7ed4be103d6": {
      "model_module": "@jupyter-widgets/base",
      "model_module_version": "1.2.0",
      "model_name": "LayoutModel",
      "state": {
       "_model_module": "@jupyter-widgets/base",
       "_model_module_version": "1.2.0",
       "_model_name": "LayoutModel",
       "_view_count": null,
       "_view_module": "@jupyter-widgets/base",
       "_view_module_version": "1.2.0",
       "_view_name": "LayoutView",
       "align_content": null,
       "align_items": null,
       "align_self": null,
       "border": null,
       "bottom": null,
       "display": null,
       "flex": null,
       "flex_flow": null,
       "grid_area": null,
       "grid_auto_columns": null,
       "grid_auto_flow": null,
       "grid_auto_rows": null,
       "grid_column": null,
       "grid_gap": null,
       "grid_row": null,
       "grid_template_areas": null,
       "grid_template_columns": null,
       "grid_template_rows": null,
       "height": null,
       "justify_content": null,
       "justify_items": null,
       "left": null,
       "margin": null,
       "max_height": null,
       "max_width": null,
       "min_height": null,
       "min_width": null,
       "object_fit": null,
       "object_position": null,
       "order": null,
       "overflow": null,
       "overflow_x": null,
       "overflow_y": null,
       "padding": null,
       "right": null,
       "top": null,
       "visibility": null,
       "width": null
      }
     },
     "f61e0000bbd849798edec9e4cca2b03c": {
      "model_module": "@jupyter-widgets/controls",
      "model_module_version": "1.5.0",
      "model_name": "HTMLModel",
      "state": {
       "_dom_classes": [],
       "_model_module": "@jupyter-widgets/controls",
       "_model_module_version": "1.5.0",
       "_model_name": "HTMLModel",
       "_view_count": null,
       "_view_module": "@jupyter-widgets/controls",
       "_view_module_version": "1.5.0",
       "_view_name": "HTMLView",
       "description": "",
       "description_tooltip": null,
       "layout": "IPY_MODEL_ef83b4a90ecc4993bd8cf7ed4be103d6",
       "placeholder": "​",
       "style": "IPY_MODEL_36b9e63944664f0f92b2b4659fafd230",
       "value": " 501M/501M [00:12&lt;00:00, 43.1MB/s]"
      }
     },
     "f772788dc64b40c486e71ff97eb2981d": {
      "model_module": "@jupyter-widgets/controls",
      "model_module_version": "1.5.0",
      "model_name": "HTMLModel",
      "state": {
       "_dom_classes": [],
       "_model_module": "@jupyter-widgets/controls",
       "_model_module_version": "1.5.0",
       "_model_name": "HTMLModel",
       "_view_count": null,
       "_view_module": "@jupyter-widgets/controls",
       "_view_module_version": "1.5.0",
       "_view_name": "HTMLView",
       "description": "",
       "description_tooltip": null,
       "layout": "IPY_MODEL_b4d078c77a9f482e87d90463b9be2da4",
       "placeholder": "​",
       "style": "IPY_MODEL_ed206c717662440ab85f9bd69a2117b9",
       "value": "Downloading: 100%"
      }
     }
    },
    "version_major": 2,
    "version_minor": 0
   }
  }
 },
 "nbformat": 4,
 "nbformat_minor": 5
}
