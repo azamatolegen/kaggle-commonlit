{
 "cells": [
  {
   "cell_type": "markdown",
   "metadata": {
    "papermill": {
     "duration": 0.015932,
     "end_time": "2021-08-02T11:51:45.978433",
     "exception": false,
     "start_time": "2021-08-02T11:51:45.962501",
     "status": "completed"
    },
    "tags": []
   },
   "source": [
    "# Imports & Loads"
   ]
  },
  {
   "cell_type": "code",
   "execution_count": 1,
   "metadata": {
    "execution": {
     "iopub.execute_input": "2021-08-02T11:51:46.024852Z",
     "iopub.status.busy": "2021-08-02T11:51:46.024224Z",
     "iopub.status.idle": "2021-08-02T11:51:46.026717Z",
     "shell.execute_reply": "2021-08-02T11:51:46.027115Z",
     "shell.execute_reply.started": "2021-08-02T10:11:40.326379Z"
    },
    "papermill": {
     "duration": 0.032756,
     "end_time": "2021-08-02T11:51:46.027352",
     "exception": false,
     "start_time": "2021-08-02T11:51:45.994596",
     "status": "completed"
    },
    "tags": []
   },
   "outputs": [],
   "source": [
    "from IPython.core.magic import register_cell_magic\n",
    "import os\n",
    "from pathlib import Path\n",
    "\n",
    "## define custom magic to save most useful classes and use them in inference notebook \n",
    "## instead of copying the code every time you have changes in the classes\n",
    "@register_cell_magic\n",
    "def write_and_run(line, cell):\n",
    "    argz = line.split()\n",
    "    file = argz[-1]\n",
    "    mode = 'w'\n",
    "    if len(argz) == 2 and argz[0] == '-a':\n",
    "        mode = 'a'\n",
    "    with open(file, mode) as f:\n",
    "        f.write(cell)\n",
    "    get_ipython().run_cell(cell)\n",
    "    \n",
    "Path('/kaggle/working/scripts').mkdir(exist_ok=True)\n",
    "models_dir = Path('/kaggle/working/models')\n",
    "models_dir.mkdir(exist_ok=True)"
   ]
  },
  {
   "cell_type": "code",
   "execution_count": 2,
   "metadata": {
    "_cell_guid": "b1076dfc-b9ad-4769-8c92-a6c4dae69d19",
    "_kg_hide-input": true,
    "_uuid": "8f2839f25d086af736a60e9eeb907d3b93b6e0e5",
    "execution": {
     "iopub.execute_input": "2021-08-02T11:51:46.059325Z",
     "iopub.status.busy": "2021-08-02T11:51:46.058759Z",
     "iopub.status.idle": "2021-08-02T11:51:53.882795Z",
     "shell.execute_reply": "2021-08-02T11:51:53.881793Z",
     "shell.execute_reply.started": "2021-08-02T10:11:40.335084Z"
    },
    "papermill": {
     "duration": 7.842239,
     "end_time": "2021-08-02T11:51:53.882941",
     "exception": false,
     "start_time": "2021-08-02T11:51:46.040702",
     "status": "completed"
    },
    "tags": []
   },
   "outputs": [],
   "source": [
    "%%write_and_run scripts/imports.py\n",
    "\n",
    "import os\n",
    "import gc\n",
    "import sys\n",
    "import math\n",
    "import time\n",
    "import tqdm\n",
    "import random\n",
    "import numpy as np\n",
    "import pandas as pd\n",
    "import seaborn as sns\n",
    "from tqdm import tqdm\n",
    "import matplotlib.pyplot as plt\n",
    "from time import time\n",
    "\n",
    "import warnings\n",
    "warnings.filterwarnings('ignore')\n",
    "\n",
    "from sklearn.metrics import mean_squared_error\n",
    "from sklearn.model_selection import StratifiedKFold\n",
    "\n",
    "import torch\n",
    "import torchvision\n",
    "import torch.nn as nn\n",
    "import torch.optim as optim\n",
    "import torch.nn.functional as F\n",
    "from torch.utils.data import Dataset, DataLoader, RandomSampler, SequentialSampler, Sampler\n",
    "from torch.cuda.amp import autocast, GradScaler\n",
    "\n",
    "from transformers import (AutoModel,AutoTokenizer, AutoConfig, get_cosine_schedule_with_warmup)\n",
    "\n",
    "from colorama import Fore, Back, Style\n",
    "r_ = Fore.RED\n",
    "b_ = Fore.BLUE\n",
    "c_ = Fore.CYAN\n",
    "g_ = Fore.GREEN\n",
    "y_ = Fore.YELLOW\n",
    "m_ = Fore.MAGENTA\n",
    "w_ = Fore.WHITE\n",
    "bb_ = Back.BLACK\n",
    "sr_ = Style.RESET_ALL"
   ]
  },
  {
   "cell_type": "code",
   "execution_count": 3,
   "metadata": {
    "execution": {
     "iopub.execute_input": "2021-08-02T11:51:53.916159Z",
     "iopub.status.busy": "2021-08-02T11:51:53.914242Z",
     "iopub.status.idle": "2021-08-02T11:51:53.918622Z",
     "shell.execute_reply": "2021-08-02T11:51:53.918208Z",
     "shell.execute_reply.started": "2021-08-02T10:11:40.351042Z"
    },
    "papermill": {
     "duration": 0.021797,
     "end_time": "2021-08-02T11:51:53.918736",
     "exception": false,
     "start_time": "2021-08-02T11:51:53.896939",
     "status": "completed"
    },
    "tags": []
   },
   "outputs": [],
   "source": [
    "%%write_and_run scripts/config.py\n",
    "    \n",
    "class Config:\n",
    "    roberta_model = '../input/huggingface-roberta/roberta-base'\n",
    "    pre_trained_model = \"../input/clrp-roberta-base/clrp_roberta_base\"\n",
    "    nfolds = 5\n",
    "    epochs = 4\n",
    "    batch_size = 16\n",
    "    device = 'cuda'\n",
    "    seed = 42\n",
    "    max_len = 248\n",
    "    eval_schedule = [(0.50, 16), (0.49, 8), (0.48, 4), (0.47, 2), (-1., 1)]\n",
    "    gradient_accumulation = 2"
   ]
  },
  {
   "cell_type": "code",
   "execution_count": 4,
   "metadata": {
    "execution": {
     "iopub.execute_input": "2021-08-02T11:51:53.950603Z",
     "iopub.status.busy": "2021-08-02T11:51:53.949902Z",
     "iopub.status.idle": "2021-08-02T11:51:53.956262Z",
     "shell.execute_reply": "2021-08-02T11:51:53.955812Z",
     "shell.execute_reply.started": "2021-08-02T10:11:40.361208Z"
    },
    "papermill": {
     "duration": 0.024371,
     "end_time": "2021-08-02T11:51:53.956384",
     "exception": false,
     "start_time": "2021-08-02T11:51:53.932013",
     "status": "completed"
    },
    "tags": []
   },
   "outputs": [],
   "source": [
    "def set_random_seed(seed=42):\n",
    "    random.seed(seed)\n",
    "    os.environ['PYTHONASSEED'] = str(seed)\n",
    "    np.random.seed(seed)\n",
    "    torch.manual_seed(seed)\n",
    "    torch.cuda.manual_seed(seed)\n",
    "    torch.backends.cudnn.deterministic = True\n",
    "    torch.backends.cudnn.benchmark = True\n",
    "\n",
    "set_random_seed(seed=Config.seed)"
   ]
  },
  {
   "cell_type": "code",
   "execution_count": 5,
   "metadata": {
    "execution": {
     "iopub.execute_input": "2021-08-02T11:51:53.991009Z",
     "iopub.status.busy": "2021-08-02T11:51:53.990472Z",
     "iopub.status.idle": "2021-08-02T11:51:54.110353Z",
     "shell.execute_reply": "2021-08-02T11:51:54.109576Z",
     "shell.execute_reply.started": "2021-08-02T10:11:40.370038Z"
    },
    "papermill": {
     "duration": 0.140686,
     "end_time": "2021-08-02T11:51:54.110488",
     "exception": false,
     "start_time": "2021-08-02T11:51:53.969802",
     "status": "completed"
    },
    "tags": []
   },
   "outputs": [
    {
     "data": {
      "text/html": [
       "<div>\n",
       "<style scoped>\n",
       "    .dataframe tbody tr th:only-of-type {\n",
       "        vertical-align: middle;\n",
       "    }\n",
       "\n",
       "    .dataframe tbody tr th {\n",
       "        vertical-align: top;\n",
       "    }\n",
       "\n",
       "    .dataframe thead th {\n",
       "        text-align: right;\n",
       "    }\n",
       "</style>\n",
       "<table border=\"1\" class=\"dataframe\">\n",
       "  <thead>\n",
       "    <tr style=\"text-align: right;\">\n",
       "      <th></th>\n",
       "      <th>id</th>\n",
       "      <th>url_legal</th>\n",
       "      <th>license</th>\n",
       "      <th>excerpt</th>\n",
       "      <th>target</th>\n",
       "      <th>standard_error</th>\n",
       "      <th>bins</th>\n",
       "      <th>Fold</th>\n",
       "    </tr>\n",
       "  </thead>\n",
       "  <tbody>\n",
       "    <tr>\n",
       "      <th>0</th>\n",
       "      <td>c12129c31</td>\n",
       "      <td>NaN</td>\n",
       "      <td>NaN</td>\n",
       "      <td>When the young people returned to the ballroom...</td>\n",
       "      <td>-0.340259</td>\n",
       "      <td>0.464009</td>\n",
       "      <td>7</td>\n",
       "      <td>0</td>\n",
       "    </tr>\n",
       "    <tr>\n",
       "      <th>1</th>\n",
       "      <td>85aa80a4c</td>\n",
       "      <td>NaN</td>\n",
       "      <td>NaN</td>\n",
       "      <td>All through dinner time, Mrs. Fayre was somewh...</td>\n",
       "      <td>-0.315372</td>\n",
       "      <td>0.480805</td>\n",
       "      <td>7</td>\n",
       "      <td>2</td>\n",
       "    </tr>\n",
       "    <tr>\n",
       "      <th>2</th>\n",
       "      <td>b69ac6792</td>\n",
       "      <td>NaN</td>\n",
       "      <td>NaN</td>\n",
       "      <td>As Roger had predicted, the snow departed as q...</td>\n",
       "      <td>-0.580118</td>\n",
       "      <td>0.476676</td>\n",
       "      <td>6</td>\n",
       "      <td>3</td>\n",
       "    </tr>\n",
       "    <tr>\n",
       "      <th>3</th>\n",
       "      <td>dd1000b26</td>\n",
       "      <td>NaN</td>\n",
       "      <td>NaN</td>\n",
       "      <td>And outside before the palace a great garden w...</td>\n",
       "      <td>-1.054013</td>\n",
       "      <td>0.450007</td>\n",
       "      <td>5</td>\n",
       "      <td>2</td>\n",
       "    </tr>\n",
       "    <tr>\n",
       "      <th>4</th>\n",
       "      <td>37c1b32fb</td>\n",
       "      <td>NaN</td>\n",
       "      <td>NaN</td>\n",
       "      <td>Once upon a time there were Three Bears who li...</td>\n",
       "      <td>0.247197</td>\n",
       "      <td>0.510845</td>\n",
       "      <td>8</td>\n",
       "      <td>1</td>\n",
       "    </tr>\n",
       "  </tbody>\n",
       "</table>\n",
       "</div>"
      ],
      "text/plain": [
       "          id url_legal license  \\\n",
       "0  c12129c31       NaN     NaN   \n",
       "1  85aa80a4c       NaN     NaN   \n",
       "2  b69ac6792       NaN     NaN   \n",
       "3  dd1000b26       NaN     NaN   \n",
       "4  37c1b32fb       NaN     NaN   \n",
       "\n",
       "                                             excerpt    target  \\\n",
       "0  When the young people returned to the ballroom... -0.340259   \n",
       "1  All through dinner time, Mrs. Fayre was somewh... -0.315372   \n",
       "2  As Roger had predicted, the snow departed as q... -0.580118   \n",
       "3  And outside before the palace a great garden w... -1.054013   \n",
       "4  Once upon a time there were Three Bears who li...  0.247197   \n",
       "\n",
       "   standard_error  bins  Fold  \n",
       "0        0.464009     7     0  \n",
       "1        0.480805     7     2  \n",
       "2        0.476676     6     3  \n",
       "3        0.450007     5     2  \n",
       "4        0.510845     8     1  "
      ]
     },
     "execution_count": 5,
     "metadata": {},
     "output_type": "execute_result"
    }
   ],
   "source": [
    "train_df = pd.read_csv('../input/commonlitreadabilityprize/train.csv')\n",
    "test_df = pd.read_csv('../input/commonlitreadabilityprize/test.csv')\n",
    "sample = pd.read_csv('../input/commonlitreadabilityprize/sample_submission.csv')\n",
    "\n",
    "num_bins = int(np.floor(1 + np.log2(len(train_df))))\n",
    "train_df.loc[:,'bins'] = pd.cut(train_df['target'],bins=num_bins,labels=False)\n",
    "\n",
    "bins = train_df.bins.to_numpy()\n",
    "target = train_df.target.to_numpy()\n",
    "    \n",
    "train_df['Fold'] = -1\n",
    "kfold = StratifiedKFold(n_splits=Config.nfolds,shuffle=True,random_state=Config.seed)\n",
    "for k , (train_idx,valid_idx) in enumerate(kfold.split(X=train_df,y=bins)):\n",
    "    train_df.loc[valid_idx,'Fold'] = k\n",
    "\n",
    "train_df.head()"
   ]
  },
  {
   "cell_type": "code",
   "execution_count": 6,
   "metadata": {
    "execution": {
     "iopub.execute_input": "2021-08-02T11:51:54.145434Z",
     "iopub.status.busy": "2021-08-02T11:51:54.144622Z",
     "iopub.status.idle": "2021-08-02T11:51:54.314424Z",
     "shell.execute_reply": "2021-08-02T11:51:54.314831Z",
     "shell.execute_reply.started": "2021-08-02T10:11:40.43547Z"
    },
    "papermill": {
     "duration": 0.189661,
     "end_time": "2021-08-02T11:51:54.314976",
     "exception": false,
     "start_time": "2021-08-02T11:51:54.125315",
     "status": "completed"
    },
    "tags": []
   },
   "outputs": [
    {
     "data": {
      "image/png": "[encoded data removed]",
      "text/plain": [
       "<Figure size 600x400 with 1 Axes>"
      ]
     },
     "metadata": {
      "needs_background": "light"
     },
     "output_type": "display_data"
    }
   ],
   "source": [
    "plt.figure(dpi=100)\n",
    "sns.countplot(train_df.bins);"
   ]
  },
  {
   "cell_type": "markdown",
   "metadata": {
    "papermill": {
     "duration": 0.014146,
     "end_time": "2021-08-02T11:51:54.343513",
     "exception": false,
     "start_time": "2021-08-02T11:51:54.329367",
     "status": "completed"
    },
    "tags": []
   },
   "source": [
    "# Dataset"
   ]
  },
  {
   "cell_type": "code",
   "execution_count": 7,
   "metadata": {
    "execution": {
     "iopub.execute_input": "2021-08-02T11:51:54.377980Z",
     "iopub.status.busy": "2021-08-02T11:51:54.377122Z",
     "iopub.status.idle": "2021-08-02T11:51:54.388532Z",
     "shell.execute_reply": "2021-08-02T11:51:54.388120Z",
     "shell.execute_reply.started": "2021-08-02T10:11:40.60878Z"
    },
    "papermill": {
     "duration": 0.030528,
     "end_time": "2021-08-02T11:51:54.388656",
     "exception": false,
     "start_time": "2021-08-02T11:51:54.358128",
     "status": "completed"
    },
    "tags": []
   },
   "outputs": [],
   "source": [
    "%%write_and_run scripts/dataset.py\n",
    "\n",
    "def convert_examples_to_features(text, tokenizer, max_len):\n",
    "\n",
    "    tok = tokenizer.encode_plus(\n",
    "        text, \n",
    "        max_length=max_len, \n",
    "        truncation=True,\n",
    "        padding='max_length',\n",
    "    )\n",
    "    return tok\n",
    "\n",
    "\n",
    "class LitDataset(Dataset):\n",
    "    def __init__(self, data, tokenizer, max_len, is_test=False):\n",
    "        self.data = data\n",
    "        self.excerpts = self.data.excerpt.tolist()\n",
    "        if not is_test:\n",
    "            self.targets = self.data.target.tolist()\n",
    "            \n",
    "        self.tokenizer = tokenizer\n",
    "        self.is_test = is_test\n",
    "        self.max_len = max_len\n",
    "    \n",
    "    def __len__(self):\n",
    "        return len(self.data)\n",
    "    \n",
    "    def __getitem__(self, item):\n",
    "        if not self.is_test:\n",
    "            excerpt = self.excerpts[item]\n",
    "            label = self.targets[item]\n",
    "            features = convert_examples_to_features(\n",
    "                excerpt, self.tokenizer, self.max_len\n",
    "            )\n",
    "            return {\n",
    "                'input_ids':torch.tensor(features['input_ids'], dtype=torch.long),\n",
    "                'attention_mask':torch.tensor(features['attention_mask'], dtype=torch.long),\n",
    "                'label':torch.tensor(label, dtype=torch.float),\n",
    "            }\n",
    "        else:\n",
    "            excerpt = self.excerpts[item]\n",
    "            features = convert_examples_to_features(\n",
    "                excerpt, self.tokenizer, self.max_len\n",
    "            )\n",
    "            return {\n",
    "                'input_ids':torch.tensor(features['input_ids'], dtype=torch.long),\n",
    "                'attention_mask':torch.tensor(features['attention_mask'], dtype=torch.long),\n",
    "            }\n",
    "        \n",
    "class DynamicPadCollate:\n",
    "    def __call__(self,batch):\n",
    "                \n",
    "        out = {'input_ids' :[],\n",
    "               'attention_mask':[],\n",
    "               'label':[]}\n",
    "        \n",
    "        for i in batch:\n",
    "            for k,v in i.items():\n",
    "                out[k].append(v)\n",
    "                \n",
    "        max_pad =0\n",
    "\n",
    "        for p in out['input_ids']:\n",
    "            if max_pad < len(p):\n",
    "                max_pad = len(p)   \n",
    "\n",
    "        for i in range(len(batch)):\n",
    "            \n",
    "            input_id = out['input_ids'][i]\n",
    "            att_mask = out['attention_mask'][i]\n",
    "            text_len = len(input_id)\n",
    "            \n",
    "            out['input_ids'][i] = (out['input_ids'][i].tolist() + [1] * (max_pad - text_len))[:max_pad]\n",
    "            out['attention_mask'][i] = (out['attention_mask'][i].tolist() + [0] * (max_pad - text_len))[:max_pad]\n",
    "        \n",
    "        out['input_ids'] = torch.tensor(out['input_ids'],dtype=torch.long)\n",
    "        out['attention_mask'] = torch.tensor(out['attention_mask'],dtype=torch.long)\n",
    "        out['label'] = torch.tensor(out['label'],dtype=torch.float)\n",
    "        \n",
    "        return out\n",
    "\n",
    "def make_dataloader(data, tokenizer, is_train=True):\n",
    "    dataset = LitDataset(data, tokenizer=tokenizer, max_len=Config.max_len)\n",
    "    if is_train:\n",
    "        sampler = RandomSampler(dataset)\n",
    "    else:       \n",
    "        sampler = SequentialSampler(dataset)\n",
    "\n",
    "    batch_dataloader = DataLoader(dataset, sampler=sampler, batch_size=Config.batch_size, pin_memory=True, collate_fn=DynamicPadCollate())\n",
    "    return batch_dataloader\n",
    "        "
   ]
  },
  {
   "cell_type": "markdown",
   "metadata": {
    "papermill": {
     "duration": 0.014094,
     "end_time": "2021-08-02T11:51:54.416976",
     "exception": false,
     "start_time": "2021-08-02T11:51:54.402882",
     "status": "completed"
    },
    "tags": []
   },
   "source": [
    "# Model"
   ]
  },
  {
   "cell_type": "code",
   "execution_count": 8,
   "metadata": {
    "execution": {
     "iopub.execute_input": "2021-08-02T11:51:54.451249Z",
     "iopub.status.busy": "2021-08-02T11:51:54.450377Z",
     "iopub.status.idle": "2021-08-02T11:51:54.461083Z",
     "shell.execute_reply": "2021-08-02T11:51:54.460659Z",
     "shell.execute_reply.started": "2021-08-02T10:11:40.628562Z"
    },
    "papermill": {
     "duration": 0.029866,
     "end_time": "2021-08-02T11:51:54.461202",
     "exception": false,
     "start_time": "2021-08-02T11:51:54.431336",
     "status": "completed"
    },
    "tags": []
   },
   "outputs": [],
   "source": [
    "%%write_and_run scripts/model.py\n",
    "\n",
    "class AttentionHead(nn.Module):\n",
    "    def __init__(self, h_size, hidden_dim=512):\n",
    "        super().__init__()\n",
    "        self.W = nn.Linear(h_size, hidden_dim)\n",
    "        self.V = nn.Linear(hidden_dim, 1)\n",
    "        \n",
    "    def forward(self, features):\n",
    "        att = torch.tanh(self.W(features))\n",
    "        score = self.V(att)\n",
    "        attention_weights = torch.softmax(score, dim=1)\n",
    "        context_vector = attention_weights * features\n",
    "        context_vector = torch.sum(context_vector, dim=1)\n",
    "\n",
    "        return context_vector\n",
    "    \n",
    "class WeightedLayerPooling(nn.Module):\n",
    "    def __init__(self, num_hidden_layers, layer_start: int = 4, layer_weights = None):\n",
    "        super(WeightedLayerPooling, self).__init__()\n",
    "        self.layer_start = layer_start\n",
    "        self.num_hidden_layers = num_hidden_layers\n",
    "        self.layer_weights = layer_weights if layer_weights is not None else nn.Parameter(torch.tensor([1] * (num_hidden_layers+1 - layer_start), dtype=torch.float))\n",
    "\n",
    "    def forward(self, all_hidden_states):\n",
    "        all_layer_embedding = all_hidden_states[self.layer_start:, :, :, :]\n",
    "        weight_factor = self.layer_weights.unsqueeze(-1).unsqueeze(-1).unsqueeze(-1).expand(all_layer_embedding.size())\n",
    "        weighted_average = (weight_factor*all_layer_embedding).sum(dim=0) / self.layer_weights.sum()\n",
    "        return weighted_average\n",
    "\n",
    "class LitModel(nn.Module):\n",
    "    def __init__(self,path):\n",
    "        super(LitModel,self).__init__()\n",
    "        config = AutoConfig.from_pretrained(path)\n",
    "        config.update({\"output_hidden_states\":True, \"hidden_dropout_prob\": 0.0,\"layer_norm_eps\": 1e-7}) \n",
    "        self.roberta = AutoModel.from_pretrained(path,config=config) \n",
    "        self.pooler = WeightedLayerPooling(config.num_hidden_layers, layer_start=9, layer_weights=None)\n",
    "        self.head1 = AttentionHead(config.hidden_size*4, hidden_dim=config.hidden_size)\n",
    "        self.head2 = AttentionHead(config.hidden_size)\n",
    "        self.linear_out = nn.Linear(config.hidden_size*11, 1)\n",
    "              \n",
    "    def forward(self, input_ids, attention_mask):\n",
    "        roberta_out = self.roberta(input_ids, attention_mask)\n",
    "        all_hidden_states = torch.stack(roberta_out.hidden_states)                                                                                                   # (25, 8, 256, 1024)   \n",
    "        # print(f'all_hidden_states Shape: {all_hidden_states.cpu().detach().numpy().shape}')\n",
    "        \n",
    "        \n",
    "        layer_index = 11 # second to last hidden layer\n",
    "        cls_embeddings = all_hidden_states[layer_index+1, :, 0] # layer_index+1 as we have 24 layers (embedding + num of blocks)                                                (8, 1024)\n",
    "        # print(f'cls_embeddings Shape: {cls_embeddings.cpu().detach().numpy().shape}')\n",
    "        \n",
    "        \n",
    "        concat_4last_layers = torch.cat((all_hidden_states[-1],all_hidden_states[-2],all_hidden_states[-3], all_hidden_states[-4]),-1)                                    # (8, 256, 4096)\n",
    "        # print(f'concat_last_4layers Shape: {concat_4last_layers.cpu().detach().numpy().shape}')\n",
    "        concat_cls_pooling = concat_4last_layers[:, 0]                                                                                                                         # (8, 4096)\n",
    "        # print(f'concat_cls_pooling Shape: {concat_cls_pooling.cpu().detach().numpy().shape}')\n",
    "        last_layer_logits = self.head1(concat_4last_layers)                                                                                                                    # (8, 4096)\n",
    "        # print(f'last_layer_logits Shape: {last_layer_logits.cpu().detach().numpy().shape}')                                                                                        # (8,)\n",
    "        \n",
    "        weighted_pooling_embeddings = self.pooler(all_hidden_states)                                                                                                     # (8, 256, 1024)\n",
    "        # print(f'weighted_pooling_embeddings Shape: {weighted_pooling_embeddings.cpu().detach().numpy().shape}')\n",
    "        weighted_pooling = weighted_pooling_embeddings[:, 0]                                                                                                                  # (8, 1024)\n",
    "        # print(f'weighted_pooling Shape: {weighted_pooling.cpu().detach().numpy().shape}')\n",
    "        weighted_pooling_logits = self.head2(weighted_pooling_embeddings)                                                                                                     # (8, 1024) \n",
    "        # print(f'weighted_pooling_logits Shape: {weighted_pooling_logits.cpu().detach().numpy().shape}')\n",
    "        \n",
    "        final_concat = torch.cat([cls_embeddings, concat_cls_pooling, last_layer_logits, weighted_pooling, weighted_pooling_logits], -1)\n",
    "        # print(f'final_concat Shape: {final_concat.shape}')\n",
    "        y_hat = self.linear_out(final_concat)                                                                                                                     # [8, 10177] --> (8, 1)\n",
    "        # print(f'y_hat Shape: {y_hat.cpu().detach().numpy().shape}')\n",
    "        \n",
    "        \n",
    "        return y_hat"
   ]
  },
  {
   "cell_type": "markdown",
   "metadata": {
    "papermill": {
     "duration": 0.014288,
     "end_time": "2021-08-02T11:51:54.489781",
     "exception": false,
     "start_time": "2021-08-02T11:51:54.475493",
     "status": "completed"
    },
    "tags": []
   },
   "source": [
    "# Utils"
   ]
  },
  {
   "cell_type": "code",
   "execution_count": 9,
   "metadata": {
    "execution": {
     "iopub.execute_input": "2021-08-02T11:51:54.532476Z",
     "iopub.status.busy": "2021-08-02T11:51:54.531662Z",
     "iopub.status.idle": "2021-08-02T11:51:54.534066Z",
     "shell.execute_reply": "2021-08-02T11:51:54.534437Z",
     "shell.execute_reply.started": "2021-08-02T10:11:40.646174Z"
    },
    "papermill": {
     "duration": 0.030461,
     "end_time": "2021-08-02T11:51:54.534586",
     "exception": false,
     "start_time": "2021-08-02T11:51:54.504125",
     "status": "completed"
    },
    "scrolled": true,
    "tags": []
   },
   "outputs": [],
   "source": [
    "class AvgCounter:\n",
    "    def __init__(self):\n",
    "        self.reset()\n",
    "        \n",
    "    def update(self, loss, n_samples):\n",
    "        self.loss += loss * n_samples\n",
    "        self.n_samples += n_samples\n",
    "        \n",
    "    def avg(self):\n",
    "        return self.loss / self.n_samples\n",
    "    \n",
    "    def reset(self):\n",
    "        self.loss = 0\n",
    "        self.n_samples = 0\n",
    "\n",
    "class EvaluationScheduler:\n",
    "    def __init__(self, evaluation_schedule, penalize_factor=1, max_penalty=8):\n",
    "        self.evaluation_schedule = evaluation_schedule\n",
    "        self.evaluation_interval = self.evaluation_schedule[0][1]\n",
    "        self.last_evaluation_step = 0\n",
    "        self.prev_loss = float('inf')\n",
    "        self.penalize_factor = penalize_factor\n",
    "        self.penalty = 0\n",
    "        self.prev_interval = -1\n",
    "        self.max_penalty = max_penalty\n",
    "\n",
    "    def step(self, step):\n",
    "        # should we to make evaluation right now\n",
    "        if step >= self.last_evaluation_step + self.evaluation_interval:\n",
    "            self.last_evaluation_step = step\n",
    "            return True\n",
    "        else:\n",
    "            return False\n",
    "        \n",
    "            \n",
    "    def update_evaluation_interval(self, last_loss):\n",
    "        # set up evaluation_interval depending on loss value\n",
    "        cur_interval = -1\n",
    "        for i, (loss, interval) in enumerate(self.evaluation_schedule[:-1]):\n",
    "            if self.evaluation_schedule[i+1][0] < last_loss < loss:\n",
    "                self.evaluation_interval = interval\n",
    "                cur_interval = i\n",
    "                break\n",
    "            \n",
    "        self.prev_loss = last_loss\n",
    "        self.prev_interval = cur_interval\n",
    "\n",
    "def mse_loss(y_true,y_pred):\n",
    "    return nn.functional.mse_loss(y_true,y_pred)\n",
    "\n",
    "def create_optimizer(model):\n",
    "    named_parameters = list(model.named_parameters())    \n",
    "    \n",
    "    roberta_parameters = named_parameters[:197]    \n",
    "    attention_parameters = named_parameters[199:207]\n",
    "    regressor_parameters = named_parameters[207:]\n",
    "        \n",
    "    attention_group = [params for (name, params) in attention_parameters]\n",
    "    regressor_group = [params for (name, params) in regressor_parameters]\n",
    "\n",
    "    parameters = []\n",
    "    parameters.append({\"params\": attention_group})\n",
    "    parameters.append({\"params\": regressor_group})\n",
    "\n",
    "    for layer_num, (name, params) in enumerate(roberta_parameters):\n",
    "        weight_decay = 0.0 if \"bias\" in name else 0.01\n",
    "\n",
    "        lr = 2e-5\n",
    "\n",
    "        if layer_num >= 69:        \n",
    "            lr = 5e-5\n",
    "\n",
    "        if layer_num >= 133:\n",
    "            lr = 1e-4\n",
    "\n",
    "        parameters.append({\"params\": params,\n",
    "                           \"weight_decay\": weight_decay,\n",
    "                           \"lr\": lr})\n",
    "\n",
    "    return optim.AdamW(parameters)"
   ]
  },
  {
   "cell_type": "markdown",
   "metadata": {
    "papermill": {
     "duration": 0.014171,
     "end_time": "2021-08-02T11:51:54.563224",
     "exception": false,
     "start_time": "2021-08-02T11:51:54.549053",
     "status": "completed"
    },
    "tags": []
   },
   "source": [
    "# Engine"
   ]
  },
  {
   "cell_type": "code",
   "execution_count": 10,
   "metadata": {
    "execution": {
     "iopub.execute_input": "2021-08-02T11:51:54.610266Z",
     "iopub.status.busy": "2021-08-02T11:51:54.609357Z",
     "iopub.status.idle": "2021-08-02T11:51:54.611600Z",
     "shell.execute_reply": "2021-08-02T11:51:54.612009Z",
     "shell.execute_reply.started": "2021-08-02T10:11:40.662626Z"
    },
    "papermill": {
     "duration": 0.034622,
     "end_time": "2021-08-02T11:51:54.612161",
     "exception": false,
     "start_time": "2021-08-02T11:51:54.577539",
     "status": "completed"
    },
    "tags": []
   },
   "outputs": [],
   "source": [
    "class Trainer:\n",
    "    def __init__(self, train_dl, val_dl, model, optimizer, scheduler, scaler, criterion, model_num):\n",
    "        self.train_dl = train_dl\n",
    "        self.val_dl = val_dl\n",
    "        self.model = model\n",
    "        self.optimizer = optimizer\n",
    "        self.scheduler = scheduler\n",
    "        self.device = Config.device\n",
    "        self.batches_per_epoch = len(self.train_dl)\n",
    "        self.total_batch_steps = self.batches_per_epoch * Config.epochs\n",
    "        self.criterion = criterion\n",
    "        self.model_num = model_num\n",
    "        \n",
    "        self.scaler = scaler\n",
    "                \n",
    "    def run(self):\n",
    "        record_info = {'train_loss': [],\n",
    "                       'val_loss': [],}\n",
    "        \n",
    "        best_val_loss = float('inf')\n",
    "        evaluation_scheduler = EvaluationScheduler(Config.eval_schedule)\n",
    "        train_loss_counter = AvgCounter()\n",
    "        step = 0\n",
    "        \n",
    "        for epoch in range(Config.epochs):\n",
    "            \n",
    "            print(f'{r_}Epoch: {epoch+1}/{Config.epochs}{sr_}')\n",
    "            start_epoch_time = time()\n",
    "            \n",
    "            for batch_num, batch in enumerate(self.train_dl):\n",
    "                train_loss = self.train(batch, step)\n",
    "#                 print(f'{epoch+1}#[{step+1}/{len(self.train_dl)}]: train loss - {train_loss.item()}')\n",
    "\n",
    "                train_loss_counter.update(train_loss, len(batch))\n",
    "                record_info['train_loss'].append((step, train_loss.item()))\n",
    "\n",
    "                if evaluation_scheduler.step(step):\n",
    "                    val_loss = self.evaluate()\n",
    "                    \n",
    "                    record_info['val_loss'].append((step, val_loss.item()))        \n",
    "                    print(f'\\t\\t{self.model_num}-{epoch+1}#[{batch_num+1}/{self.batches_per_epoch}]: train loss - {train_loss_counter.avg()} | val loss - {val_loss}',)\n",
    "                    train_loss_counter.reset()\n",
    "\n",
    "                    if val_loss < best_val_loss:\n",
    "                        best_val_loss = val_loss.item()\n",
    "                        print(f\"\\t\\t{g_}Val loss decreased from {best_val_loss} to {val_loss}{sr_}\")\n",
    "                        torch.save(self.model, models_dir / f'{self.model.__class__.__name__}_{self.model_num}.pt')\n",
    "                        \n",
    "                    evaluation_scheduler.update_evaluation_interval(val_loss.item())\n",
    "                        \n",
    "                step += 1\n",
    "            end_epoch_time = time()\n",
    "            print(f'{bb_}{y_}The epoch took {end_epoch_time - start_epoch_time} sec..{sr_}')\n",
    "\n",
    "        return record_info, best_val_loss\n",
    "\n",
    "    def train(self, batch, batch_step):\n",
    "        self.model.train()\n",
    "        sent_id, mask, labels = batch['input_ids'].to(self.device), batch['attention_mask'].to(self.device), batch['label'].to(self.device)\n",
    "        with autocast():\n",
    "            preds = self.model(sent_id, mask)\n",
    "            train_loss = self.criterion(preds, labels.unsqueeze(1))\n",
    "        \n",
    "        self.scaler.scale(train_loss).backward()\n",
    "        \n",
    "        if (batch_step + 1) % Config.gradient_accumulation or batch_step+1 == self.total_batch_steps:\n",
    "            self.scaler.step(self.optimizer)\n",
    "            self.scaler.update()\n",
    "            self.model.zero_grad() \n",
    "        self.scheduler.step()\n",
    "        return torch.sqrt(train_loss)\n",
    "\n",
    "    def evaluate(self):\n",
    "        self.model.eval()\n",
    "        val_loss_counter = AvgCounter()\n",
    "\n",
    "        for step,batch in enumerate(self.val_dl):\n",
    "            sent_id, mask, labels = batch['input_ids'].to(self.device), batch['attention_mask'].to(self.device), batch['label'].to(self.device)\n",
    "            with torch.no_grad():\n",
    "                with autocast():\n",
    "                    preds = self.model(sent_id, mask)\n",
    "                    loss = self.criterion(preds,labels.unsqueeze(1))\n",
    "                val_loss_counter.update(torch.sqrt(loss), len(labels))\n",
    "        return val_loss_counter.avg()"
   ]
  },
  {
   "cell_type": "code",
   "execution_count": 11,
   "metadata": {
    "execution": {
     "iopub.execute_input": "2021-08-02T11:51:54.816279Z",
     "iopub.status.busy": "2021-08-02T11:51:54.815679Z",
     "iopub.status.idle": "2021-08-02T11:51:54.821530Z",
     "shell.execute_reply": "2021-08-02T11:51:54.821110Z",
     "shell.execute_reply.started": "2021-08-02T10:11:40.684662Z"
    },
    "papermill": {
     "duration": 0.19523,
     "end_time": "2021-08-02T11:51:54.821668",
     "exception": false,
     "start_time": "2021-08-02T11:51:54.626438",
     "status": "completed"
    },
    "tags": []
   },
   "outputs": [
    {
     "data": {
      "text/plain": [
       "3909"
      ]
     },
     "execution_count": 11,
     "metadata": {},
     "output_type": "execute_result"
    }
   ],
   "source": [
    "gc.collect()"
   ]
  },
  {
   "cell_type": "markdown",
   "metadata": {
    "papermill": {
     "duration": 0.014505,
     "end_time": "2021-08-02T11:51:54.851116",
     "exception": false,
     "start_time": "2021-08-02T11:51:54.836611",
     "status": "completed"
    },
    "tags": []
   },
   "source": [
    "# Train"
   ]
  },
  {
   "cell_type": "code",
   "execution_count": 12,
   "metadata": {
    "execution": {
     "iopub.execute_input": "2021-08-02T11:51:54.888936Z",
     "iopub.status.busy": "2021-08-02T11:51:54.888419Z",
     "iopub.status.idle": "2021-08-02T12:49:11.416278Z",
     "shell.execute_reply": "2021-08-02T12:49:11.416662Z"
    },
    "papermill": {
     "duration": 3436.551151,
     "end_time": "2021-08-02T12:49:11.416834",
     "exception": false,
     "start_time": "2021-08-02T11:51:54.865683",
     "status": "completed"
    },
    "tags": []
   },
   "outputs": [
    {
     "name": "stdout",
     "output_type": "stream",
     "text": [
      "\u001b[40m\u001b[37m  Fold#: 0  \u001b[0m\n"
     ]
    },
    {
     "name": "stderr",
     "output_type": "stream",
     "text": [
      "Some weights of RobertaModel were not initialized from the model checkpoint at ../input/clrp-roberta-base/clrp_roberta_base and are newly initialized: ['roberta.pooler.dense.weight', 'roberta.pooler.dense.bias']\n",
      "You should probably TRAIN this model on a down-stream task to be able to use it for predictions and inference.\n"
     ]
    },
    {
     "name": "stdout",
     "output_type": "stream",
     "text": [
      "\u001b[31mEpoch: 1/4\u001b[0m\n",
      "\t\t0-1#[17/142]: train loss - 1.2647596597671509 | val loss - 1.0374622344970703\n",
      "\t\t\u001b[32mVal loss decreased from 1.0374622344970703 to 1.0374622344970703\u001b[0m\n",
      "\t\t0-1#[33/142]: train loss - 0.9648143649101257 | val loss - 0.7403090596199036\n",
      "\t\t\u001b[32mVal loss decreased from 0.7403090596199036 to 0.7403090596199036\u001b[0m\n",
      "\t\t0-1#[49/142]: train loss - 0.7413684725761414 | val loss - 0.6390765905380249\n",
      "\t\t\u001b[32mVal loss decreased from 0.6390765905380249 to 0.6390765905380249\u001b[0m\n",
      "\t\t0-1#[65/142]: train loss - 0.7141739726066589 | val loss - 0.7470779418945312\n",
      "\t\t0-1#[81/142]: train loss - 0.6479063630104065 | val loss - 0.6717836856842041\n",
      "\t\t0-1#[97/142]: train loss - 0.5864450931549072 | val loss - 0.6440296769142151\n",
      "\t\t0-1#[113/142]: train loss - 0.5599285960197449 | val loss - 0.5765384435653687\n",
      "\t\t\u001b[32mVal loss decreased from 0.5765384435653687 to 0.5765384435653687\u001b[0m\n",
      "\t\t0-1#[129/142]: train loss - 0.5388745665550232 | val loss - 0.592157781124115\n",
      "\u001b[40m\u001b[33mThe epoch took 116.74345636367798 sec..\u001b[0m\n",
      "\u001b[31mEpoch: 2/4\u001b[0m\n",
      "\t\t0-2#[3/142]: train loss - 0.5569841265678406 | val loss - 0.6035346984863281\n",
      "\t\t0-2#[19/142]: train loss - 0.5363878607749939 | val loss - 0.5827189087867737\n",
      "\t\t0-2#[35/142]: train loss - 0.46332043409347534 | val loss - 0.5431535840034485\n",
      "\t\t\u001b[32mVal loss decreased from 0.5431535840034485 to 0.5431535840034485\u001b[0m\n",
      "\t\t0-2#[51/142]: train loss - 0.4199562966823578 | val loss - 0.4957064688205719\n",
      "\t\t\u001b[32mVal loss decreased from 0.4957064688205719 to 0.4957064688205719\u001b[0m\n",
      "\t\t0-2#[67/142]: train loss - 0.43437108397483826 | val loss - 0.5201816558837891\n",
      "\t\t0-2#[83/142]: train loss - 0.4229416847229004 | val loss - 0.5888356566429138\n",
      "\t\t0-2#[99/142]: train loss - 0.510181188583374 | val loss - 0.5169649124145508\n",
      "\t\t0-2#[115/142]: train loss - 0.47097429633140564 | val loss - 0.48597943782806396\n",
      "\t\t\u001b[32mVal loss decreased from 0.48597943782806396 to 0.48597943782806396\u001b[0m\n",
      "\t\t0-2#[123/142]: train loss - 0.4790995121002197 | val loss - 0.5159952640533447\n",
      "\t\t0-2#[131/142]: train loss - 0.39233672618865967 | val loss - 0.5157418847084045\n",
      "\t\t0-2#[139/142]: train loss - 0.4473488926887512 | val loss - 0.5011242628097534\n",
      "\u001b[40m\u001b[33mThe epoch took 129.17072129249573 sec..\u001b[0m\n",
      "\u001b[31mEpoch: 3/4\u001b[0m\n",
      "\t\t0-3#[5/142]: train loss - 0.38645634055137634 | val loss - 0.5585629343986511\n",
      "\t\t0-3#[13/142]: train loss - 0.3259966969490051 | val loss - 0.49467772245407104\n",
      "\t\t0-3#[29/142]: train loss - 0.37100666761398315 | val loss - 0.4796395003795624\n",
      "\t\t\u001b[32mVal loss decreased from 0.4796395003795624 to 0.4796395003795624\u001b[0m\n",
      "\t\t0-3#[33/142]: train loss - 0.3195984363555908 | val loss - 0.4811372756958008\n",
      "\t\t0-3#[41/142]: train loss - 0.33134669065475464 | val loss - 0.4950888156890869\n",
      "\t\t0-3#[57/142]: train loss - 0.3197135627269745 | val loss - 0.49584099650382996\n",
      "\t\t0-3#[73/142]: train loss - 0.3201804757118225 | val loss - 0.47681114077568054\n",
      "\t\t\u001b[32mVal loss decreased from 0.47681114077568054 to 0.47681114077568054\u001b[0m\n",
      "\t\t0-3#[77/142]: train loss - 0.2554026246070862 | val loss - 0.4753558933734894\n",
      "\t\t\u001b[32mVal loss decreased from 0.4753558933734894 to 0.4753558933734894\u001b[0m\n",
      "\t\t0-3#[81/142]: train loss - 0.26095712184906006 | val loss - 0.48026448488235474\n",
      "\t\t0-3#[89/142]: train loss - 0.29024603962898254 | val loss - 0.4868369996547699\n",
      "\t\t0-3#[97/142]: train loss - 0.31844833493232727 | val loss - 0.4732527434825897\n",
      "\t\t\u001b[32mVal loss decreased from 0.4732527434825897 to 0.4732527434825897\u001b[0m\n",
      "\t\t0-3#[101/142]: train loss - 0.31020107865333557 | val loss - 0.48959124088287354\n",
      "\t\t0-3#[109/142]: train loss - 0.321063756942749 | val loss - 0.48165062069892883\n",
      "\t\t0-3#[117/142]: train loss - 0.32329416275024414 | val loss - 0.47910669445991516\n",
      "\t\t0-3#[121/142]: train loss - 0.29991400241851807 | val loss - 0.482551246881485\n",
      "\t\t0-3#[129/142]: train loss - 0.31507420539855957 | val loss - 0.5006304979324341\n",
      "\t\t0-3#[137/142]: train loss - 0.28796130418777466 | val loss - 0.4809228479862213\n",
      "\u001b[40m\u001b[33mThe epoch took 164.20349884033203 sec..\u001b[0m\n",
      "\u001b[31mEpoch: 4/4\u001b[0m\n",
      "\t\t0-4#[3/142]: train loss - 0.27678751945495605 | val loss - 0.4801430404186249\n",
      "\t\t0-4#[11/142]: train loss - 0.26025864481925964 | val loss - 0.4843457043170929\n",
      "\t\t0-4#[19/142]: train loss - 0.2354072630405426 | val loss - 0.48504459857940674\n",
      "\t\t0-4#[27/142]: train loss - 0.24110937118530273 | val loss - 0.47975435853004456\n",
      "\t\t0-4#[31/142]: train loss - 0.2176307886838913 | val loss - 0.4789276719093323\n",
      "\t\t0-4#[35/142]: train loss - 0.2475326955318451 | val loss - 0.47891315817832947\n",
      "\t\t0-4#[39/142]: train loss - 0.22820866107940674 | val loss - 0.4820067882537842\n",
      "\t\t0-4#[47/142]: train loss - 0.22848880290985107 | val loss - 0.48601001501083374\n",
      "\t\t0-4#[55/142]: train loss - 0.2485172599554062 | val loss - 0.48338738083839417\n",
      "\t\t0-4#[63/142]: train loss - 0.24087736010551453 | val loss - 0.48200300335884094\n",
      "\t\t0-4#[71/142]: train loss - 0.24697598814964294 | val loss - 0.48622843623161316\n",
      "\t\t0-4#[79/142]: train loss - 0.23637649416923523 | val loss - 0.48953503370285034\n",
      "\t\t0-4#[87/142]: train loss - 0.24008122086524963 | val loss - 0.4844924807548523\n",
      "\t\t0-4#[95/142]: train loss - 0.2179868072271347 | val loss - 0.480294793844223\n",
      "\t\t0-4#[103/142]: train loss - 0.2482229322195053 | val loss - 0.4784221053123474\n",
      "\t\t0-4#[107/142]: train loss - 0.27558577060699463 | val loss - 0.4782072603702545\n",
      "\t\t0-4#[111/142]: train loss - 0.2091829627752304 | val loss - 0.4783042073249817\n",
      "\t\t0-4#[115/142]: train loss - 0.22552430629730225 | val loss - 0.47833001613616943\n",
      "\t\t0-4#[119/142]: train loss - 0.2062571495771408 | val loss - 0.4784230887889862\n",
      "\t\t0-4#[123/142]: train loss - 0.2544660270214081 | val loss - 0.4784720540046692\n",
      "\t\t0-4#[127/142]: train loss - 0.26338356733322144 | val loss - 0.478666216135025\n",
      "\t\t0-4#[131/142]: train loss - 0.23045794665813446 | val loss - 0.47880077362060547\n",
      "\t\t0-4#[135/142]: train loss - 0.2630467712879181 | val loss - 0.47888779640197754\n",
      "\t\t0-4#[139/142]: train loss - 0.14783570170402527 | val loss - 0.478907972574234\n",
      "\u001b[40m\u001b[33mThe epoch took 195.15642309188843 sec..\u001b[0m\n"
     ]
    },
    {
     "data": {
      "image/png": "[encoded data removed]",
      "text/plain": [
       "<Figure size 432x288 with 1 Axes>"
      ]
     },
     "metadata": {
      "needs_background": "light"
     },
     "output_type": "display_data"
    },
    {
     "name": "stdout",
     "output_type": "stream",
     "text": [
      "\u001b[40m\u001b[37m  Fold#: 1  \u001b[0m\n"
     ]
    },
    {
     "name": "stderr",
     "output_type": "stream",
     "text": [
      "Some weights of RobertaModel were not initialized from the model checkpoint at ../input/clrp-roberta-base/clrp_roberta_base and are newly initialized: ['roberta.pooler.dense.weight', 'roberta.pooler.dense.bias']\n",
      "You should probably TRAIN this model on a down-stream task to be able to use it for predictions and inference.\n"
     ]
    },
    {
     "name": "stdout",
     "output_type": "stream",
     "text": [
      "\u001b[31mEpoch: 1/4\u001b[0m\n",
      "\t\t1-1#[17/142]: train loss - 1.4334819316864014 | val loss - 1.0390799045562744\n",
      "\t\t\u001b[32mVal loss decreased from 1.0390799045562744 to 1.0390799045562744\u001b[0m\n",
      "\t\t1-1#[33/142]: train loss - 1.082991361618042 | val loss - 0.9138142466545105\n",
      "\t\t\u001b[32mVal loss decreased from 0.9138142466545105 to 0.9138142466545105\u001b[0m\n",
      "\t\t1-1#[49/142]: train loss - 0.8256876468658447 | val loss - 0.8184152841567993\n",
      "\t\t\u001b[32mVal loss decreased from 0.8184152841567993 to 0.8184152841567993\u001b[0m\n",
      "\t\t1-1#[65/142]: train loss - 0.7098791003227234 | val loss - 0.7462416291236877\n",
      "\t\t\u001b[32mVal loss decreased from 0.7462416291236877 to 0.7462416291236877\u001b[0m\n",
      "\t\t1-1#[81/142]: train loss - 0.7378679513931274 | val loss - 0.642038881778717\n",
      "\t\t\u001b[32mVal loss decreased from 0.642038881778717 to 0.642038881778717\u001b[0m\n",
      "\t\t1-1#[97/142]: train loss - 0.6365324258804321 | val loss - 0.6272217035293579\n",
      "\t\t\u001b[32mVal loss decreased from 0.6272217035293579 to 0.6272217035293579\u001b[0m\n",
      "\t\t1-1#[113/142]: train loss - 0.5460262298583984 | val loss - 0.5618031620979309\n",
      "\t\t\u001b[32mVal loss decreased from 0.5618031620979309 to 0.5618031620979309\u001b[0m\n",
      "\t\t1-1#[129/142]: train loss - 0.5502709150314331 | val loss - 0.6281231045722961\n",
      "\u001b[40m\u001b[33mThe epoch took 118.77548241615295 sec..\u001b[0m\n",
      "\u001b[31mEpoch: 2/4\u001b[0m\n",
      "\t\t1-2#[3/142]: train loss - 0.5379990935325623 | val loss - 0.5309854745864868\n",
      "\t\t\u001b[32mVal loss decreased from 0.5309854745864868 to 0.5309854745864868\u001b[0m\n",
      "\t\t1-2#[19/142]: train loss - 0.49491453170776367 | val loss - 0.5691251754760742\n",
      "\t\t1-2#[35/142]: train loss - 0.4605829119682312 | val loss - 0.5334017276763916\n",
      "\t\t1-2#[51/142]: train loss - 0.41982921957969666 | val loss - 0.5253669023513794\n",
      "\t\t\u001b[32mVal loss decreased from 0.5253669023513794 to 0.5253669023513794\u001b[0m\n",
      "\t\t1-2#[67/142]: train loss - 0.44316375255584717 | val loss - 0.5295060276985168\n",
      "\t\t1-2#[83/142]: train loss - 0.41451579332351685 | val loss - 0.5248479843139648\n",
      "\t\t\u001b[32mVal loss decreased from 0.5248479843139648 to 0.5248479843139648\u001b[0m\n",
      "\t\t1-2#[99/142]: train loss - 0.42571157217025757 | val loss - 0.6043701171875\n",
      "\t\t1-2#[115/142]: train loss - 0.4816485643386841 | val loss - 0.5019087791442871\n",
      "\t\t\u001b[32mVal loss decreased from 0.5019087791442871 to 0.5019087791442871\u001b[0m\n",
      "\t\t1-2#[131/142]: train loss - 0.4341728687286377 | val loss - 0.518084704875946\n",
      "\u001b[40m\u001b[33mThe epoch took 119.89790034294128 sec..\u001b[0m\n",
      "\u001b[31mEpoch: 3/4\u001b[0m\n",
      "\t\t1-3#[5/142]: train loss - 0.40585213899612427 | val loss - 0.5282195210456848\n",
      "\t\t1-3#[21/142]: train loss - 0.35915178060531616 | val loss - 0.5341671705245972\n",
      "\t\t1-3#[37/142]: train loss - 0.315314382314682 | val loss - 0.5265403389930725\n",
      "\t\t1-3#[53/142]: train loss - 0.30460456013679504 | val loss - 0.5176682472229004\n",
      "\t\t1-3#[69/142]: train loss - 0.2966262400150299 | val loss - 0.5000855922698975\n",
      "\t\t\u001b[32mVal loss decreased from 0.5000855922698975 to 0.5000855922698975\u001b[0m\n",
      "\t\t1-3#[85/142]: train loss - 0.32127517461776733 | val loss - 0.49468883872032166\n",
      "\t\t\u001b[32mVal loss decreased from 0.49468883872032166 to 0.49468883872032166\u001b[0m\n",
      "\t\t1-3#[101/142]: train loss - 0.27786821126937866 | val loss - 0.5006219148635864\n",
      "\t\t1-3#[117/142]: train loss - 0.3324863910675049 | val loss - 0.5148394703865051\n",
      "\t\t1-3#[133/142]: train loss - 0.2766790986061096 | val loss - 0.5012527108192444\n",
      "\u001b[40m\u001b[33mThe epoch took 117.10541272163391 sec..\u001b[0m\n",
      "\u001b[31mEpoch: 4/4\u001b[0m\n",
      "\t\t1-4#[7/142]: train loss - 0.2538413405418396 | val loss - 0.4987962245941162\n",
      "\t\t1-4#[23/142]: train loss - 0.21378830075263977 | val loss - 0.5137071013450623\n",
      "\t\t1-4#[39/142]: train loss - 0.24095074832439423 | val loss - 0.496580570936203\n",
      "\t\t1-4#[55/142]: train loss - 0.21890056133270264 | val loss - 0.49931800365448\n",
      "\t\t1-4#[71/142]: train loss - 0.2139907330274582 | val loss - 0.5031579732894897\n",
      "\t\t1-4#[87/142]: train loss - 0.2226981818675995 | val loss - 0.5119131803512573\n",
      "\t\t1-4#[103/142]: train loss - 0.230729877948761 | val loss - 0.5076178908348083\n",
      "\t\t1-4#[119/142]: train loss - 0.22277496755123138 | val loss - 0.5052441358566284\n",
      "\t\t1-4#[135/142]: train loss - 0.22844040393829346 | val loss - 0.5053072571754456\n",
      "\u001b[40m\u001b[33mThe epoch took 113.87542939186096 sec..\u001b[0m\n"
     ]
    },
    {
     "data": {
      "image/png": "[encoded data removed]",
      "text/plain": [
       "<Figure size 432x288 with 1 Axes>"
      ]
     },
     "metadata": {
      "needs_background": "light"
     },
     "output_type": "display_data"
    },
    {
     "name": "stdout",
     "output_type": "stream",
     "text": [
      "\u001b[40m\u001b[37m  Fold#: 2  \u001b[0m\n"
     ]
    },
    {
     "name": "stderr",
     "output_type": "stream",
     "text": [
      "Some weights of RobertaModel were not initialized from the model checkpoint at ../input/clrp-roberta-base/clrp_roberta_base and are newly initialized: ['roberta.pooler.dense.weight', 'roberta.pooler.dense.bias']\n",
      "You should probably TRAIN this model on a down-stream task to be able to use it for predictions and inference.\n"
     ]
    },
    {
     "name": "stdout",
     "output_type": "stream",
     "text": [
      "\u001b[31mEpoch: 1/4\u001b[0m\n",
      "\t\t2-1#[17/142]: train loss - 1.2471048831939697 | val loss - 1.0210696458816528\n",
      "\t\t\u001b[32mVal loss decreased from 1.0210696458816528 to 1.0210696458816528\u001b[0m\n",
      "\t\t2-1#[33/142]: train loss - 0.9415260553359985 | val loss - 0.749528706073761\n",
      "\t\t\u001b[32mVal loss decreased from 0.749528706073761 to 0.749528706073761\u001b[0m\n",
      "\t\t2-1#[49/142]: train loss - 0.8336536884307861 | val loss - 0.7323495149612427\n",
      "\t\t\u001b[32mVal loss decreased from 0.7323495149612427 to 0.7323495149612427\u001b[0m\n",
      "\t\t2-1#[65/142]: train loss - 0.7020047903060913 | val loss - 0.6952704191207886\n",
      "\t\t\u001b[32mVal loss decreased from 0.6952704191207886 to 0.6952704191207886\u001b[0m\n",
      "\t\t2-1#[81/142]: train loss - 0.6515013575553894 | val loss - 0.5871354937553406\n",
      "\t\t\u001b[32mVal loss decreased from 0.5871354937553406 to 0.5871354937553406\u001b[0m\n",
      "\t\t2-1#[97/142]: train loss - 0.6490970849990845 | val loss - 0.5325479507446289\n",
      "\t\t\u001b[32mVal loss decreased from 0.5325479507446289 to 0.5325479507446289\u001b[0m\n",
      "\t\t2-1#[113/142]: train loss - 0.6455029249191284 | val loss - 0.5684948563575745\n",
      "\t\t2-1#[129/142]: train loss - 0.5585670471191406 | val loss - 0.5876032710075378\n",
      "\u001b[40m\u001b[33mThe epoch took 116.49145936965942 sec..\u001b[0m\n",
      "\u001b[31mEpoch: 2/4\u001b[0m\n",
      "\t\t2-2#[3/142]: train loss - 0.5142587423324585 | val loss - 0.5381675362586975\n",
      "\t\t2-2#[19/142]: train loss - 0.47428807616233826 | val loss - 0.5315912365913391\n",
      "\t\t\u001b[32mVal loss decreased from 0.5315912365913391 to 0.5315912365913391\u001b[0m\n",
      "\t\t2-2#[35/142]: train loss - 0.4605244994163513 | val loss - 0.5700182318687439\n",
      "\t\t2-2#[51/142]: train loss - 0.4266216456890106 | val loss - 0.5094411373138428\n",
      "\t\t\u001b[32mVal loss decreased from 0.5094411373138428 to 0.5094411373138428\u001b[0m\n",
      "\t\t2-2#[67/142]: train loss - 0.4716212749481201 | val loss - 0.5744757056236267\n",
      "\t\t2-2#[83/142]: train loss - 0.4856480360031128 | val loss - 0.5868212580680847\n",
      "\t\t2-2#[99/142]: train loss - 0.4852434992790222 | val loss - 0.5771141648292542\n",
      "\t\t2-2#[115/142]: train loss - 0.4885258078575134 | val loss - 0.5734043717384338\n",
      "\t\t2-2#[131/142]: train loss - 0.4684221148490906 | val loss - 0.5412826538085938\n",
      "\u001b[40m\u001b[33mThe epoch took 117.26309752464294 sec..\u001b[0m\n",
      "\u001b[31mEpoch: 3/4\u001b[0m\n",
      "\t\t2-3#[5/142]: train loss - 0.4034366309642792 | val loss - 0.4821425676345825\n",
      "\t\t\u001b[32mVal loss decreased from 0.4821425676345825 to 0.4821425676345825\u001b[0m\n",
      "\t\t2-3#[13/142]: train loss - 0.3217948377132416 | val loss - 0.4745293855667114\n",
      "\t\t\u001b[32mVal loss decreased from 0.4745293855667114 to 0.4745293855667114\u001b[0m\n",
      "\t\t2-3#[17/142]: train loss - 0.2744590640068054 | val loss - 0.47814053297042847\n",
      "\t\t2-3#[21/142]: train loss - 0.3273286819458008 | val loss - 0.47479742765426636\n",
      "\t\t2-3#[25/142]: train loss - 0.32689303159713745 | val loss - 0.5034010410308838\n",
      "\t\t2-3#[29/142]: train loss - 0.282027006149292 | val loss - 0.49971768260002136\n",
      "\t\t2-3#[45/142]: train loss - 0.31854110956192017 | val loss - 0.5160523056983948\n",
      "\t\t2-3#[61/142]: train loss - 0.3091024160385132 | val loss - 0.49487659335136414\n",
      "\t\t2-3#[77/142]: train loss - 0.32592469453811646 | val loss - 0.4712977409362793\n",
      "\t\t\u001b[32mVal loss decreased from 0.4712977409362793 to 0.4712977409362793\u001b[0m\n",
      "\t\t2-3#[81/142]: train loss - 0.266495943069458 | val loss - 0.4709472954273224\n",
      "\t\t\u001b[32mVal loss decreased from 0.4709472954273224 to 0.4709472954273224\u001b[0m\n",
      "\t\t2-3#[85/142]: train loss - 0.3259798288345337 | val loss - 0.4833125174045563\n",
      "\t\t2-3#[93/142]: train loss - 0.28050321340560913 | val loss - 0.47018101811408997\n",
      "\t\t\u001b[32mVal loss decreased from 0.47018101811408997 to 0.47018101811408997\u001b[0m\n",
      "\t\t2-3#[97/142]: train loss - 0.3066784143447876 | val loss - 0.46804437041282654\n",
      "\t\t\u001b[32mVal loss decreased from 0.46804437041282654 to 0.46804437041282654\u001b[0m\n",
      "\t\t2-3#[99/142]: train loss - 0.2969437539577484 | val loss - 0.46805045008659363\n",
      "\t\t2-3#[101/142]: train loss - 0.3040580153465271 | val loss - 0.4681869447231293\n",
      "\t\t2-3#[103/142]: train loss - 0.28548097610473633 | val loss - 0.4682961106300354\n",
      "\t\t2-3#[105/142]: train loss - 0.3055950701236725 | val loss - 0.46727868914604187\n",
      "\t\t\u001b[32mVal loss decreased from 0.46727868914604187 to 0.46727868914604187\u001b[0m\n",
      "\t\t2-3#[107/142]: train loss - 0.2878662347793579 | val loss - 0.4668290913105011\n",
      "\t\t\u001b[32mVal loss decreased from 0.4668290913105011 to 0.4668290913105011\u001b[0m\n",
      "\t\t2-3#[109/142]: train loss - 0.35213345289230347 | val loss - 0.4675716459751129\n",
      "\t\t2-3#[111/142]: train loss - 0.3053434491157532 | val loss - 0.4728360176086426\n",
      "\t\t2-3#[115/142]: train loss - 0.2918379008769989 | val loss - 0.4790455996990204\n",
      "\t\t2-3#[119/142]: train loss - 0.26757216453552246 | val loss - 0.47659164667129517\n",
      "\t\t2-3#[123/142]: train loss - 0.2858217656612396 | val loss - 0.47543349862098694\n",
      "\t\t2-3#[127/142]: train loss - 0.3276207447052002 | val loss - 0.46801960468292236\n",
      "\t\t2-3#[129/142]: train loss - 0.28156155347824097 | val loss - 0.46583789587020874\n",
      "\t\t\u001b[32mVal loss decreased from 0.46583789587020874 to 0.46583789587020874\u001b[0m\n",
      "\t\t2-3#[131/142]: train loss - 0.3148791491985321 | val loss - 0.4658546447753906\n",
      "\t\t2-3#[133/142]: train loss - 0.32053861021995544 | val loss - 0.4660950005054474\n",
      "\t\t2-3#[135/142]: train loss - 0.29032203555107117 | val loss - 0.46696737408638\n",
      "\t\t2-3#[137/142]: train loss - 0.3045796751976013 | val loss - 0.468093603849411\n",
      "\t\t2-3#[139/142]: train loss - 0.3236064016819 | val loss - 0.47080904245376587\n",
      "\u001b[40m\u001b[33mThe epoch took 240.59057474136353 sec..\u001b[0m\n",
      "\u001b[31mEpoch: 4/4\u001b[0m\n",
      "\t\t2-4#[1/142]: train loss - 0.27411556243896484 | val loss - 0.47866734862327576\n",
      "\t\t2-4#[5/142]: train loss - 0.2534359395503998 | val loss - 0.47400325536727905\n",
      "\t\t2-4#[9/142]: train loss - 0.19560503959655762 | val loss - 0.4764648973941803\n",
      "\t\t2-4#[13/142]: train loss - 0.2206978052854538 | val loss - 0.4746575951576233\n",
      "\t\t2-4#[17/142]: train loss - 0.18582157790660858 | val loss - 0.4736243486404419\n",
      "\t\t2-4#[21/142]: train loss - 0.2158823013305664 | val loss - 0.4719734489917755\n",
      "\t\t2-4#[25/142]: train loss - 0.2225092649459839 | val loss - 0.4690532684326172\n",
      "\t\t2-4#[27/142]: train loss - 0.1869289129972458 | val loss - 0.4687705338001251\n",
      "\t\t2-4#[29/142]: train loss - 0.21370336413383484 | val loss - 0.4686126410961151\n",
      "\t\t2-4#[31/142]: train loss - 0.286160945892334 | val loss - 0.4682222604751587\n",
      "\t\t2-4#[33/142]: train loss - 0.18346083164215088 | val loss - 0.468127578496933\n",
      "\t\t2-4#[35/142]: train loss - 0.19832515716552734 | val loss - 0.4684625267982483\n",
      "\t\t2-4#[37/142]: train loss - 0.24337100982666016 | val loss - 0.4692196846008301\n",
      "\t\t2-4#[39/142]: train loss - 0.27598655223846436 | val loss - 0.47068098187446594\n",
      "\t\t2-4#[43/142]: train loss - 0.19633746147155762 | val loss - 0.4737130403518677\n",
      "\t\t2-4#[47/142]: train loss - 0.20791475474834442 | val loss - 0.47509732842445374\n",
      "\t\t2-4#[51/142]: train loss - 0.23041337728500366 | val loss - 0.47467517852783203\n",
      "\t\t2-4#[55/142]: train loss - 0.22522303462028503 | val loss - 0.47398629784584045\n",
      "\t\t2-4#[59/142]: train loss - 0.1830901801586151 | val loss - 0.47464150190353394\n",
      "\t\t2-4#[63/142]: train loss - 0.2368299812078476 | val loss - 0.4748876392841339\n",
      "\t\t2-4#[67/142]: train loss - 0.24812373518943787 | val loss - 0.47472652792930603\n",
      "\t\t2-4#[71/142]: train loss - 0.21100366115570068 | val loss - 0.47330307960510254\n",
      "\t\t2-4#[75/142]: train loss - 0.23447579145431519 | val loss - 0.4721449315547943\n",
      "\t\t2-4#[79/142]: train loss - 0.2528746724128723 | val loss - 0.47148051857948303\n",
      "\t\t2-4#[83/142]: train loss - 0.19203385710716248 | val loss - 0.4714891314506531\n",
      "\t\t2-4#[87/142]: train loss - 0.23725128173828125 | val loss - 0.4714987277984619\n",
      "\t\t2-4#[91/142]: train loss - 0.1938093602657318 | val loss - 0.4717486798763275\n",
      "\t\t2-4#[95/142]: train loss - 0.24892911314964294 | val loss - 0.4715636968612671\n",
      "\t\t2-4#[99/142]: train loss - 0.17738746106624603 | val loss - 0.4713926911354065\n",
      "\t\t2-4#[103/142]: train loss - 0.27610909938812256 | val loss - 0.47135403752326965\n",
      "\t\t2-4#[107/142]: train loss - 0.221125066280365 | val loss - 0.4714373052120209\n",
      "\t\t2-4#[111/142]: train loss - 0.2709643840789795 | val loss - 0.471526175737381\n",
      "\t\t2-4#[115/142]: train loss - 0.18615512549877167 | val loss - 0.4716489315032959\n",
      "\t\t2-4#[119/142]: train loss - 0.2285274714231491 | val loss - 0.4717696011066437\n",
      "\t\t2-4#[123/142]: train loss - 0.21576273441314697 | val loss - 0.4717196226119995\n",
      "\t\t2-4#[127/142]: train loss - 0.18483643233776093 | val loss - 0.47168079018592834\n",
      "\t\t2-4#[131/142]: train loss - 0.25950461626052856 | val loss - 0.4717043340206146\n",
      "\t\t2-4#[135/142]: train loss - 0.19968953728675842 | val loss - 0.4716717600822449\n",
      "\t\t2-4#[139/142]: train loss - 0.23615311086177826 | val loss - 0.4716551899909973\n",
      "\u001b[40m\u001b[33mThe epoch took 276.58365964889526 sec..\u001b[0m\n"
     ]
    },
    {
     "data": {
      "image/png": "[encoded data removed]",
      "text/plain": [
       "<Figure size 432x288 with 1 Axes>"
      ]
     },
     "metadata": {
      "needs_background": "light"
     },
     "output_type": "display_data"
    },
    {
     "name": "stdout",
     "output_type": "stream",
     "text": [
      "\u001b[40m\u001b[37m  Fold#: 3  \u001b[0m\n"
     ]
    },
    {
     "name": "stderr",
     "output_type": "stream",
     "text": [
      "Some weights of RobertaModel were not initialized from the model checkpoint at ../input/clrp-roberta-base/clrp_roberta_base and are newly initialized: ['roberta.pooler.dense.weight', 'roberta.pooler.dense.bias']\n",
      "You should probably TRAIN this model on a down-stream task to be able to use it for predictions and inference.\n"
     ]
    },
    {
     "name": "stdout",
     "output_type": "stream",
     "text": [
      "\u001b[31mEpoch: 1/4\u001b[0m\n",
      "\t\t3-1#[17/142]: train loss - 1.4278143644332886 | val loss - 1.0097485780715942\n",
      "\t\t\u001b[32mVal loss decreased from 1.0097485780715942 to 1.0097485780715942\u001b[0m\n",
      "\t\t3-1#[33/142]: train loss - 0.9827769994735718 | val loss - 0.8281704187393188\n",
      "\t\t\u001b[32mVal loss decreased from 0.8281704187393188 to 0.8281704187393188\u001b[0m\n",
      "\t\t3-1#[49/142]: train loss - 0.7934450507164001 | val loss - 0.6233211755752563\n",
      "\t\t\u001b[32mVal loss decreased from 0.6233211755752563 to 0.6233211755752563\u001b[0m\n",
      "\t\t3-1#[65/142]: train loss - 0.6467511653900146 | val loss - 0.6156894564628601\n",
      "\t\t\u001b[32mVal loss decreased from 0.6156894564628601 to 0.6156894564628601\u001b[0m\n",
      "\t\t3-1#[81/142]: train loss - 0.6142540574073792 | val loss - 0.5550535321235657\n",
      "\t\t\u001b[32mVal loss decreased from 0.5550535321235657 to 0.5550535321235657\u001b[0m\n",
      "\t\t3-1#[97/142]: train loss - 0.6015425324440002 | val loss - 0.6170591115951538\n",
      "\t\t3-1#[113/142]: train loss - 0.6408063173294067 | val loss - 0.5014366507530212\n",
      "\t\t\u001b[32mVal loss decreased from 0.5014366507530212 to 0.5014366507530212\u001b[0m\n",
      "\t\t3-1#[129/142]: train loss - 0.5737053155899048 | val loss - 0.549310028553009\n",
      "\u001b[40m\u001b[33mThe epoch took 116.80433750152588 sec..\u001b[0m\n",
      "\u001b[31mEpoch: 2/4\u001b[0m\n",
      "\t\t3-2#[3/142]: train loss - 0.5165930986404419 | val loss - 0.4982917010784149\n",
      "\t\t\u001b[32mVal loss decreased from 0.4982917010784149 to 0.4982917010784149\u001b[0m\n",
      "\t\t3-2#[19/142]: train loss - 0.4735327363014221 | val loss - 0.4983527362346649\n",
      "\t\t3-2#[35/142]: train loss - 0.43329906463623047 | val loss - 0.4887765645980835\n",
      "\t\t\u001b[32mVal loss decreased from 0.4887765645980835 to 0.4887765645980835\u001b[0m\n",
      "\t\t3-2#[43/142]: train loss - 0.43228596448898315 | val loss - 0.4891897141933441\n",
      "\t\t3-2#[51/142]: train loss - 0.4173187017440796 | val loss - 0.5031136870384216\n",
      "\t\t3-2#[59/142]: train loss - 0.4829205870628357 | val loss - 0.47040024399757385\n",
      "\t\t\u001b[32mVal loss decreased from 0.47040024399757385 to 0.47040024399757385\u001b[0m\n",
      "\t\t3-2#[63/142]: train loss - 0.39423322677612305 | val loss - 0.4672527015209198\n",
      "\t\t\u001b[32mVal loss decreased from 0.4672527015209198 to 0.4672527015209198\u001b[0m\n",
      "\t\t3-2#[65/142]: train loss - 0.43705058097839355 | val loss - 0.4809557795524597\n",
      "\t\t3-2#[73/142]: train loss - 0.48100709915161133 | val loss - 0.4690057635307312\n",
      "\t\t3-2#[75/142]: train loss - 0.40242522954940796 | val loss - 0.4854467511177063\n",
      "\t\t3-2#[83/142]: train loss - 0.4721618890762329 | val loss - 0.4863411784172058\n",
      "\t\t3-2#[91/142]: train loss - 0.4247535467147827 | val loss - 0.48466062545776367\n",
      "\t\t3-2#[99/142]: train loss - 0.43532222509384155 | val loss - 0.48774203658103943\n",
      "\t\t3-2#[107/142]: train loss - 0.4417179524898529 | val loss - 0.457754522562027\n",
      "\t\t\u001b[32mVal loss decreased from 0.457754522562027 to 0.457754522562027\u001b[0m\n",
      "\t\t3-2#[109/142]: train loss - 0.5350792407989502 | val loss - 0.47087809443473816\n",
      "\t\t3-2#[113/142]: train loss - 0.533039391040802 | val loss - 0.46621373295783997\n",
      "\t\t3-2#[115/142]: train loss - 0.4417433738708496 | val loss - 0.4846380054950714\n",
      "\t\t3-2#[123/142]: train loss - 0.4680176377296448 | val loss - 0.49341556429862976\n",
      "\t\t3-2#[139/142]: train loss - 0.4811800718307495 | val loss - 0.5528990626335144\n",
      "\u001b[40m\u001b[33mThe epoch took 175.52784705162048 sec..\u001b[0m\n",
      "\u001b[31mEpoch: 3/4\u001b[0m\n",
      "\t\t3-3#[13/142]: train loss - 0.39618000388145447 | val loss - 0.4777843654155731\n",
      "\t\t3-3#[17/142]: train loss - 0.3597038984298706 | val loss - 0.4699419438838959\n",
      "\t\t3-3#[19/142]: train loss - 0.42799609899520874 | val loss - 0.5024604201316833\n",
      "\t\t3-3#[21/142]: train loss - 0.29987117648124695 | val loss - 0.5180087685585022\n",
      "\t\t3-3#[23/142]: train loss - 0.31992107629776 | val loss - 0.4941418468952179\n",
      "\t\t3-3#[39/142]: train loss - 0.3440893292427063 | val loss - 0.4523850381374359\n",
      "\t\t\u001b[32mVal loss decreased from 0.4523850381374359 to 0.4523850381374359\u001b[0m\n",
      "\t\t3-3#[41/142]: train loss - 0.31015545129776 | val loss - 0.44950321316719055\n",
      "\t\t\u001b[32mVal loss decreased from 0.44950321316719055 to 0.44950321316719055\u001b[0m\n",
      "\t\t3-3#[43/142]: train loss - 0.2954076826572418 | val loss - 0.4797505736351013\n",
      "\t\t3-3#[47/142]: train loss - 0.4029333293437958 | val loss - 0.4777960479259491\n",
      "\t\t3-3#[51/142]: train loss - 0.41132354736328125 | val loss - 0.47181400656700134\n",
      "\t\t3-3#[55/142]: train loss - 0.34381985664367676 | val loss - 0.4810030460357666\n",
      "\t\t3-3#[63/142]: train loss - 0.35105830430984497 | val loss - 0.4641804099082947\n",
      "\t\t3-3#[65/142]: train loss - 0.4128563106060028 | val loss - 0.44853004813194275\n",
      "\t\t\u001b[32mVal loss decreased from 0.44853004813194275 to 0.44853004813194275\u001b[0m\n",
      "\t\t3-3#[67/142]: train loss - 0.3605895936489105 | val loss - 0.4482317268848419\n",
      "\t\t\u001b[32mVal loss decreased from 0.4482317268848419 to 0.4482317268848419\u001b[0m\n",
      "\t\t3-3#[69/142]: train loss - 0.26426759362220764 | val loss - 0.45290058851242065\n",
      "\t\t3-3#[71/142]: train loss - 0.3223165273666382 | val loss - 0.4532810151576996\n",
      "\t\t3-3#[73/142]: train loss - 0.28613534569740295 | val loss - 0.45062190294265747\n",
      "\t\t3-3#[75/142]: train loss - 0.33189913630485535 | val loss - 0.44304338097572327\n",
      "\t\t\u001b[32mVal loss decreased from 0.44304338097572327 to 0.44304338097572327\u001b[0m\n",
      "\t\t3-3#[77/142]: train loss - 0.27575284242630005 | val loss - 0.44141095876693726\n",
      "\t\t\u001b[32mVal loss decreased from 0.44141095876693726 to 0.44141095876693726\u001b[0m\n",
      "\t\t3-3#[79/142]: train loss - 0.3831413984298706 | val loss - 0.4417029321193695\n",
      "\t\t3-3#[81/142]: train loss - 0.255699098110199 | val loss - 0.4430800974369049\n",
      "\t\t3-3#[83/142]: train loss - 0.37543249130249023 | val loss - 0.44346967339515686\n",
      "\t\t3-3#[85/142]: train loss - 0.3151620030403137 | val loss - 0.44712555408477783\n",
      "\t\t3-3#[87/142]: train loss - 0.31371593475341797 | val loss - 0.46066606044769287\n",
      "\t\t3-3#[89/142]: train loss - 0.3317461609840393 | val loss - 0.46700358390808105\n",
      "\t\t3-3#[91/142]: train loss - 0.34998267889022827 | val loss - 0.4624297320842743\n",
      "\t\t3-3#[93/142]: train loss - 0.261749804019928 | val loss - 0.45188361406326294\n",
      "\t\t3-3#[95/142]: train loss - 0.3098202347755432 | val loss - 0.4452305734157562\n",
      "\t\t3-3#[97/142]: train loss - 0.33738526701927185 | val loss - 0.4449804127216339\n",
      "\t\t3-3#[99/142]: train loss - 0.37034040689468384 | val loss - 0.4476872682571411\n",
      "\t\t3-3#[101/142]: train loss - 0.3573429584503174 | val loss - 0.4459206759929657\n",
      "\t\t3-3#[103/142]: train loss - 0.2796732783317566 | val loss - 0.442939817905426\n",
      "\t\t3-3#[105/142]: train loss - 0.30786144733428955 | val loss - 0.44185930490493774\n",
      "\t\t3-3#[107/142]: train loss - 0.3040429949760437 | val loss - 0.441850483417511\n",
      "\t\t3-3#[109/142]: train loss - 0.2841516435146332 | val loss - 0.44028279185295105\n",
      "\t\t\u001b[32mVal loss decreased from 0.44028279185295105 to 0.44028279185295105\u001b[0m\n",
      "\t\t3-3#[111/142]: train loss - 0.3202298879623413 | val loss - 0.4400373101234436\n",
      "\t\t\u001b[32mVal loss decreased from 0.4400373101234436 to 0.4400373101234436\u001b[0m\n",
      "\t\t3-3#[113/142]: train loss - 0.312017560005188 | val loss - 0.4401686191558838\n",
      "\t\t3-3#[115/142]: train loss - 0.21476015448570251 | val loss - 0.4407177269458771\n",
      "\t\t3-3#[117/142]: train loss - 0.31468766927719116 | val loss - 0.4442065954208374\n",
      "\t\t3-3#[119/142]: train loss - 0.27560490369796753 | val loss - 0.45137137174606323\n",
      "\t\t3-3#[121/142]: train loss - 0.33176112174987793 | val loss - 0.450204461812973\n",
      "\t\t3-3#[123/142]: train loss - 0.305706650018692 | val loss - 0.44842782616615295\n",
      "\t\t3-3#[125/142]: train loss - 0.2767294645309448 | val loss - 0.44486936926841736\n",
      "\t\t3-3#[127/142]: train loss - 0.33279186487197876 | val loss - 0.4417511224746704\n",
      "\t\t3-3#[129/142]: train loss - 0.2326897829771042 | val loss - 0.4407733678817749\n",
      "\t\t3-3#[131/142]: train loss - 0.3300677239894867 | val loss - 0.44118762016296387\n",
      "\t\t3-3#[133/142]: train loss - 0.3084186911582947 | val loss - 0.4414720833301544\n",
      "\t\t3-3#[135/142]: train loss - 0.3165487051010132 | val loss - 0.44052931666374207\n",
      "\t\t3-3#[137/142]: train loss - 0.3337268531322479 | val loss - 0.4405871629714966\n",
      "\t\t3-3#[139/142]: train loss - 0.2362406700849533 | val loss - 0.44147515296936035\n",
      "\t\t3-3#[141/142]: train loss - 0.24294523894786835 | val loss - 0.44229400157928467\n",
      "\u001b[40m\u001b[33mThe epoch took 353.0877230167389 sec..\u001b[0m\n",
      "\u001b[31mEpoch: 4/4\u001b[0m\n",
      "\t\t3-4#[1/142]: train loss - 0.286705881357193 | val loss - 0.44777414202690125\n",
      "\t\t3-4#[3/142]: train loss - 0.27306628227233887 | val loss - 0.45325183868408203\n",
      "\t\t3-4#[5/142]: train loss - 0.2878722548484802 | val loss - 0.453459769487381\n",
      "\t\t3-4#[7/142]: train loss - 0.2716749608516693 | val loss - 0.4509589672088623\n",
      "\t\t3-4#[9/142]: train loss - 0.2979162335395813 | val loss - 0.44409701228141785\n",
      "\t\t3-4#[11/142]: train loss - 0.2182941436767578 | val loss - 0.44020089507102966\n",
      "\t\t3-4#[13/142]: train loss - 0.20275835692882538 | val loss - 0.4389796853065491\n",
      "\t\t\u001b[32mVal loss decreased from 0.4389796853065491 to 0.4389796853065491\u001b[0m\n",
      "\t\t3-4#[15/142]: train loss - 0.23466801643371582 | val loss - 0.44158849120140076\n",
      "\t\t3-4#[17/142]: train loss - 0.25350305438041687 | val loss - 0.44508662819862366\n",
      "\t\t3-4#[19/142]: train loss - 0.33228105306625366 | val loss - 0.44233620166778564\n",
      "\t\t3-4#[21/142]: train loss - 0.2466185986995697 | val loss - 0.4393309950828552\n",
      "\t\t3-4#[23/142]: train loss - 0.2545992136001587 | val loss - 0.4374162256717682\n",
      "\t\t\u001b[32mVal loss decreased from 0.4374162256717682 to 0.4374162256717682\u001b[0m\n",
      "\t\t3-4#[25/142]: train loss - 0.2792194187641144 | val loss - 0.4401218593120575\n",
      "\t\t3-4#[27/142]: train loss - 0.25763940811157227 | val loss - 0.4466835558414459\n",
      "\t\t3-4#[29/142]: train loss - 0.2786506116390228 | val loss - 0.4520740509033203\n",
      "\t\t3-4#[31/142]: train loss - 0.3214932680130005 | val loss - 0.4527917206287384\n",
      "\t\t3-4#[33/142]: train loss - 0.19557520747184753 | val loss - 0.4526095688343048\n",
      "\t\t3-4#[35/142]: train loss - 0.2835298776626587 | val loss - 0.4496730864048004\n",
      "\t\t3-4#[37/142]: train loss - 0.26391714811325073 | val loss - 0.44387367367744446\n",
      "\t\t3-4#[39/142]: train loss - 0.23586851358413696 | val loss - 0.4396461248397827\n",
      "\t\t3-4#[41/142]: train loss - 0.31260961294174194 | val loss - 0.4385310709476471\n",
      "\t\t3-4#[43/142]: train loss - 0.258453905582428 | val loss - 0.4381829798221588\n",
      "\t\t3-4#[45/142]: train loss - 0.23789140582084656 | val loss - 0.43816885352134705\n",
      "\t\t3-4#[47/142]: train loss - 0.2603062391281128 | val loss - 0.43825483322143555\n",
      "\t\t3-4#[49/142]: train loss - 0.24386903643608093 | val loss - 0.43835699558258057\n",
      "\t\t3-4#[51/142]: train loss - 0.23996494710445404 | val loss - 0.43851208686828613\n",
      "\t\t3-4#[53/142]: train loss - 0.2632315754890442 | val loss - 0.4388424754142761\n",
      "\t\t3-4#[55/142]: train loss - 0.17725937068462372 | val loss - 0.43941736221313477\n",
      "\t\t3-4#[57/142]: train loss - 0.2753777503967285 | val loss - 0.4395650625228882\n",
      "\t\t3-4#[59/142]: train loss - 0.2226925939321518 | val loss - 0.4392261803150177\n",
      "\t\t3-4#[61/142]: train loss - 0.26047196984291077 | val loss - 0.43899306654930115\n",
      "\t\t3-4#[63/142]: train loss - 0.19209735095500946 | val loss - 0.4387816786766052\n",
      "\t\t3-4#[65/142]: train loss - 0.2281266450881958 | val loss - 0.4387030005455017\n",
      "\t\t3-4#[67/142]: train loss - 0.20547513663768768 | val loss - 0.4384685456752777\n",
      "\t\t3-4#[69/142]: train loss - 0.17167887091636658 | val loss - 0.43840157985687256\n",
      "\t\t3-4#[71/142]: train loss - 0.20081636309623718 | val loss - 0.43821659684181213\n",
      "\t\t3-4#[73/142]: train loss - 0.27561259269714355 | val loss - 0.43814602494239807\n",
      "\t\t3-4#[75/142]: train loss - 0.2743302583694458 | val loss - 0.4382014870643616\n",
      "\t\t3-4#[77/142]: train loss - 0.20165733993053436 | val loss - 0.438301682472229\n",
      "\t\t3-4#[79/142]: train loss - 0.2775263786315918 | val loss - 0.43844369053840637\n",
      "\t\t3-4#[81/142]: train loss - 0.21432654559612274 | val loss - 0.4385841488838196\n",
      "\t\t3-4#[83/142]: train loss - 0.1872362345457077 | val loss - 0.438748836517334\n",
      "\t\t3-4#[85/142]: train loss - 0.21903440356254578 | val loss - 0.4389582872390747\n",
      "\t\t3-4#[87/142]: train loss - 0.22668308019638062 | val loss - 0.4391540288925171\n",
      "\t\t3-4#[89/142]: train loss - 0.22797004878520966 | val loss - 0.4393426775932312\n",
      "\t\t3-4#[91/142]: train loss - 0.19915275275707245 | val loss - 0.4394764304161072\n",
      "\t\t3-4#[93/142]: train loss - 0.230942964553833 | val loss - 0.43976080417633057\n",
      "\t\t3-4#[95/142]: train loss - 0.24612179398536682 | val loss - 0.4399597942829132\n",
      "\t\t3-4#[97/142]: train loss - 0.2329830378293991 | val loss - 0.44003918766975403\n",
      "\t\t3-4#[99/142]: train loss - 0.24011485278606415 | val loss - 0.4400199055671692\n",
      "\t\t3-4#[101/142]: train loss - 0.23931030929088593 | val loss - 0.4399549067020416\n",
      "\t\t3-4#[103/142]: train loss - 0.24571047723293304 | val loss - 0.43985339999198914\n",
      "\t\t3-4#[105/142]: train loss - 0.2532007694244385 | val loss - 0.4398098587989807\n",
      "\t\t3-4#[107/142]: train loss - 0.25793319940567017 | val loss - 0.43973422050476074\n",
      "\t\t3-4#[109/142]: train loss - 0.23237571120262146 | val loss - 0.43969962000846863\n",
      "\t\t3-4#[111/142]: train loss - 0.198296457529068 | val loss - 0.4396349787712097\n",
      "\t\t3-4#[113/142]: train loss - 0.2727494239807129 | val loss - 0.4395742118358612\n",
      "\t\t3-4#[115/142]: train loss - 0.2124909609556198 | val loss - 0.439554899930954\n",
      "\t\t3-4#[117/142]: train loss - 0.21022933721542358 | val loss - 0.4395574629306793\n",
      "\t\t3-4#[119/142]: train loss - 0.23432950675487518 | val loss - 0.4395638704299927\n",
      "\t\t3-4#[121/142]: train loss - 0.2647380828857422 | val loss - 0.4395396113395691\n",
      "\t\t3-4#[123/142]: train loss - 0.25269782543182373 | val loss - 0.43955641984939575\n",
      "\t\t3-4#[125/142]: train loss - 0.21124055981636047 | val loss - 0.43952029943466187\n",
      "\t\t3-4#[127/142]: train loss - 0.2015632838010788 | val loss - 0.43952420353889465\n",
      "\t\t3-4#[129/142]: train loss - 0.19880759716033936 | val loss - 0.43952804803848267\n",
      "\t\t3-4#[131/142]: train loss - 0.2878881096839905 | val loss - 0.4395359456539154\n",
      "\t\t3-4#[133/142]: train loss - 0.2023332118988037 | val loss - 0.439556747674942\n",
      "\t\t3-4#[135/142]: train loss - 0.24154677987098694 | val loss - 0.43958619236946106\n",
      "\t\t3-4#[137/142]: train loss - 0.21076703071594238 | val loss - 0.43958574533462524\n",
      "\t\t3-4#[139/142]: train loss - 0.2642553448677063 | val loss - 0.43958601355552673\n",
      "\t\t3-4#[141/142]: train loss - 0.24383096396923065 | val loss - 0.43954384326934814\n",
      "\u001b[40m\u001b[33mThe epoch took 453.22509026527405 sec..\u001b[0m\n"
     ]
    },
    {
     "data": {
      "image/png": "[encoded data removed]",
      "text/plain": [
       "<Figure size 432x288 with 1 Axes>"
      ]
     },
     "metadata": {
      "needs_background": "light"
     },
     "output_type": "display_data"
    },
    {
     "name": "stdout",
     "output_type": "stream",
     "text": [
      "\u001b[40m\u001b[37m  Fold#: 4  \u001b[0m\n"
     ]
    },
    {
     "name": "stderr",
     "output_type": "stream",
     "text": [
      "Some weights of RobertaModel were not initialized from the model checkpoint at ../input/clrp-roberta-base/clrp_roberta_base and are newly initialized: ['roberta.pooler.dense.weight', 'roberta.pooler.dense.bias']\n",
      "You should probably TRAIN this model on a down-stream task to be able to use it for predictions and inference.\n"
     ]
    },
    {
     "name": "stdout",
     "output_type": "stream",
     "text": [
      "\u001b[31mEpoch: 1/4\u001b[0m\n",
      "\t\t4-1#[17/142]: train loss - 1.3254575729370117 | val loss - 1.0183590650558472\n",
      "\t\t\u001b[32mVal loss decreased from 1.0183590650558472 to 1.0183590650558472\u001b[0m\n",
      "\t\t4-1#[33/142]: train loss - 0.9183346629142761 | val loss - 0.7512664198875427\n",
      "\t\t\u001b[32mVal loss decreased from 0.7512664198875427 to 0.7512664198875427\u001b[0m\n",
      "\t\t4-1#[49/142]: train loss - 0.7512997984886169 | val loss - 0.7751024961471558\n",
      "\t\t4-1#[65/142]: train loss - 0.6919413805007935 | val loss - 0.6304856538772583\n",
      "\t\t\u001b[32mVal loss decreased from 0.6304856538772583 to 0.6304856538772583\u001b[0m\n",
      "\t\t4-1#[81/142]: train loss - 0.5624340772628784 | val loss - 0.6032631993293762\n",
      "\t\t\u001b[32mVal loss decreased from 0.6032631993293762 to 0.6032631993293762\u001b[0m\n",
      "\t\t4-1#[97/142]: train loss - 0.5808584690093994 | val loss - 0.5566282272338867\n",
      "\t\t\u001b[32mVal loss decreased from 0.5566282272338867 to 0.5566282272338867\u001b[0m\n",
      "\t\t4-1#[113/142]: train loss - 0.5475019216537476 | val loss - 0.5764198899269104\n",
      "\t\t4-1#[129/142]: train loss - 0.5874344706535339 | val loss - 0.5619906187057495\n",
      "\u001b[40m\u001b[33mThe epoch took 114.63910031318665 sec..\u001b[0m\n",
      "\u001b[31mEpoch: 2/4\u001b[0m\n",
      "\t\t4-2#[3/142]: train loss - 0.5492367744445801 | val loss - 0.6013044714927673\n",
      "\t\t4-2#[19/142]: train loss - 0.48598310351371765 | val loss - 0.5499284863471985\n",
      "\t\t\u001b[32mVal loss decreased from 0.5499284863471985 to 0.5499284863471985\u001b[0m\n",
      "\t\t4-2#[35/142]: train loss - 0.4820951223373413 | val loss - 0.5347535610198975\n",
      "\t\t\u001b[32mVal loss decreased from 0.5347535610198975 to 0.5347535610198975\u001b[0m\n",
      "\t\t4-2#[51/142]: train loss - 0.4499529302120209 | val loss - 0.5302558541297913\n",
      "\t\t\u001b[32mVal loss decreased from 0.5302558541297913 to 0.5302558541297913\u001b[0m\n",
      "\t\t4-2#[67/142]: train loss - 0.4232971668243408 | val loss - 0.5323225855827332\n",
      "\t\t4-2#[83/142]: train loss - 0.4155205488204956 | val loss - 0.5139644742012024\n",
      "\t\t\u001b[32mVal loss decreased from 0.5139644742012024 to 0.5139644742012024\u001b[0m\n",
      "\t\t4-2#[99/142]: train loss - 0.4689266085624695 | val loss - 0.5411753058433533\n",
      "\t\t4-2#[115/142]: train loss - 0.4541572034358978 | val loss - 0.5000342726707458\n",
      "\t\t\u001b[32mVal loss decreased from 0.5000342726707458 to 0.5000342726707458\u001b[0m\n",
      "\t\t4-2#[131/142]: train loss - 0.43832895159721375 | val loss - 0.5358157753944397\n",
      "\u001b[40m\u001b[33mThe epoch took 120.5368332862854 sec..\u001b[0m\n",
      "\u001b[31mEpoch: 3/4\u001b[0m\n",
      "\t\t4-3#[5/142]: train loss - 0.4487060010433197 | val loss - 0.568411648273468\n",
      "\t\t4-3#[21/142]: train loss - 0.36591002345085144 | val loss - 0.48426419496536255\n",
      "\t\t\u001b[32mVal loss decreased from 0.48426419496536255 to 0.48426419496536255\u001b[0m\n",
      "\t\t4-3#[29/142]: train loss - 0.34412550926208496 | val loss - 0.5310543179512024\n",
      "\t\t4-3#[37/142]: train loss - 0.35439950227737427 | val loss - 0.4916563034057617\n",
      "\t\t4-3#[53/142]: train loss - 0.35460102558135986 | val loss - 0.503498911857605\n",
      "\t\t4-3#[69/142]: train loss - 0.3275067210197449 | val loss - 0.49674567580223083\n",
      "\t\t4-3#[85/142]: train loss - 0.31811007857322693 | val loss - 0.5024920105934143\n",
      "\t\t4-3#[101/142]: train loss - 0.308075487613678 | val loss - 0.5020636320114136\n",
      "\t\t4-3#[117/142]: train loss - 0.32122716307640076 | val loss - 0.4873882532119751\n",
      "\t\t4-3#[125/142]: train loss - 0.3083657920360565 | val loss - 0.5110633969306946\n",
      "\t\t4-3#[133/142]: train loss - 0.2956662178039551 | val loss - 0.48827385902404785\n",
      "\t\t4-3#[141/142]: train loss - 0.3151652216911316 | val loss - 0.4903424382209778\n",
      "\u001b[40m\u001b[33mThe epoch took 131.20075035095215 sec..\u001b[0m\n",
      "\u001b[31mEpoch: 4/4\u001b[0m\n",
      "\t\t4-4#[15/142]: train loss - 0.24436944723129272 | val loss - 0.48882144689559937\n",
      "\t\t4-4#[23/142]: train loss - 0.25338420271873474 | val loss - 0.4870489537715912\n",
      "\t\t4-4#[31/142]: train loss - 0.23790201544761658 | val loss - 0.4941069185733795\n",
      "\t\t4-4#[47/142]: train loss - 0.2406136393547058 | val loss - 0.4907519817352295\n",
      "\t\t4-4#[63/142]: train loss - 0.2512289881706238 | val loss - 0.4890555739402771\n",
      "\t\t4-4#[71/142]: train loss - 0.24257111549377441 | val loss - 0.4942898750305176\n",
      "\t\t4-4#[87/142]: train loss - 0.22942394018173218 | val loss - 0.502772867679596\n",
      "\t\t4-4#[103/142]: train loss - 0.22296057641506195 | val loss - 0.4972301721572876\n",
      "\t\t4-4#[119/142]: train loss - 0.21611611545085907 | val loss - 0.49456754326820374\n",
      "\t\t4-4#[135/142]: train loss - 0.22501510381698608 | val loss - 0.4941609501838684\n",
      "\u001b[40m\u001b[33mThe epoch took 118.99330592155457 sec..\u001b[0m\n"
     ]
    },
    {
     "data": {
      "image/png": "[encoded data removed]",
      "text/plain": [
       "<Figure size 432x288 with 1 Axes>"
      ]
     },
     "metadata": {
      "needs_background": "light"
     },
     "output_type": "display_data"
    }
   ],
   "source": [
    "best_scores = []\n",
    "tokenizer = AutoTokenizer.from_pretrained(Config.roberta_model)\n",
    "SEED = 1000\n",
    "\n",
    "for fold in range(Config.nfolds): \n",
    "    \n",
    "    set_random_seed(SEED + fold)\n",
    "    print(f'{bb_}{w_}  Fold#: {fold}  {sr_}')\n",
    "\n",
    "    x_train,x_valid = train_df.query(f\"Fold != {fold}\"),train_df.query(f\"Fold == {fold}\")\n",
    "    train_dl = make_dataloader(x_train, tokenizer)\n",
    "    valid_dl = make_dataloader(x_valid, tokenizer, is_train=False)\n",
    "\n",
    "    model = LitModel(Config.pre_trained_model)\n",
    "    model = model.to(Config.device)\n",
    "    optimizer = create_optimizer(model)\n",
    "    scaler = GradScaler()\n",
    "    scheduler = get_cosine_schedule_with_warmup(optimizer,num_training_steps=Config.epochs * len(train_dl),num_warmup_steps=len(train_dl) * Config.epochs * 0.11)  \n",
    "    criterion = mse_loss\n",
    "\n",
    "    trainer = Trainer(train_dl, valid_dl, model, optimizer, scheduler, scaler, criterion, fold)\n",
    "    record_info, best_val_loss = trainer.run()\n",
    "    best_scores.append(best_val_loss)    \n",
    "\n",
    "    steps, train_losses = list(zip(*record_info['train_loss']))\n",
    "    plt.plot(steps, train_losses, label='train_loss')\n",
    "    steps, val_losses = list(zip(*record_info['val_loss']))\n",
    "    plt.plot(steps, val_losses, label='val_loss')\n",
    "    plt.legend()\n",
    "    plt.show()"
   ]
  },
  {
   "cell_type": "code",
   "execution_count": 13,
   "metadata": {
    "execution": {
     "iopub.execute_input": "2021-08-02T12:49:11.803092Z",
     "iopub.status.busy": "2021-08-02T12:49:11.801663Z",
     "iopub.status.idle": "2021-08-02T12:49:12.749175Z",
     "shell.execute_reply": "2021-08-02T12:49:12.749617Z"
    },
    "papermill": {
     "duration": 1.212062,
     "end_time": "2021-08-02T12:49:12.749788",
     "exception": false,
     "start_time": "2021-08-02T12:49:11.537726",
     "status": "completed"
    },
    "tags": []
   },
   "outputs": [
    {
     "name": "stdout",
     "output_type": "stream",
     "text": [
      "Best val losses: [0.4732527434825897, 0.49468883872032166, 0.46583789587020874, 0.4374162256717682, 0.48426419496536255]\n",
      "Avg val loss: 0.4710919797420502\n"
     ]
    }
   ],
   "source": [
    "print('Best val losses:', best_scores)\n",
    "print('Avg val loss:', np.array(best_scores).mean())\n",
    "torch.cuda.empty_cache()\n",
    "!date '+%A %W %Y %X' > execution_time"
   ]
  },
  {
   "cell_type": "code",
   "execution_count": 14,
   "metadata": {
    "execution": {
     "iopub.execute_input": "2021-08-02T12:49:13.002677Z",
     "iopub.status.busy": "2021-08-02T12:49:13.001823Z",
     "iopub.status.idle": "2021-08-02T12:49:13.007599Z",
     "shell.execute_reply": "2021-08-02T12:49:13.007180Z"
    },
    "papermill": {
     "duration": 0.135625,
     "end_time": "2021-08-02T12:49:13.007715",
     "exception": false,
     "start_time": "2021-08-02T12:49:12.872090",
     "status": "completed"
    },
    "tags": []
   },
   "outputs": [
    {
     "name": "stdout",
     "output_type": "stream",
     "text": [
      "195 roberta.encoder.layer.11.output.LayerNorm.weight\n",
      "196 roberta.encoder.layer.11.output.LayerNorm.bias\n",
      "197 roberta.pooler.dense.weight\n",
      "198 roberta.pooler.dense.bias\n",
      "199 pooler.layer_weights\n",
      "200 head1.W.weight\n",
      "201 head1.W.bias\n",
      "202 head1.V.weight\n",
      "203 head1.V.bias\n",
      "204 head2.W.weight\n",
      "205 head2.W.bias\n",
      "206 head2.V.weight\n",
      "207 head2.V.bias\n",
      "208 linear_out.weight\n",
      "209 linear_out.bias\n"
     ]
    }
   ],
   "source": [
    "for layer_num, (name, params) in enumerate(model.named_parameters()):\n",
    "    if layer_num >= 195:\n",
    "        print(layer_num, name)"
   ]
  },
  {
   "cell_type": "code",
   "execution_count": 15,
   "metadata": {
    "execution": {
     "iopub.execute_input": "2021-08-02T12:49:13.520901Z",
     "iopub.status.busy": "2021-08-02T12:49:13.519967Z",
     "iopub.status.idle": "2021-08-02T12:49:13.526045Z",
     "shell.execute_reply": "2021-08-02T12:49:13.525202Z"
    },
    "papermill": {
     "duration": 0.396009,
     "end_time": "2021-08-02T12:49:13.526177",
     "exception": false,
     "start_time": "2021-08-02T12:49:13.130168",
     "status": "completed"
    },
    "tags": []
   },
   "outputs": [
    {
     "data": {
      "text/plain": [
       "17919"
      ]
     },
     "execution_count": 15,
     "metadata": {},
     "output_type": "execute_result"
    }
   ],
   "source": [
    "del tokenizer, x_train, x_valid, train_dl, valid_dl, model, optimizer, scheduler, scaler, criterion\n",
    "gc.collect()"
   ]
  }
 ],
 "metadata": {
  "kernelspec": {
   "display_name": "Python 3",
   "language": "python",
   "name": "python3"
  },
  "language_info": {
   "codemirror_mode": {
    "name": "ipython",
    "version": 3
   },
   "file_extension": ".py",
   "mimetype": "text/x-python",
   "name": "python",
   "nbconvert_exporter": "python",
   "pygments_lexer": "ipython3",
   "version": "3.8.3"
  },
  "papermill": {
   "default_parameters": {},
   "duration": 3457.823173,
   "end_time": "2021-08-02T12:49:16.620780",
   "environment_variables": {},
   "exception": null,
   "input_path": "__notebook__.ipynb",
   "output_path": "__notebook__.ipynb",
   "parameters": {},
   "start_time": "2021-08-02T11:51:38.797607",
   "version": "2.3.3"
  }
 },
 "nbformat": 4,
 "nbformat_minor": 5
}
