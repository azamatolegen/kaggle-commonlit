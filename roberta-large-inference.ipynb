{
 "cells": [
  {
   "cell_type": "code",
   "execution_count": 1,
   "metadata": {
    "execution": {
     "iopub.execute_input": "2021-08-03T02:13:17.062338Z",
     "iopub.status.busy": "2021-08-03T02:13:17.061764Z",
     "iopub.status.idle": "2021-08-03T02:13:20.372253Z",
     "shell.execute_reply": "2021-08-03T02:13:20.371670Z",
     "shell.execute_reply.started": "2021-08-03T02:09:56.58829Z"
    },
    "papermill": {
     "duration": 3.330919,
     "end_time": "2021-08-03T02:13:20.372403",
     "exception": false,
     "start_time": "2021-08-03T02:13:17.041484",
     "status": "completed"
    },
    "tags": []
   },
   "outputs": [],
   "source": [
    "import os\n",
    "import gc\n",
    "import sys\n",
    "import cv2\n",
    "import math\n",
    "import time\n",
    "import tqdm\n",
    "import random\n",
    "import numpy as np\n",
    "import pandas as pd\n",
    "import seaborn as sns\n",
    "from tqdm import tqdm\n",
    "import matplotlib.pyplot as plt\n",
    "\n",
    "import warnings\n",
    "warnings.filterwarnings('ignore')\n",
    "\n",
    "from sklearn.model_selection import KFold,StratifiedKFold\n",
    "\n",
    "import torch\n",
    "import torchvision\n",
    "import torch.nn as nn\n",
    "import torch.optim as optim\n",
    "import torch.nn.functional as F\n",
    "from torch.utils.data import Dataset, DataLoader, Sampler, SequentialSampler\n",
    "\n",
    "import multiprocessing\n",
    "import more_itertools\n",
    "\n",
    "from transformers import (AutoModel, AutoConfig, AutoTokenizer, AutoModelForSequenceClassification)\n",
    "\n",
    "from colorama import Fore, Back, Style\n",
    "y_ = Fore.YELLOW\n",
    "r_ = Fore.RED\n",
    "g_ = Fore.GREEN\n",
    "b_ = Fore.BLUE\n",
    "m_ = Fore.MAGENTA\n",
    "c_ = Fore.CYAN\n",
    "sr_ = Style.RESET_ALL"
   ]
  },
  {
   "cell_type": "code",
   "execution_count": 2,
   "metadata": {
    "_cell_guid": "b1076dfc-b9ad-4769-8c92-a6c4dae69d19",
    "_kg_hide-input": true,
    "_uuid": "8f2839f25d086af736a60e9eeb907d3b93b6e0e5",
    "execution": {
     "iopub.execute_input": "2021-08-03T02:13:20.391560Z",
     "iopub.status.busy": "2021-08-03T02:13:20.391062Z",
     "iopub.status.idle": "2021-08-03T02:13:20.394389Z",
     "shell.execute_reply": "2021-08-03T02:13:20.394799Z",
     "shell.execute_reply.started": "2021-08-03T02:09:59.543657Z"
    },
    "papermill": {
     "duration": 0.014603,
     "end_time": "2021-08-03T02:13:20.394930",
     "exception": false,
     "start_time": "2021-08-03T02:13:20.380327",
     "status": "completed"
    },
    "tags": []
   },
   "outputs": [],
   "source": [
    "from pathlib import Path\n",
    "in_folder_path = Path('../input/final-clrp-roberta-large-finetuned')\n",
    "scripts_dir = Path(in_folder_path / 'scripts')"
   ]
  },
  {
   "cell_type": "code",
   "execution_count": 3,
   "metadata": {
    "execution": {
     "iopub.execute_input": "2021-08-03T02:13:20.414057Z",
     "iopub.status.busy": "2021-08-03T02:13:20.413514Z",
     "iopub.status.idle": "2021-08-03T02:13:20.434481Z",
     "shell.execute_reply": "2021-08-03T02:13:20.434083Z",
     "shell.execute_reply.started": "2021-08-03T02:09:59.550203Z"
    },
    "papermill": {
     "duration": 0.031929,
     "end_time": "2021-08-03T02:13:20.434587",
     "exception": false,
     "start_time": "2021-08-03T02:13:20.402658",
     "status": "completed"
    },
    "tags": []
   },
   "outputs": [],
   "source": [
    "os.chdir(scripts_dir)\n",
    "exec(Path(\"config.py\").read_text())\n",
    "exec(Path(\"dataset.py\").read_text())\n",
    "exec(Path(\"model.py\").read_text())\n",
    "os.chdir('/kaggle/working')"
   ]
  },
  {
   "cell_type": "code",
   "execution_count": 4,
   "metadata": {
    "execution": {
     "iopub.execute_input": "2021-08-03T02:13:20.454517Z",
     "iopub.status.busy": "2021-08-03T02:13:20.454013Z",
     "iopub.status.idle": "2021-08-03T02:13:20.634514Z",
     "shell.execute_reply": "2021-08-03T02:13:20.634936Z",
     "shell.execute_reply.started": "2021-08-03T02:09:59.59242Z"
    },
    "papermill": {
     "duration": 0.193074,
     "end_time": "2021-08-03T02:13:20.635104",
     "exception": false,
     "start_time": "2021-08-03T02:13:20.442030",
     "status": "completed"
    },
    "tags": []
   },
   "outputs": [],
   "source": [
    "test_df = pd.read_csv(\"/kaggle/input/commonlitreadabilityprize/test.csv\")\n",
    "tokenizer = AutoTokenizer.from_pretrained('../input/huggingface-roberta/roberta-large')\n",
    "models_folder_path = Path(in_folder_path / 'models')\n",
    "models_preds = []\n",
    "n_models = 5"
   ]
  },
  {
   "cell_type": "code",
   "execution_count": 5,
   "metadata": {
    "execution": {
     "iopub.execute_input": "2021-08-03T02:13:20.657108Z",
     "iopub.status.busy": "2021-08-03T02:13:20.656316Z",
     "iopub.status.idle": "2021-08-03T02:13:20.658698Z",
     "shell.execute_reply": "2021-08-03T02:13:20.659073Z",
     "shell.execute_reply.started": "2021-08-03T02:09:59.728198Z"
    },
    "papermill": {
     "duration": 0.016235,
     "end_time": "2021-08-03T02:13:20.659207",
     "exception": false,
     "start_time": "2021-08-03T02:13:20.642972",
     "status": "completed"
    },
    "tags": []
   },
   "outputs": [],
   "source": [
    "def seed_everything(seed=42):\n",
    "    random.seed(seed)\n",
    "    os.environ['PYTHONASSEED'] = str(seed)\n",
    "    np.random.seed(seed)\n",
    "    torch.manual_seed(seed)\n",
    "    torch.cuda.manual_seed(seed)\n",
    "    torch.backends.cudnn.deterministic = True\n",
    "    torch.backends.cudnn.benchmark = True"
   ]
  },
  {
   "cell_type": "code",
   "execution_count": 6,
   "metadata": {
    "execution": {
     "iopub.execute_input": "2021-08-03T02:13:20.682258Z",
     "iopub.status.busy": "2021-08-03T02:13:20.681644Z",
     "iopub.status.idle": "2021-08-03T02:15:50.875694Z",
     "shell.execute_reply": "2021-08-03T02:15:50.875206Z",
     "shell.execute_reply.started": "2021-08-03T02:09:59.735561Z"
    },
    "papermill": {
     "duration": 150.209103,
     "end_time": "2021-08-03T02:15:50.875835",
     "exception": false,
     "start_time": "2021-08-03T02:13:20.666732",
     "status": "completed"
    },
    "tags": []
   },
   "outputs": [
    {
     "name": "stdout",
     "output_type": "stream",
     "text": [
      "Inference#1/5\n",
      "Inference#2/5\n",
      "Inference#3/5\n",
      "Inference#4/5\n",
      "Inference#5/5\n"
     ]
    }
   ],
   "source": [
    "for model_num in range(n_models):\n",
    "    seed_everything(seed=Config.seed + model_num)\n",
    "    print(f'Inference#{model_num+1}/{n_models}')\n",
    "    \n",
    "    test_ds = CLRPDataset(data=test_df, tokenizer=tokenizer, max_len=Config.max_len, is_test=True)\n",
    "    test_sampler = SequentialSampler(test_ds)\n",
    "    test_dataloader = DataLoader(test_ds, sampler = test_sampler, batch_size=Config.batch_size)\n",
    "    \n",
    "    config = AutoConfig.from_pretrained('../input/huggingface-roberta/roberta-large')\n",
    "    config.update({\"output_hidden_states\":True, \"hidden_dropout_prob\": 0.0,\"layer_norm_eps\": 1e-7})\n",
    "    \n",
    "    model = CLRPModel('../input/huggingface-roberta/roberta-large')\n",
    "    model = torch.load(models_folder_path / f'CLRPModel_{model_num}.pt').to(Config.device)\n",
    "\n",
    "    all_preds = []\n",
    "    model.eval()\n",
    "\n",
    "    for step,batch in enumerate(test_dataloader):\n",
    "        sent_id, mask = batch['input_ids'].to(Config.device), batch['attention_mask'].to(Config.device)\n",
    "        with torch.no_grad():\n",
    "            preds = model(sent_id, mask)\n",
    "            all_preds += preds.flatten().cpu().tolist()\n",
    "    \n",
    "    models_preds.append(all_preds)"
   ]
  },
  {
   "cell_type": "code",
   "execution_count": 7,
   "metadata": {
    "execution": {
     "iopub.execute_input": "2021-08-03T02:15:50.904810Z",
     "iopub.status.busy": "2021-08-03T02:15:50.903946Z",
     "iopub.status.idle": "2021-08-03T02:15:51.078744Z",
     "shell.execute_reply": "2021-08-03T02:15:51.078220Z",
     "shell.execute_reply.started": "2021-08-03T02:11:58.079705Z"
    },
    "papermill": {
     "duration": 0.190638,
     "end_time": "2021-08-03T02:15:51.078865",
     "exception": false,
     "start_time": "2021-08-03T02:15:50.888227",
     "status": "completed"
    },
    "tags": []
   },
   "outputs": [
    {
     "name": "stdout",
     "output_type": "stream",
     "text": [
      "(5, 7)\n",
      "[[-0.55113876 -0.34380105 -0.49665588 -2.36000586 -1.78107643 -1.15263045\n",
      "   0.24086733]\n",
      " [-0.63002014 -0.35222095 -0.39688    -2.2310462  -1.81024551 -1.16065764\n",
      "   0.4702352 ]\n",
      " [-0.54211235 -0.44907802 -0.51143807 -2.34893084 -1.90068424 -0.96490979\n",
      "   0.16695571]\n",
      " [-0.63765979 -0.28730297 -0.37110433 -2.30051732 -1.8460176  -1.28922296\n",
      "   0.39916942]\n",
      " [-0.39447218 -0.34987035 -0.37423345 -2.294415   -1.78868854 -1.23625112\n",
      "   0.30187508]]\n",
      "(7,)\n"
     ]
    },
    {
     "data": {
      "text/html": [
       "<div>\n",
       "<style scoped>\n",
       "    .dataframe tbody tr th:only-of-type {\n",
       "        vertical-align: middle;\n",
       "    }\n",
       "\n",
       "    .dataframe tbody tr th {\n",
       "        vertical-align: top;\n",
       "    }\n",
       "\n",
       "    .dataframe thead th {\n",
       "        text-align: right;\n",
       "    }\n",
       "</style>\n",
       "<table border=\"1\" class=\"dataframe\">\n",
       "  <thead>\n",
       "    <tr style=\"text-align: right;\">\n",
       "      <th></th>\n",
       "      <th>id</th>\n",
       "      <th>target</th>\n",
       "    </tr>\n",
       "  </thead>\n",
       "  <tbody>\n",
       "    <tr>\n",
       "      <th>0</th>\n",
       "      <td>c0f722661</td>\n",
       "      <td>-0.551081</td>\n",
       "    </tr>\n",
       "    <tr>\n",
       "      <th>1</th>\n",
       "      <td>f0953f0a5</td>\n",
       "      <td>-0.356455</td>\n",
       "    </tr>\n",
       "    <tr>\n",
       "      <th>2</th>\n",
       "      <td>0df072751</td>\n",
       "      <td>-0.430062</td>\n",
       "    </tr>\n",
       "    <tr>\n",
       "      <th>3</th>\n",
       "      <td>04caf4e0c</td>\n",
       "      <td>-2.306983</td>\n",
       "    </tr>\n",
       "    <tr>\n",
       "      <th>4</th>\n",
       "      <td>0e63f8bea</td>\n",
       "      <td>-1.825342</td>\n",
       "    </tr>\n",
       "    <tr>\n",
       "      <th>5</th>\n",
       "      <td>12537fe78</td>\n",
       "      <td>-1.160734</td>\n",
       "    </tr>\n",
       "    <tr>\n",
       "      <th>6</th>\n",
       "      <td>965e592c0</td>\n",
       "      <td>0.315821</td>\n",
       "    </tr>\n",
       "  </tbody>\n",
       "</table>\n",
       "</div>"
      ],
      "text/plain": [
       "          id    target\n",
       "0  c0f722661 -0.551081\n",
       "1  f0953f0a5 -0.356455\n",
       "2  0df072751 -0.430062\n",
       "3  04caf4e0c -2.306983\n",
       "4  0e63f8bea -1.825342\n",
       "5  12537fe78 -1.160734\n",
       "6  965e592c0  0.315821"
      ]
     },
     "execution_count": 7,
     "metadata": {},
     "output_type": "execute_result"
    }
   ],
   "source": [
    "models_preds = np.array(models_preds)\n",
    "print(models_preds.shape)\n",
    "print(models_preds)\n",
    "all_preds = models_preds.mean(axis=0)\n",
    "print(all_preds.shape)\n",
    "result_df = pd.DataFrame(\n",
    "    {\n",
    "        'id': test_df.id,\n",
    "        'target': all_preds\n",
    "    })\n",
    "\n",
    "\n",
    "result_df.to_csv('submission.csv', index=False)\n",
    "result_df.head(10)"
   ]
  },
  {
   "cell_type": "code",
   "execution_count": null,
   "metadata": {
    "papermill": {
     "duration": 0.009309,
     "end_time": "2021-08-03T02:15:51.097627",
     "exception": false,
     "start_time": "2021-08-03T02:15:51.088318",
     "status": "completed"
    },
    "tags": []
   },
   "outputs": [],
   "source": []
  },
  {
   "cell_type": "code",
   "execution_count": null,
   "metadata": {
    "papermill": {
     "duration": 0.009091,
     "end_time": "2021-08-03T02:15:51.116218",
     "exception": false,
     "start_time": "2021-08-03T02:15:51.107127",
     "status": "completed"
    },
    "tags": []
   },
   "outputs": [],
   "source": []
  }
 ],
 "metadata": {
  "kernelspec": {
   "display_name": "Python 3",
   "language": "python",
   "name": "python3"
  },
  "language_info": {
   "codemirror_mode": {
    "name": "ipython",
    "version": 3
   },
   "file_extension": ".py",
   "mimetype": "text/x-python",
   "name": "python",
   "nbconvert_exporter": "python",
   "pygments_lexer": "ipython3",
   "version": "3.8.3"
  },
  "papermill": {
   "default_parameters": {},
   "duration": 162.726437,
   "end_time": "2021-08-03T02:15:52.999334",
   "environment_variables": {},
   "exception": null,
   "input_path": "__notebook__.ipynb",
   "output_path": "__notebook__.ipynb",
   "parameters": {},
   "start_time": "2021-08-03T02:13:10.272897",
   "version": "2.3.3"
  }
 },
 "nbformat": 4,
 "nbformat_minor": 5
}
